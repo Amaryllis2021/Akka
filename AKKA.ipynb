{
  "nbformat": 4,
  "nbformat_minor": 0,
  "metadata": {
    "colab": {
      "provenance": [],
      "authorship_tag": "ABX9TyNh8PKRhGancvz+biATLfjo"
    },
    "kernelspec": {
      "name": "python3",
      "display_name": "Python 3"
    },
    "language_info": {
      "name": "python"
    }
  },
  "cells": [
    {
      "cell_type": "markdown",
      "source": [
        "AKKA TECHNOLOGIES\n",
        "\n",
        "As a global leader in engineering consulting and R&D services, AKKA supports the world's leading industry players in their digital transformation and throughout their entire product life cycle. \n",
        "\n",
        "Let's analyze AKKA's stocks and learn how to use Kaleido to generate PDF documents."
      ],
      "metadata": {
        "id": "1MY40RTOAc3R"
      }
    },
    {
      "cell_type": "code",
      "execution_count": 1,
      "metadata": {
        "colab": {
          "base_uri": "https://localhost:8080/"
        },
        "id": "L9viFt0Y-Nz6",
        "outputId": "88fc19f8-e835-4dcd-efce-74e4a43bb170"
      },
      "outputs": [
        {
          "output_type": "stream",
          "name": "stdout",
          "text": [
            "Looking in indexes: https://pypi.org/simple, https://us-python.pkg.dev/colab-wheels/public/simple/\n",
            "Requirement already satisfied: yfinance in /usr/local/lib/python3.8/dist-packages (0.2.10)\n",
            "Requirement already satisfied: multitasking>=0.0.7 in /usr/local/lib/python3.8/dist-packages (from yfinance) (0.0.11)\n",
            "Requirement already satisfied: lxml>=4.9.1 in /usr/local/lib/python3.8/dist-packages (from yfinance) (4.9.2)\n",
            "Requirement already satisfied: html5lib>=1.1 in /usr/local/lib/python3.8/dist-packages (from yfinance) (1.1)\n",
            "Requirement already satisfied: requests>=2.26 in /usr/local/lib/python3.8/dist-packages (from yfinance) (2.28.2)\n",
            "Requirement already satisfied: frozendict>=2.3.4 in /usr/local/lib/python3.8/dist-packages (from yfinance) (2.3.4)\n",
            "Requirement already satisfied: numpy>=1.16.5 in /usr/local/lib/python3.8/dist-packages (from yfinance) (1.21.6)\n",
            "Requirement already satisfied: pandas>=1.3.0 in /usr/local/lib/python3.8/dist-packages (from yfinance) (1.3.5)\n",
            "Requirement already satisfied: cryptography>=3.3.2 in /usr/local/lib/python3.8/dist-packages (from yfinance) (39.0.1)\n",
            "Requirement already satisfied: appdirs>=1.4.4 in /usr/local/lib/python3.8/dist-packages (from yfinance) (1.4.4)\n",
            "Requirement already satisfied: beautifulsoup4>=4.11.1 in /usr/local/lib/python3.8/dist-packages (from yfinance) (4.11.2)\n",
            "Requirement already satisfied: pytz>=2022.5 in /usr/local/lib/python3.8/dist-packages (from yfinance) (2022.7.1)\n",
            "Requirement already satisfied: soupsieve>1.2 in /usr/local/lib/python3.8/dist-packages (from beautifulsoup4>=4.11.1->yfinance) (2.3.2.post1)\n",
            "Requirement already satisfied: cffi>=1.12 in /usr/local/lib/python3.8/dist-packages (from cryptography>=3.3.2->yfinance) (1.15.1)\n",
            "Requirement already satisfied: webencodings in /usr/local/lib/python3.8/dist-packages (from html5lib>=1.1->yfinance) (0.5.1)\n",
            "Requirement already satisfied: six>=1.9 in /usr/local/lib/python3.8/dist-packages (from html5lib>=1.1->yfinance) (1.15.0)\n",
            "Requirement already satisfied: python-dateutil>=2.7.3 in /usr/local/lib/python3.8/dist-packages (from pandas>=1.3.0->yfinance) (2.8.2)\n",
            "Requirement already satisfied: certifi>=2017.4.17 in /usr/local/lib/python3.8/dist-packages (from requests>=2.26->yfinance) (2022.12.7)\n",
            "Requirement already satisfied: urllib3<1.27,>=1.21.1 in /usr/local/lib/python3.8/dist-packages (from requests>=2.26->yfinance) (1.24.3)\n",
            "Requirement already satisfied: idna<4,>=2.5 in /usr/local/lib/python3.8/dist-packages (from requests>=2.26->yfinance) (2.10)\n",
            "Requirement already satisfied: charset-normalizer<4,>=2 in /usr/local/lib/python3.8/dist-packages (from requests>=2.26->yfinance) (2.1.1)\n",
            "Requirement already satisfied: pycparser in /usr/local/lib/python3.8/dist-packages (from cffi>=1.12->cryptography>=3.3.2->yfinance) (2.21)\n"
          ]
        }
      ],
      "source": [
        "# Install all packages\n",
        "# Finance market\n",
        "!pip install yfinance --upgrade --no-cache-dir"
      ]
    },
    {
      "cell_type": "markdown",
      "source": [],
      "metadata": {
        "id": "_75cWifw_MSu"
      }
    },
    {
      "cell_type": "code",
      "source": [
        "# Libraries\n",
        "\n",
        "\n",
        "# Packages for data analysis\n",
        "import pandas as pd\n",
        "import pandas_datareader.data as web\n",
        "import numpy as np\n",
        "\n",
        "# Graphics\n",
        "import matplotlib.pyplot as plt\n",
        "import seaborn as sns\n",
        "import plotly.graph_objects as go\n",
        "import plotly.express as px\n",
        "from plotly.subplots import make_subplots\n",
        "\n",
        "# Date function\n",
        "from datetime import datetime\n",
        "\n",
        "# YFiance\n",
        "import yfinance as yf\n",
        "yf.pdr_override()\n",
        "\n",
        "# Warnings\n",
        "import warnings\n",
        "warnings.filterwarnings('ignore')"
      ],
      "metadata": {
        "id": "SDcFsSMy_Mw_"
      },
      "execution_count": 2,
      "outputs": []
    },
    {
      "cell_type": "markdown",
      "source": [],
      "metadata": {
        "id": "BXm7oX9J_lNw"
      }
    },
    {
      "cell_type": "code",
      "source": [
        "# Collecting data\n",
        "Data = web.get_data_yahoo('AKA', period='1y' )\n",
        "\n",
        "# Shape\n",
        "Data.shape"
      ],
      "metadata": {
        "colab": {
          "base_uri": "https://localhost:8080/"
        },
        "id": "xLRSrlfh_l3W",
        "outputId": "7ba40c96-d241-4b63-de1f-fae984169eb3"
      },
      "execution_count": 3,
      "outputs": [
        {
          "output_type": "stream",
          "name": "stdout",
          "text": [
            "\r[*********************100%***********************]  1 of 1 completed\n"
          ]
        },
        {
          "output_type": "execute_result",
          "data": {
            "text/plain": [
              "(251, 6)"
            ]
          },
          "metadata": {},
          "execution_count": 3
        }
      ]
    },
    {
      "cell_type": "code",
      "source": [
        "#Verify the data\n",
        "Data.head()"
      ],
      "metadata": {
        "colab": {
          "base_uri": "https://localhost:8080/",
          "height": 213
        },
        "id": "uy_QDHbaBK-z",
        "outputId": "55882005-45ad-4198-cb45-16932b010245"
      },
      "execution_count": 4,
      "outputs": [
        {
          "output_type": "execute_result",
          "data": {
            "text/plain": [
              "            Open  High   Low  Close  Adj Close  Volume\n",
              "Date                                                  \n",
              "2022-02-08  7.61  7.87  7.45   7.81       7.81  273300\n",
              "2022-02-09  7.93  8.17  7.81   7.94       7.94  190500\n",
              "2022-02-10  7.70  8.35  7.66   8.06       8.06  228700\n",
              "2022-02-11  7.98  8.25  7.71   7.95       7.95  273500\n",
              "2022-02-14  7.96  8.18  7.83   7.96       7.96  208900"
            ],
            "text/html": [
              "\n",
              "  <div id=\"df-b3fbec20-beb5-4749-b9c4-faa266b3e693\">\n",
              "    <div class=\"colab-df-container\">\n",
              "      <div>\n",
              "<style scoped>\n",
              "    .dataframe tbody tr th:only-of-type {\n",
              "        vertical-align: middle;\n",
              "    }\n",
              "\n",
              "    .dataframe tbody tr th {\n",
              "        vertical-align: top;\n",
              "    }\n",
              "\n",
              "    .dataframe thead th {\n",
              "        text-align: right;\n",
              "    }\n",
              "</style>\n",
              "<table border=\"1\" class=\"dataframe\">\n",
              "  <thead>\n",
              "    <tr style=\"text-align: right;\">\n",
              "      <th></th>\n",
              "      <th>Open</th>\n",
              "      <th>High</th>\n",
              "      <th>Low</th>\n",
              "      <th>Close</th>\n",
              "      <th>Adj Close</th>\n",
              "      <th>Volume</th>\n",
              "    </tr>\n",
              "    <tr>\n",
              "      <th>Date</th>\n",
              "      <th></th>\n",
              "      <th></th>\n",
              "      <th></th>\n",
              "      <th></th>\n",
              "      <th></th>\n",
              "      <th></th>\n",
              "    </tr>\n",
              "  </thead>\n",
              "  <tbody>\n",
              "    <tr>\n",
              "      <th>2022-02-08</th>\n",
              "      <td>7.61</td>\n",
              "      <td>7.87</td>\n",
              "      <td>7.45</td>\n",
              "      <td>7.81</td>\n",
              "      <td>7.81</td>\n",
              "      <td>273300</td>\n",
              "    </tr>\n",
              "    <tr>\n",
              "      <th>2022-02-09</th>\n",
              "      <td>7.93</td>\n",
              "      <td>8.17</td>\n",
              "      <td>7.81</td>\n",
              "      <td>7.94</td>\n",
              "      <td>7.94</td>\n",
              "      <td>190500</td>\n",
              "    </tr>\n",
              "    <tr>\n",
              "      <th>2022-02-10</th>\n",
              "      <td>7.70</td>\n",
              "      <td>8.35</td>\n",
              "      <td>7.66</td>\n",
              "      <td>8.06</td>\n",
              "      <td>8.06</td>\n",
              "      <td>228700</td>\n",
              "    </tr>\n",
              "    <tr>\n",
              "      <th>2022-02-11</th>\n",
              "      <td>7.98</td>\n",
              "      <td>8.25</td>\n",
              "      <td>7.71</td>\n",
              "      <td>7.95</td>\n",
              "      <td>7.95</td>\n",
              "      <td>273500</td>\n",
              "    </tr>\n",
              "    <tr>\n",
              "      <th>2022-02-14</th>\n",
              "      <td>7.96</td>\n",
              "      <td>8.18</td>\n",
              "      <td>7.83</td>\n",
              "      <td>7.96</td>\n",
              "      <td>7.96</td>\n",
              "      <td>208900</td>\n",
              "    </tr>\n",
              "  </tbody>\n",
              "</table>\n",
              "</div>\n",
              "      <button class=\"colab-df-convert\" onclick=\"convertToInteractive('df-b3fbec20-beb5-4749-b9c4-faa266b3e693')\"\n",
              "              title=\"Convert this dataframe to an interactive table.\"\n",
              "              style=\"display:none;\">\n",
              "        \n",
              "  <svg xmlns=\"http://www.w3.org/2000/svg\" height=\"24px\"viewBox=\"0 0 24 24\"\n",
              "       width=\"24px\">\n",
              "    <path d=\"M0 0h24v24H0V0z\" fill=\"none\"/>\n",
              "    <path d=\"M18.56 5.44l.94 2.06.94-2.06 2.06-.94-2.06-.94-.94-2.06-.94 2.06-2.06.94zm-11 1L8.5 8.5l.94-2.06 2.06-.94-2.06-.94L8.5 2.5l-.94 2.06-2.06.94zm10 10l.94 2.06.94-2.06 2.06-.94-2.06-.94-.94-2.06-.94 2.06-2.06.94z\"/><path d=\"M17.41 7.96l-1.37-1.37c-.4-.4-.92-.59-1.43-.59-.52 0-1.04.2-1.43.59L10.3 9.45l-7.72 7.72c-.78.78-.78 2.05 0 2.83L4 21.41c.39.39.9.59 1.41.59.51 0 1.02-.2 1.41-.59l7.78-7.78 2.81-2.81c.8-.78.8-2.07 0-2.86zM5.41 20L4 18.59l7.72-7.72 1.47 1.35L5.41 20z\"/>\n",
              "  </svg>\n",
              "      </button>\n",
              "      \n",
              "  <style>\n",
              "    .colab-df-container {\n",
              "      display:flex;\n",
              "      flex-wrap:wrap;\n",
              "      gap: 12px;\n",
              "    }\n",
              "\n",
              "    .colab-df-convert {\n",
              "      background-color: #E8F0FE;\n",
              "      border: none;\n",
              "      border-radius: 50%;\n",
              "      cursor: pointer;\n",
              "      display: none;\n",
              "      fill: #1967D2;\n",
              "      height: 32px;\n",
              "      padding: 0 0 0 0;\n",
              "      width: 32px;\n",
              "    }\n",
              "\n",
              "    .colab-df-convert:hover {\n",
              "      background-color: #E2EBFA;\n",
              "      box-shadow: 0px 1px 2px rgba(60, 64, 67, 0.3), 0px 1px 3px 1px rgba(60, 64, 67, 0.15);\n",
              "      fill: #174EA6;\n",
              "    }\n",
              "\n",
              "    [theme=dark] .colab-df-convert {\n",
              "      background-color: #3B4455;\n",
              "      fill: #D2E3FC;\n",
              "    }\n",
              "\n",
              "    [theme=dark] .colab-df-convert:hover {\n",
              "      background-color: #434B5C;\n",
              "      box-shadow: 0px 1px 3px 1px rgba(0, 0, 0, 0.15);\n",
              "      filter: drop-shadow(0px 1px 2px rgba(0, 0, 0, 0.3));\n",
              "      fill: #FFFFFF;\n",
              "    }\n",
              "  </style>\n",
              "\n",
              "      <script>\n",
              "        const buttonEl =\n",
              "          document.querySelector('#df-b3fbec20-beb5-4749-b9c4-faa266b3e693 button.colab-df-convert');\n",
              "        buttonEl.style.display =\n",
              "          google.colab.kernel.accessAllowed ? 'block' : 'none';\n",
              "\n",
              "        async function convertToInteractive(key) {\n",
              "          const element = document.querySelector('#df-b3fbec20-beb5-4749-b9c4-faa266b3e693');\n",
              "          const dataTable =\n",
              "            await google.colab.kernel.invokeFunction('convertToInteractive',\n",
              "                                                     [key], {});\n",
              "          if (!dataTable) return;\n",
              "\n",
              "          const docLinkHtml = 'Like what you see? Visit the ' +\n",
              "            '<a target=\"_blank\" href=https://colab.research.google.com/notebooks/data_table.ipynb>data table notebook</a>'\n",
              "            + ' to learn more about interactive tables.';\n",
              "          element.innerHTML = '';\n",
              "          dataTable['output_type'] = 'display_data';\n",
              "          await google.colab.output.renderOutput(dataTable, element);\n",
              "          const docLink = document.createElement('div');\n",
              "          docLink.innerHTML = docLinkHtml;\n",
              "          element.appendChild(docLink);\n",
              "        }\n",
              "      </script>\n",
              "    </div>\n",
              "  </div>\n",
              "  "
            ]
          },
          "metadata": {},
          "execution_count": 4
        }
      ]
    },
    {
      "cell_type": "code",
      "source": [
        "#Last regists\n",
        "Data.tail()"
      ],
      "metadata": {
        "colab": {
          "base_uri": "https://localhost:8080/",
          "height": 213
        },
        "id": "QNevTv9NBhze",
        "outputId": "77ee6c2b-2d77-4aef-f2e7-6838d7243c80"
      },
      "execution_count": 5,
      "outputs": [
        {
          "output_type": "execute_result",
          "data": {
            "text/plain": [
              "            Open   High    Low  Close  Adj Close  Volume\n",
              "Date                                                    \n",
              "2023-02-01  1.50  1.545  1.480   1.52       1.52   35200\n",
              "2023-02-02  1.53  1.590  1.510   1.51       1.51   76200\n",
              "2023-02-03  1.51  1.600  1.471   1.57       1.57   56800\n",
              "2023-02-06  1.57  1.580  1.530   1.54       1.54   16700\n",
              "2023-02-07  1.52  1.580  1.530   1.55       1.55   21910"
            ],
            "text/html": [
              "\n",
              "  <div id=\"df-30d7aabe-882e-42df-a14a-c9186df0844a\">\n",
              "    <div class=\"colab-df-container\">\n",
              "      <div>\n",
              "<style scoped>\n",
              "    .dataframe tbody tr th:only-of-type {\n",
              "        vertical-align: middle;\n",
              "    }\n",
              "\n",
              "    .dataframe tbody tr th {\n",
              "        vertical-align: top;\n",
              "    }\n",
              "\n",
              "    .dataframe thead th {\n",
              "        text-align: right;\n",
              "    }\n",
              "</style>\n",
              "<table border=\"1\" class=\"dataframe\">\n",
              "  <thead>\n",
              "    <tr style=\"text-align: right;\">\n",
              "      <th></th>\n",
              "      <th>Open</th>\n",
              "      <th>High</th>\n",
              "      <th>Low</th>\n",
              "      <th>Close</th>\n",
              "      <th>Adj Close</th>\n",
              "      <th>Volume</th>\n",
              "    </tr>\n",
              "    <tr>\n",
              "      <th>Date</th>\n",
              "      <th></th>\n",
              "      <th></th>\n",
              "      <th></th>\n",
              "      <th></th>\n",
              "      <th></th>\n",
              "      <th></th>\n",
              "    </tr>\n",
              "  </thead>\n",
              "  <tbody>\n",
              "    <tr>\n",
              "      <th>2023-02-01</th>\n",
              "      <td>1.50</td>\n",
              "      <td>1.545</td>\n",
              "      <td>1.480</td>\n",
              "      <td>1.52</td>\n",
              "      <td>1.52</td>\n",
              "      <td>35200</td>\n",
              "    </tr>\n",
              "    <tr>\n",
              "      <th>2023-02-02</th>\n",
              "      <td>1.53</td>\n",
              "      <td>1.590</td>\n",
              "      <td>1.510</td>\n",
              "      <td>1.51</td>\n",
              "      <td>1.51</td>\n",
              "      <td>76200</td>\n",
              "    </tr>\n",
              "    <tr>\n",
              "      <th>2023-02-03</th>\n",
              "      <td>1.51</td>\n",
              "      <td>1.600</td>\n",
              "      <td>1.471</td>\n",
              "      <td>1.57</td>\n",
              "      <td>1.57</td>\n",
              "      <td>56800</td>\n",
              "    </tr>\n",
              "    <tr>\n",
              "      <th>2023-02-06</th>\n",
              "      <td>1.57</td>\n",
              "      <td>1.580</td>\n",
              "      <td>1.530</td>\n",
              "      <td>1.54</td>\n",
              "      <td>1.54</td>\n",
              "      <td>16700</td>\n",
              "    </tr>\n",
              "    <tr>\n",
              "      <th>2023-02-07</th>\n",
              "      <td>1.52</td>\n",
              "      <td>1.580</td>\n",
              "      <td>1.530</td>\n",
              "      <td>1.55</td>\n",
              "      <td>1.55</td>\n",
              "      <td>21910</td>\n",
              "    </tr>\n",
              "  </tbody>\n",
              "</table>\n",
              "</div>\n",
              "      <button class=\"colab-df-convert\" onclick=\"convertToInteractive('df-30d7aabe-882e-42df-a14a-c9186df0844a')\"\n",
              "              title=\"Convert this dataframe to an interactive table.\"\n",
              "              style=\"display:none;\">\n",
              "        \n",
              "  <svg xmlns=\"http://www.w3.org/2000/svg\" height=\"24px\"viewBox=\"0 0 24 24\"\n",
              "       width=\"24px\">\n",
              "    <path d=\"M0 0h24v24H0V0z\" fill=\"none\"/>\n",
              "    <path d=\"M18.56 5.44l.94 2.06.94-2.06 2.06-.94-2.06-.94-.94-2.06-.94 2.06-2.06.94zm-11 1L8.5 8.5l.94-2.06 2.06-.94-2.06-.94L8.5 2.5l-.94 2.06-2.06.94zm10 10l.94 2.06.94-2.06 2.06-.94-2.06-.94-.94-2.06-.94 2.06-2.06.94z\"/><path d=\"M17.41 7.96l-1.37-1.37c-.4-.4-.92-.59-1.43-.59-.52 0-1.04.2-1.43.59L10.3 9.45l-7.72 7.72c-.78.78-.78 2.05 0 2.83L4 21.41c.39.39.9.59 1.41.59.51 0 1.02-.2 1.41-.59l7.78-7.78 2.81-2.81c.8-.78.8-2.07 0-2.86zM5.41 20L4 18.59l7.72-7.72 1.47 1.35L5.41 20z\"/>\n",
              "  </svg>\n",
              "      </button>\n",
              "      \n",
              "  <style>\n",
              "    .colab-df-container {\n",
              "      display:flex;\n",
              "      flex-wrap:wrap;\n",
              "      gap: 12px;\n",
              "    }\n",
              "\n",
              "    .colab-df-convert {\n",
              "      background-color: #E8F0FE;\n",
              "      border: none;\n",
              "      border-radius: 50%;\n",
              "      cursor: pointer;\n",
              "      display: none;\n",
              "      fill: #1967D2;\n",
              "      height: 32px;\n",
              "      padding: 0 0 0 0;\n",
              "      width: 32px;\n",
              "    }\n",
              "\n",
              "    .colab-df-convert:hover {\n",
              "      background-color: #E2EBFA;\n",
              "      box-shadow: 0px 1px 2px rgba(60, 64, 67, 0.3), 0px 1px 3px 1px rgba(60, 64, 67, 0.15);\n",
              "      fill: #174EA6;\n",
              "    }\n",
              "\n",
              "    [theme=dark] .colab-df-convert {\n",
              "      background-color: #3B4455;\n",
              "      fill: #D2E3FC;\n",
              "    }\n",
              "\n",
              "    [theme=dark] .colab-df-convert:hover {\n",
              "      background-color: #434B5C;\n",
              "      box-shadow: 0px 1px 3px 1px rgba(0, 0, 0, 0.15);\n",
              "      filter: drop-shadow(0px 1px 2px rgba(0, 0, 0, 0.3));\n",
              "      fill: #FFFFFF;\n",
              "    }\n",
              "  </style>\n",
              "\n",
              "      <script>\n",
              "        const buttonEl =\n",
              "          document.querySelector('#df-30d7aabe-882e-42df-a14a-c9186df0844a button.colab-df-convert');\n",
              "        buttonEl.style.display =\n",
              "          google.colab.kernel.accessAllowed ? 'block' : 'none';\n",
              "\n",
              "        async function convertToInteractive(key) {\n",
              "          const element = document.querySelector('#df-30d7aabe-882e-42df-a14a-c9186df0844a');\n",
              "          const dataTable =\n",
              "            await google.colab.kernel.invokeFunction('convertToInteractive',\n",
              "                                                     [key], {});\n",
              "          if (!dataTable) return;\n",
              "\n",
              "          const docLinkHtml = 'Like what you see? Visit the ' +\n",
              "            '<a target=\"_blank\" href=https://colab.research.google.com/notebooks/data_table.ipynb>data table notebook</a>'\n",
              "            + ' to learn more about interactive tables.';\n",
              "          element.innerHTML = '';\n",
              "          dataTable['output_type'] = 'display_data';\n",
              "          await google.colab.output.renderOutput(dataTable, element);\n",
              "          const docLink = document.createElement('div');\n",
              "          docLink.innerHTML = docLinkHtml;\n",
              "          element.appendChild(docLink);\n",
              "        }\n",
              "      </script>\n",
              "    </div>\n",
              "  </div>\n",
              "  "
            ]
          },
          "metadata": {},
          "execution_count": 5
        }
      ]
    },
    {
      "cell_type": "code",
      "source": [
        "#Informations\n",
        "Data.info()"
      ],
      "metadata": {
        "colab": {
          "base_uri": "https://localhost:8080/"
        },
        "id": "DIXhFleFBse9",
        "outputId": "75c57a1e-eca4-4638-ed81-3b126db8ce92"
      },
      "execution_count": 6,
      "outputs": [
        {
          "output_type": "stream",
          "name": "stdout",
          "text": [
            "<class 'pandas.core.frame.DataFrame'>\n",
            "DatetimeIndex: 251 entries, 2022-02-08 to 2023-02-07\n",
            "Data columns (total 6 columns):\n",
            " #   Column     Non-Null Count  Dtype  \n",
            "---  ------     --------------  -----  \n",
            " 0   Open       251 non-null    float64\n",
            " 1   High       251 non-null    float64\n",
            " 2   Low        251 non-null    float64\n",
            " 3   Close      251 non-null    float64\n",
            " 4   Adj Close  251 non-null    float64\n",
            " 5   Volume     251 non-null    int64  \n",
            "dtypes: float64(5), int64(1)\n",
            "memory usage: 13.7 KB\n"
          ]
        }
      ]
    },
    {
      "cell_type": "markdown",
      "source": [
        "Moving average\n",
        "\n",
        "The moving average is an indicator that is part of Stock Technical Analysis. With it, it is possible to identify the balance of prices in the market, observing trends of high, neutral, or low. The graphical representation of moving averages is usually made by a line that moves as new data is received for calculation.\n",
        "\n",
        "What is the moving average?\n",
        "\n",
        "In stock market analysis, moving average is a statistical calculation that provides the average price of a security over a specific time period (e.g., 50-day moving average, 200-day moving average) by continuously adding up the closing prices of a security over that time period and dividing the sum by the number of periods. Moving averages are used to identify trends and make investment decisions.\n",
        "\n",
        "The moving average is an important indicator that smooths stock price data to form an indicator that follows the trend.\n",
        "\n",
        "And how to calculate it?\n",
        "Here is the step by step process to calculate a simple moving average:\n",
        "\n",
        "1. Choose the time period for the moving average (e.g. 50 days, 100 days, 200 days).\n",
        "\n",
        "2. Collect the closing price data for the security being analyzed for the chosen time period.\n",
        "\n",
        "3. Add up the closing prices of the security for the first X days (where X is the chosen time period).\n",
        "\n",
        "4. Divide the sum by the number of periods (X). This will give you the average price for the first X days.\n",
        "\n",
        "5. Repeat steps 3 and 4 for each subsequent period (e.g. for the next 50 days, then the next 50 days, and so on) until you have calculated the average price for the entire chosen time period.\n",
        "\n",
        "6. Plot the calculated moving averages on a chart along with the price data for the security. The moving average line will show the trend of the security over the chosen time period.\n",
        "\n",
        "Note: There are different types of moving averages, such as simple moving average (SMA), exponential moving average (EMA), and weighted moving average (WMA). The calculation steps for these different types may vary slightly, but the basic concept remains the same.\n",
        "\n",
        "Just use the formula: MA = Sum of closing prices ÷ Number of days\n",
        "\n",
        "Consider the 5-day arithmetic moving average and its evolution over 3 days, where the daily closing prices are:\n",
        "11,12,13,14,15,16, and 17.\n",
        "\n",
        "First day of 5-day MA: (11 + 12 + 13 + 14 + 15) ÷ 5 = 13\n",
        "Second day of 5-day MA: (12 + 13 + 14 + 15 + 16) ÷ 5 = 14\n",
        "Third day of 5-day MA: (13 + 14 + 15 + 16 + 17) ÷ 5 = 15\n",
        "\n"
      ],
      "metadata": {
        "id": "8gkoKcSdCZ8H"
      }
    },
    {
      "cell_type": "code",
      "source": [
        "#simple mean\n",
        "List = [11, 12, 13, 15, 16, 17]\n",
        "from statistics import mean as Mean\n",
        "print(f'Mean: { Mean(List) }')\n",
        "print(f'Mean: { (11+12+13+15+16+17) / len(List) } ')"
      ],
      "metadata": {
        "colab": {
          "base_uri": "https://localhost:8080/"
        },
        "id": "xY8QA5fYC3mg",
        "outputId": "cc6f5d96-5230-4818-9280-b11cb8bd2a46"
      },
      "execution_count": 7,
      "outputs": [
        {
          "output_type": "stream",
          "name": "stdout",
          "text": [
            "Mean: 14\n",
            "Mean: 14.0 \n"
          ]
        }
      ]
    },
    {
      "cell_type": "code",
      "source": [
        "Mean (List)"
      ],
      "metadata": {
        "colab": {
          "base_uri": "https://localhost:8080/"
        },
        "id": "1nAhB7A7DZ3H",
        "outputId": "5e2d86b5-52c5-448c-c670-bc19cd9d266d"
      },
      "execution_count": 8,
      "outputs": [
        {
          "output_type": "execute_result",
          "data": {
            "text/plain": [
              "14"
            ]
          },
          "metadata": {},
          "execution_count": 8
        }
      ]
    },
    {
      "cell_type": "code",
      "source": [
        "#Time of Moving average\n",
        "n = 5\n",
        "\n",
        "for Interval in range(3):\n",
        "  print(f'{Interval}ª Day: { sum(List[Interval:n]) / 5 }')"
      ],
      "metadata": {
        "colab": {
          "base_uri": "https://localhost:8080/"
        },
        "id": "uofMP4xjDfX3",
        "outputId": "2e88be56-1998-4c4a-e9e9-6f1377c20c5e"
      },
      "execution_count": 9,
      "outputs": [
        {
          "output_type": "stream",
          "name": "stdout",
          "text": [
            "0ª Day: 13.4\n",
            "1ª Day: 11.2\n",
            "2ª Day: 8.8\n"
          ]
        }
      ]
    },
    {
      "cell_type": "code",
      "source": [
        "# Plot\n",
        "plt.plot( Data['Close'] )\n",
        "plt.title('Closing Price');"
      ],
      "metadata": {
        "colab": {
          "base_uri": "https://localhost:8080/",
          "height": 281
        },
        "id": "ZwmNr0ytEGBo",
        "outputId": "2c035b23-9584-44ee-c9aa-9e8d5d85db58"
      },
      "execution_count": 10,
      "outputs": [
        {
          "output_type": "display_data",
          "data": {
            "text/plain": [
              "<Figure size 432x288 with 1 Axes>"
            ],
            "image/png": "[encoded data removed]"
          },
          "metadata": {
            "needs_background": "light"
          }
        }
      ]
    },
    {
      "cell_type": "markdown",
      "source": [
        "**Rolling function**\n",
        "\n",
        "The rolling() function is a function in pandas that allows you to calculate rolling statistics on data.\n",
        "It is very useful for calculating moving averages, standard deviations, sums, minimums, and maximums, among other statistics.\n",
        "\n",
        "It is a powerful tool that allows you to calculate various moving or rolling statistics over a set window size. The \"rolling\" function in Pandas provides a flexible and efficient way to calculate various rolling statistics on time-series data."
      ],
      "metadata": {
        "id": "XU0ziK-sExkQ"
      }
    },
    {
      "cell_type": "code",
      "source": [
        "from pandas.core import window\n",
        "Time = 5\n",
        "Data['Close'].rolling( window=Time ).mean()\n",
        "\n",
        "# Size of the figure\n",
        "plt.figure( figsize=(12, 6) )\n",
        "\n",
        "plt.plot( Data['Close'] )\n",
        "plt.plot( Data['Close'].rolling( window=Time ).mean() )\n",
        "plt.plot( Data['Close'].rolling( window=Time + 20 ).mean() )\n",
        "plt.title('Closing Price')\n",
        "plt.legend(['Close', 'Mean 5 days', 'Mean 25 days'])\n",
        "plt.ylabel('Clossing Value')\n",
        "plt.xlabel('Time');"
      ],
      "metadata": {
        "colab": {
          "base_uri": "https://localhost:8080/",
          "height": 404
        },
        "id": "cjsteptiFFH-",
        "outputId": "36bdc6c3-9b7a-4fc5-8ff7-512d479241fc"
      },
      "execution_count": 11,
      "outputs": [
        {
          "output_type": "display_data",
          "data": {
            "text/plain": [
              "<Figure size 864x432 with 1 Axes>"
            ],
            "image/png": "[encoded data removed]"
          },
          "metadata": {
            "needs_background": "light"
          }
        }
      ]
    },
    {
      "cell_type": "markdown",
      "source": [
        "**PLOTLY** is an open-source, interactive plotting library in Python that supports over 40 unique chart types, covering a wide range of statistical, financial, geographical, scientific, and three-dimensional use cases.\n",
        "\n",
        "plotly.express (px) is a fast and easy way to create dynamic data visualizations.\n",
        "plotly.graph_objects (go) is the low-level API that provides more control over your visualizations, but requires more code."
      ],
      "metadata": {
        "id": "8cDSY4yBGQvo"
      }
    },
    {
      "cell_type": "code",
      "source": [
        "Periodo = 5\n",
        "Data['Mean_Moving'] = Data['Close'].rolling( window=Time ).mean()\n",
        "\n",
        "Figure = px.line(\n",
        "    Data,\n",
        "    y='Close',\n",
        "    title='Closing'\n",
        ")\n",
        "\n",
        "Figure.show()"
      ],
      "metadata": {
        "colab": {
          "base_uri": "https://localhost:8080/",
          "height": 542
        },
        "id": "7Qs9ZQ9sGY-m",
        "outputId": "a47c9a1e-92af-428a-8f94-c7a13e737157"
      },
      "execution_count": 12,
      "outputs": [
        {
          "output_type": "display_data",
          "data": {
            "text/html": [
              "<html>\n",
              "<head><meta charset=\"utf-8\" /></head>\n",
              "<body>\n",
              "    <div>            <script src=\"https://cdnjs.cloudflare.com/ajax/libs/mathjax/2.7.5/MathJax.js?config=TeX-AMS-MML_SVG\"></script><script type=\"text/javascript\">if (window.MathJax) {MathJax.Hub.Config({SVG: {font: \"STIX-Web\"}});}</script>                <script type=\"text/javascript\">window.PlotlyConfig = {MathJaxConfig: 'local'};</script>\n",
              "        <script src=\"https://cdn.plot.ly/plotly-2.8.3.min.js\"></script>                <div id=\"be612fc8-cb1d-456c-b70d-5351d132f0be\" class=\"plotly-graph-div\" style=\"height:525px; width:100%;\"></div>            <script type=\"text/javascript\">                                    window.PLOTLYENV=window.PLOTLYENV || {};                                    if (document.getElementById(\"be612fc8-cb1d-456c-b70d-5351d132f0be\")) {                    Plotly.newPlot(                        \"be612fc8-cb1d-456c-b70d-5351d132f0be\",                        [{\"hovertemplate\":\"Date=%{x}<br>Close=%{y}<extra></extra>\",\"legendgroup\":\"\",\"line\":{\"color\":\"#636efa\",\"dash\":\"solid\"},\"marker\":{\"symbol\":\"circle\"},\"mode\":\"lines\",\"name\":\"\",\"orientation\":\"v\",\"showlegend\":false,\"x\":[\"2022-02-08T00:00:00\",\"2022-02-09T00:00:00\",\"2022-02-10T00:00:00\",\"2022-02-11T00:00:00\",\"2022-02-14T00:00:00\",\"2022-02-15T00:00:00\",\"2022-02-16T00:00:00\",\"2022-02-17T00:00:00\",\"2022-02-18T00:00:00\",\"2022-02-22T00:00:00\",\"2022-02-23T00:00:00\",\"2022-02-24T00:00:00\",\"2022-02-25T00:00:00\",\"2022-02-28T00:00:00\",\"2022-03-01T00:00:00\",\"2022-03-02T00:00:00\",\"2022-03-03T00:00:00\",\"2022-03-04T00:00:00\",\"2022-03-07T00:00:00\",\"2022-03-08T00:00:00\",\"2022-03-09T00:00:00\",\"2022-03-10T00:00:00\",\"2022-03-11T00:00:00\",\"2022-03-14T00:00:00\",\"2022-03-15T00:00:00\",\"2022-03-16T00:00:00\",\"2022-03-17T00:00:00\",\"2022-03-18T00:00:00\",\"2022-03-21T00:00:00\",\"2022-03-22T00:00:00\",\"2022-03-23T00:00:00\",\"2022-03-24T00:00:00\",\"2022-03-25T00:00:00\",\"2022-03-28T00:00:00\",\"2022-03-29T00:00:00\",\"2022-03-30T00:00:00\",\"2022-03-31T00:00:00\",\"2022-04-01T00:00:00\",\"2022-04-04T00:00:00\",\"2022-04-05T00:00:00\",\"2022-04-06T00:00:00\",\"2022-04-07T00:00:00\",\"2022-04-08T00:00:00\",\"2022-04-11T00:00:00\",\"2022-04-12T00:00:00\",\"2022-04-13T00:00:00\",\"2022-04-14T00:00:00\",\"2022-04-18T00:00:00\",\"2022-04-19T00:00:00\",\"2022-04-20T00:00:00\",\"2022-04-21T00:00:00\",\"2022-04-22T00:00:00\",\"2022-04-25T00:00:00\",\"2022-04-26T00:00:00\",\"2022-04-27T00:00:00\",\"2022-04-28T00:00:00\",\"2022-04-29T00:00:00\",\"2022-05-02T00:00:00\",\"2022-05-03T00:00:00\",\"2022-05-04T00:00:00\",\"2022-05-05T00:00:00\",\"2022-05-06T00:00:00\",\"2022-05-09T00:00:00\",\"2022-05-10T00:00:00\",\"2022-05-11T00:00:00\",\"2022-05-12T00:00:00\",\"2022-05-13T00:00:00\",\"2022-05-16T00:00:00\",\"2022-05-17T00:00:00\",\"2022-05-18T00:00:00\",\"2022-05-19T00:00:00\",\"2022-05-20T00:00:00\",\"2022-05-23T00:00:00\",\"2022-05-24T00:00:00\",\"2022-05-25T00:00:00\",\"2022-05-26T00:00:00\",\"2022-05-27T00:00:00\",\"2022-05-31T00:00:00\",\"2022-06-01T00:00:00\",\"2022-06-02T00:00:00\",\"2022-06-03T00:00:00\",\"2022-06-06T00:00:00\",\"2022-06-07T00:00:00\",\"2022-06-08T00:00:00\",\"2022-06-09T00:00:00\",\"2022-06-10T00:00:00\",\"2022-06-13T00:00:00\",\"2022-06-14T00:00:00\",\"2022-06-15T00:00:00\",\"2022-06-16T00:00:00\",\"2022-06-17T00:00:00\",\"2022-06-21T00:00:00\",\"2022-06-22T00:00:00\",\"2022-06-23T00:00:00\",\"2022-06-24T00:00:00\",\"2022-06-27T00:00:00\",\"2022-06-28T00:00:00\",\"2022-06-29T00:00:00\",\"2022-06-30T00:00:00\",\"2022-07-01T00:00:00\",\"2022-07-05T00:00:00\",\"2022-07-06T00:00:00\",\"2022-07-07T00:00:00\",\"2022-07-08T00:00:00\",\"2022-07-11T00:00:00\",\"2022-07-12T00:00:00\",\"2022-07-13T00:00:00\",\"2022-07-14T00:00:00\",\"2022-07-15T00:00:00\",\"2022-07-18T00:00:00\",\"2022-07-19T00:00:00\",\"2022-07-20T00:00:00\",\"2022-07-21T00:00:00\",\"2022-07-22T00:00:00\",\"2022-07-25T00:00:00\",\"2022-07-26T00:00:00\",\"2022-07-27T00:00:00\",\"2022-07-28T00:00:00\",\"2022-07-29T00:00:00\",\"2022-08-01T00:00:00\",\"2022-08-02T00:00:00\",\"2022-08-03T00:00:00\",\"2022-08-04T00:00:00\",\"2022-08-05T00:00:00\",\"2022-08-08T00:00:00\",\"2022-08-09T00:00:00\",\"2022-08-10T00:00:00\",\"2022-08-11T00:00:00\",\"2022-08-12T00:00:00\",\"2022-08-15T00:00:00\",\"2022-08-16T00:00:00\",\"2022-08-17T00:00:00\",\"2022-08-18T00:00:00\",\"2022-08-19T00:00:00\",\"2022-08-22T00:00:00\",\"2022-08-23T00:00:00\",\"2022-08-24T00:00:00\",\"2022-08-25T00:00:00\",\"2022-08-26T00:00:00\",\"2022-08-29T00:00:00\",\"2022-08-30T00:00:00\",\"2022-08-31T00:00:00\",\"2022-09-01T00:00:00\",\"2022-09-02T00:00:00\",\"2022-09-06T00:00:00\",\"2022-09-07T00:00:00\",\"2022-09-08T00:00:00\",\"2022-09-09T00:00:00\",\"2022-09-12T00:00:00\",\"2022-09-13T00:00:00\",\"2022-09-14T00:00:00\",\"2022-09-15T00:00:00\",\"2022-09-16T00:00:00\",\"2022-09-19T00:00:00\",\"2022-09-20T00:00:00\",\"2022-09-21T00:00:00\",\"2022-09-22T00:00:00\",\"2022-09-23T00:00:00\",\"2022-09-26T00:00:00\",\"2022-09-27T00:00:00\",\"2022-09-28T00:00:00\",\"2022-09-29T00:00:00\",\"2022-09-30T00:00:00\",\"2022-10-03T00:00:00\",\"2022-10-04T00:00:00\",\"2022-10-05T00:00:00\",\"2022-10-06T00:00:00\",\"2022-10-07T00:00:00\",\"2022-10-10T00:00:00\",\"2022-10-11T00:00:00\",\"2022-10-12T00:00:00\",\"2022-10-13T00:00:00\",\"2022-10-14T00:00:00\",\"2022-10-17T00:00:00\",\"2022-10-18T00:00:00\",\"2022-10-19T00:00:00\",\"2022-10-20T00:00:00\",\"2022-10-21T00:00:00\",\"2022-10-24T00:00:00\",\"2022-10-25T00:00:00\",\"2022-10-26T00:00:00\",\"2022-10-27T00:00:00\",\"2022-10-28T00:00:00\",\"2022-10-31T00:00:00\",\"2022-11-01T00:00:00\",\"2022-11-02T00:00:00\",\"2022-11-03T00:00:00\",\"2022-11-04T00:00:00\",\"2022-11-07T00:00:00\",\"2022-11-08T00:00:00\",\"2022-11-09T00:00:00\",\"2022-11-10T00:00:00\",\"2022-11-11T00:00:00\",\"2022-11-14T00:00:00\",\"2022-11-15T00:00:00\",\"2022-11-16T00:00:00\",\"2022-11-17T00:00:00\",\"2022-11-18T00:00:00\",\"2022-11-21T00:00:00\",\"2022-11-22T00:00:00\",\"2022-11-23T00:00:00\",\"2022-11-25T00:00:00\",\"2022-11-28T00:00:00\",\"2022-11-29T00:00:00\",\"2022-11-30T00:00:00\",\"2022-12-01T00:00:00\",\"2022-12-02T00:00:00\",\"2022-12-05T00:00:00\",\"2022-12-06T00:00:00\",\"2022-12-07T00:00:00\",\"2022-12-08T00:00:00\",\"2022-12-09T00:00:00\",\"2022-12-12T00:00:00\",\"2022-12-13T00:00:00\",\"2022-12-14T00:00:00\",\"2022-12-15T00:00:00\",\"2022-12-16T00:00:00\",\"2022-12-19T00:00:00\",\"2022-12-20T00:00:00\",\"2022-12-21T00:00:00\",\"2022-12-22T00:00:00\",\"2022-12-23T00:00:00\",\"2022-12-27T00:00:00\",\"2022-12-28T00:00:00\",\"2022-12-29T00:00:00\",\"2022-12-30T00:00:00\",\"2023-01-03T00:00:00\",\"2023-01-04T00:00:00\",\"2023-01-05T00:00:00\",\"2023-01-06T00:00:00\",\"2023-01-09T00:00:00\",\"2023-01-10T00:00:00\",\"2023-01-11T00:00:00\",\"2023-01-12T00:00:00\",\"2023-01-13T00:00:00\",\"2023-01-17T00:00:00\",\"2023-01-18T00:00:00\",\"2023-01-19T00:00:00\",\"2023-01-20T00:00:00\",\"2023-01-23T00:00:00\",\"2023-01-24T00:00:00\",\"2023-01-25T00:00:00\",\"2023-01-26T00:00:00\",\"2023-01-27T00:00:00\",\"2023-01-30T00:00:00\",\"2023-01-31T00:00:00\",\"2023-02-01T00:00:00\",\"2023-02-02T00:00:00\",\"2023-02-03T00:00:00\",\"2023-02-06T00:00:00\",\"2023-02-07T00:00:00\"],\"xaxis\":\"x\",\"y\":[7.809999942779541,7.940000057220459,8.0600004196167,7.949999809265137,7.960000038146973,8.3100004196167,8.229999542236328,7.800000190734863,7.800000190734863,7.78000020980835,7.510000228881836,8.0,7.78000020980835,7.53000020980835,6.980000019073486,5.110000133514404,4.889999866485596,4.25,4.289999961853027,4.320000171661377,4.519999980926514,4.579999923706055,4.369999885559082,4.340000152587891,4.289999961853027,4.679999828338623,4.760000228881836,4.829999923706055,4.619999885559082,4.789999961853027,4.519999980926514,4.710000038146973,4.400000095367432,4.429999828338623,4.730000019073486,4.610000133514404,4.420000076293945,4.380000114440918,4.679999828338623,4.400000095367432,4.25,4.21999979019165,4.349999904632568,4.139999866485596,4.090000152587891,4.210000038146973,4.0,3.9600000381469727,4.159999847412109,4.050000190734863,3.9100000858306885,3.7899999618530273,3.819999933242798,3.5899999141693115,3.490000009536743,3.7799999713897705,3.5299999713897705,3.690000057220459,3.6700000762939453,3.8299999237060547,3.75,3.6500000953674316,3.369999885559082,3.25,3.180000066757202,3.4700000286102295,3.700000047683716,3.490000009536743,3.619999885559082,3.299999952316284,3.4100000858306885,3.2899999618530273,3.369999885559082,3.2100000381469727,3.5399999618530273,4.130000114440918,4.050000190734863,3.940000057220459,3.7899999618530273,4.050000190734863,4.03000020980835,3.9100000858306885,4.019999980926514,4.050000190734863,3.859999895095825,3.7100000381469727,3.3299999237060547,3.4100000858306885,3.380000114440918,3.109999895095825,3.190000057220459,2.9600000381469727,2.8399999141693115,2.940000057220459,2.869999885559082,2.9600000381469727,3.0399999618530273,2.859999895095825,2.759999990463257,2.819999933242798,2.9200000762939453,2.9100000858306885,3.1500000953674316,3.0899999141693115,2.890000104904175,2.809999942779541,2.759999990463257,2.6600000858306885,2.759999990463257,2.859999895095825,3.009999990463257,3.0,2.950000047683716,1.899999976158142,2.009999990463257,1.9199999570846558,1.8700000047683716,1.9199999570846558,1.8799999952316284,1.899999976158142,1.840000033378601,1.940000057220459,1.9900000095367432,1.8799999952316284,2.059999942779541,1.9500000476837158,2.0799999237060547,2.0299999713897705,2.2799999713897705,2.3299999237060547,2.549999952316284,2.2100000381469727,2.1600000858306885,2.049999952316284,1.9500000476837158,1.7999999523162842,1.909999966621399,2.069999933242798,2.059999942779541,2.140000104904175,2.0899999141693115,2.0799999237060547,2.0,2.009999990463257,2.359999895095825,2.9200000762939453,2.359999895095825,2.140000104904175,2.0899999141693115,1.9600000381469727,1.7899999618530273,1.7000000476837158,1.5299999713897705,1.440000057220459,1.4500000476837158,1.5499999523162842,1.590000033378601,1.5399999618530273,1.4800000190734863,1.4800000190734863,1.4900000095367432,1.4199999570846558,1.4500000476837158,1.5199999809265137,1.559999942779541,1.559999942779541,1.4700000286102295,1.3700000047683716,1.340000033378601,1.2599999904632568,1.3899999856948853,1.559999942779541,1.440000057220459,1.5399999618530273,1.5700000524520874,1.6699999570846558,1.690000057220459,1.7100000381469727,1.7899999618530273,1.9900000095367432,1.9199999570846558,1.8300000429153442,2.0199999809265137,2.0399999618530273,1.9700000286102295,1.9199999570846558,1.9199999570846558,1.8799999952316284,1.690000057220459,1.5800000429153442,1.559999942779541,1.5099999904632568,1.8300000429153442,1.9800000190734863,1.9900000095367432,1.8600000143051147,1.8600000143051147,1.8200000524520874,1.6399999856948853,1.7799999713897705,1.7000000476837158,1.7100000381469727,1.7699999809265137,1.7899999618530273,1.7999999523162842,1.7799999713897705,1.940000057220459,1.8300000429153442,1.7400000095367432,1.809999942779541,1.7100000381469727,1.649999976158142,1.7400000095367432,1.690000057220459,1.6100000143051147,1.5499999523162842,1.7000000476837158,1.4800000190734863,1.4199999570846558,1.4800000190734863,1.3600000143051147,1.3300000429153442,1.2300000190734863,1.2400000095367432,1.2100000381469727,1.2699999809265137,1.3200000524520874,1.2999999523162842,1.309999942779541,1.350000023841858,1.3899999856948853,1.3899999856948853,1.399999976158142,1.4600000381469727,1.4500000476837158,1.5,1.5,1.5,1.4800000190734863,1.5,1.5,1.5,1.5,1.5199999809265137,1.5199999809265137,1.5199999809265137,1.5199999809265137,1.5099999904632568,1.5700000524520874,1.5399999618530273,1.5499999523162842],\"yaxis\":\"y\",\"type\":\"scatter\"}],                        {\"template\":{\"data\":{\"bar\":[{\"error_x\":{\"color\":\"#2a3f5f\"},\"error_y\":{\"color\":\"#2a3f5f\"},\"marker\":{\"line\":{\"color\":\"#E5ECF6\",\"width\":0.5},\"pattern\":{\"fillmode\":\"overlay\",\"size\":10,\"solidity\":0.2}},\"type\":\"bar\"}],\"barpolar\":[{\"marker\":{\"line\":{\"color\":\"#E5ECF6\",\"width\":0.5},\"pattern\":{\"fillmode\":\"overlay\",\"size\":10,\"solidity\":0.2}},\"type\":\"barpolar\"}],\"carpet\":[{\"aaxis\":{\"endlinecolor\":\"#2a3f5f\",\"gridcolor\":\"white\",\"linecolor\":\"white\",\"minorgridcolor\":\"white\",\"startlinecolor\":\"#2a3f5f\"},\"baxis\":{\"endlinecolor\":\"#2a3f5f\",\"gridcolor\":\"white\",\"linecolor\":\"white\",\"minorgridcolor\":\"white\",\"startlinecolor\":\"#2a3f5f\"},\"type\":\"carpet\"}],\"choropleth\":[{\"colorbar\":{\"outlinewidth\":0,\"ticks\":\"\"},\"type\":\"choropleth\"}],\"contour\":[{\"colorbar\":{\"outlinewidth\":0,\"ticks\":\"\"},\"colorscale\":[[0.0,\"#0d0887\"],[0.1111111111111111,\"#46039f\"],[0.2222222222222222,\"#7201a8\"],[0.3333333333333333,\"#9c179e\"],[0.4444444444444444,\"#bd3786\"],[0.5555555555555556,\"#d8576b\"],[0.6666666666666666,\"#ed7953\"],[0.7777777777777778,\"#fb9f3a\"],[0.8888888888888888,\"#fdca26\"],[1.0,\"#f0f921\"]],\"type\":\"contour\"}],\"contourcarpet\":[{\"colorbar\":{\"outlinewidth\":0,\"ticks\":\"\"},\"type\":\"contourcarpet\"}],\"heatmap\":[{\"colorbar\":{\"outlinewidth\":0,\"ticks\":\"\"},\"colorscale\":[[0.0,\"#0d0887\"],[0.1111111111111111,\"#46039f\"],[0.2222222222222222,\"#7201a8\"],[0.3333333333333333,\"#9c179e\"],[0.4444444444444444,\"#bd3786\"],[0.5555555555555556,\"#d8576b\"],[0.6666666666666666,\"#ed7953\"],[0.7777777777777778,\"#fb9f3a\"],[0.8888888888888888,\"#fdca26\"],[1.0,\"#f0f921\"]],\"type\":\"heatmap\"}],\"heatmapgl\":[{\"colorbar\":{\"outlinewidth\":0,\"ticks\":\"\"},\"colorscale\":[[0.0,\"#0d0887\"],[0.1111111111111111,\"#46039f\"],[0.2222222222222222,\"#7201a8\"],[0.3333333333333333,\"#9c179e\"],[0.4444444444444444,\"#bd3786\"],[0.5555555555555556,\"#d8576b\"],[0.6666666666666666,\"#ed7953\"],[0.7777777777777778,\"#fb9f3a\"],[0.8888888888888888,\"#fdca26\"],[1.0,\"#f0f921\"]],\"type\":\"heatmapgl\"}],\"histogram\":[{\"marker\":{\"pattern\":{\"fillmode\":\"overlay\",\"size\":10,\"solidity\":0.2}},\"type\":\"histogram\"}],\"histogram2d\":[{\"colorbar\":{\"outlinewidth\":0,\"ticks\":\"\"},\"colorscale\":[[0.0,\"#0d0887\"],[0.1111111111111111,\"#46039f\"],[0.2222222222222222,\"#7201a8\"],[0.3333333333333333,\"#9c179e\"],[0.4444444444444444,\"#bd3786\"],[0.5555555555555556,\"#d8576b\"],[0.6666666666666666,\"#ed7953\"],[0.7777777777777778,\"#fb9f3a\"],[0.8888888888888888,\"#fdca26\"],[1.0,\"#f0f921\"]],\"type\":\"histogram2d\"}],\"histogram2dcontour\":[{\"colorbar\":{\"outlinewidth\":0,\"ticks\":\"\"},\"colorscale\":[[0.0,\"#0d0887\"],[0.1111111111111111,\"#46039f\"],[0.2222222222222222,\"#7201a8\"],[0.3333333333333333,\"#9c179e\"],[0.4444444444444444,\"#bd3786\"],[0.5555555555555556,\"#d8576b\"],[0.6666666666666666,\"#ed7953\"],[0.7777777777777778,\"#fb9f3a\"],[0.8888888888888888,\"#fdca26\"],[1.0,\"#f0f921\"]],\"type\":\"histogram2dcontour\"}],\"mesh3d\":[{\"colorbar\":{\"outlinewidth\":0,\"ticks\":\"\"},\"type\":\"mesh3d\"}],\"parcoords\":[{\"line\":{\"colorbar\":{\"outlinewidth\":0,\"ticks\":\"\"}},\"type\":\"parcoords\"}],\"pie\":[{\"automargin\":true,\"type\":\"pie\"}],\"scatter\":[{\"marker\":{\"colorbar\":{\"outlinewidth\":0,\"ticks\":\"\"}},\"type\":\"scatter\"}],\"scatter3d\":[{\"line\":{\"colorbar\":{\"outlinewidth\":0,\"ticks\":\"\"}},\"marker\":{\"colorbar\":{\"outlinewidth\":0,\"ticks\":\"\"}},\"type\":\"scatter3d\"}],\"scattercarpet\":[{\"marker\":{\"colorbar\":{\"outlinewidth\":0,\"ticks\":\"\"}},\"type\":\"scattercarpet\"}],\"scattergeo\":[{\"marker\":{\"colorbar\":{\"outlinewidth\":0,\"ticks\":\"\"}},\"type\":\"scattergeo\"}],\"scattergl\":[{\"marker\":{\"colorbar\":{\"outlinewidth\":0,\"ticks\":\"\"}},\"type\":\"scattergl\"}],\"scattermapbox\":[{\"marker\":{\"colorbar\":{\"outlinewidth\":0,\"ticks\":\"\"}},\"type\":\"scattermapbox\"}],\"scatterpolar\":[{\"marker\":{\"colorbar\":{\"outlinewidth\":0,\"ticks\":\"\"}},\"type\":\"scatterpolar\"}],\"scatterpolargl\":[{\"marker\":{\"colorbar\":{\"outlinewidth\":0,\"ticks\":\"\"}},\"type\":\"scatterpolargl\"}],\"scatterternary\":[{\"marker\":{\"colorbar\":{\"outlinewidth\":0,\"ticks\":\"\"}},\"type\":\"scatterternary\"}],\"surface\":[{\"colorbar\":{\"outlinewidth\":0,\"ticks\":\"\"},\"colorscale\":[[0.0,\"#0d0887\"],[0.1111111111111111,\"#46039f\"],[0.2222222222222222,\"#7201a8\"],[0.3333333333333333,\"#9c179e\"],[0.4444444444444444,\"#bd3786\"],[0.5555555555555556,\"#d8576b\"],[0.6666666666666666,\"#ed7953\"],[0.7777777777777778,\"#fb9f3a\"],[0.8888888888888888,\"#fdca26\"],[1.0,\"#f0f921\"]],\"type\":\"surface\"}],\"table\":[{\"cells\":{\"fill\":{\"color\":\"#EBF0F8\"},\"line\":{\"color\":\"white\"}},\"header\":{\"fill\":{\"color\":\"#C8D4E3\"},\"line\":{\"color\":\"white\"}},\"type\":\"table\"}]},\"layout\":{\"annotationdefaults\":{\"arrowcolor\":\"#2a3f5f\",\"arrowhead\":0,\"arrowwidth\":1},\"autotypenumbers\":\"strict\",\"coloraxis\":{\"colorbar\":{\"outlinewidth\":0,\"ticks\":\"\"}},\"colorscale\":{\"diverging\":[[0,\"#8e0152\"],[0.1,\"#c51b7d\"],[0.2,\"#de77ae\"],[0.3,\"#f1b6da\"],[0.4,\"#fde0ef\"],[0.5,\"#f7f7f7\"],[0.6,\"#e6f5d0\"],[0.7,\"#b8e186\"],[0.8,\"#7fbc41\"],[0.9,\"#4d9221\"],[1,\"#276419\"]],\"sequential\":[[0.0,\"#0d0887\"],[0.1111111111111111,\"#46039f\"],[0.2222222222222222,\"#7201a8\"],[0.3333333333333333,\"#9c179e\"],[0.4444444444444444,\"#bd3786\"],[0.5555555555555556,\"#d8576b\"],[0.6666666666666666,\"#ed7953\"],[0.7777777777777778,\"#fb9f3a\"],[0.8888888888888888,\"#fdca26\"],[1.0,\"#f0f921\"]],\"sequentialminus\":[[0.0,\"#0d0887\"],[0.1111111111111111,\"#46039f\"],[0.2222222222222222,\"#7201a8\"],[0.3333333333333333,\"#9c179e\"],[0.4444444444444444,\"#bd3786\"],[0.5555555555555556,\"#d8576b\"],[0.6666666666666666,\"#ed7953\"],[0.7777777777777778,\"#fb9f3a\"],[0.8888888888888888,\"#fdca26\"],[1.0,\"#f0f921\"]]},\"colorway\":[\"#636efa\",\"#EF553B\",\"#00cc96\",\"#ab63fa\",\"#FFA15A\",\"#19d3f3\",\"#FF6692\",\"#B6E880\",\"#FF97FF\",\"#FECB52\"],\"font\":{\"color\":\"#2a3f5f\"},\"geo\":{\"bgcolor\":\"white\",\"lakecolor\":\"white\",\"landcolor\":\"#E5ECF6\",\"showlakes\":true,\"showland\":true,\"subunitcolor\":\"white\"},\"hoverlabel\":{\"align\":\"left\"},\"hovermode\":\"closest\",\"mapbox\":{\"style\":\"light\"},\"paper_bgcolor\":\"white\",\"plot_bgcolor\":\"#E5ECF6\",\"polar\":{\"angularaxis\":{\"gridcolor\":\"white\",\"linecolor\":\"white\",\"ticks\":\"\"},\"bgcolor\":\"#E5ECF6\",\"radialaxis\":{\"gridcolor\":\"white\",\"linecolor\":\"white\",\"ticks\":\"\"}},\"scene\":{\"xaxis\":{\"backgroundcolor\":\"#E5ECF6\",\"gridcolor\":\"white\",\"gridwidth\":2,\"linecolor\":\"white\",\"showbackground\":true,\"ticks\":\"\",\"zerolinecolor\":\"white\"},\"yaxis\":{\"backgroundcolor\":\"#E5ECF6\",\"gridcolor\":\"white\",\"gridwidth\":2,\"linecolor\":\"white\",\"showbackground\":true,\"ticks\":\"\",\"zerolinecolor\":\"white\"},\"zaxis\":{\"backgroundcolor\":\"#E5ECF6\",\"gridcolor\":\"white\",\"gridwidth\":2,\"linecolor\":\"white\",\"showbackground\":true,\"ticks\":\"\",\"zerolinecolor\":\"white\"}},\"shapedefaults\":{\"line\":{\"color\":\"#2a3f5f\"}},\"ternary\":{\"aaxis\":{\"gridcolor\":\"white\",\"linecolor\":\"white\",\"ticks\":\"\"},\"baxis\":{\"gridcolor\":\"white\",\"linecolor\":\"white\",\"ticks\":\"\"},\"bgcolor\":\"#E5ECF6\",\"caxis\":{\"gridcolor\":\"white\",\"linecolor\":\"white\",\"ticks\":\"\"}},\"title\":{\"x\":0.05},\"xaxis\":{\"automargin\":true,\"gridcolor\":\"white\",\"linecolor\":\"white\",\"ticks\":\"\",\"title\":{\"standoff\":15},\"zerolinecolor\":\"white\",\"zerolinewidth\":2},\"yaxis\":{\"automargin\":true,\"gridcolor\":\"white\",\"linecolor\":\"white\",\"ticks\":\"\",\"title\":{\"standoff\":15},\"zerolinecolor\":\"white\",\"zerolinewidth\":2}}},\"xaxis\":{\"anchor\":\"y\",\"domain\":[0.0,1.0],\"title\":{\"text\":\"Date\"}},\"yaxis\":{\"anchor\":\"x\",\"domain\":[0.0,1.0],\"title\":{\"text\":\"Close\"}},\"legend\":{\"tracegroupgap\":0},\"title\":{\"text\":\"Closing\"}},                        {\"responsive\": true}                    ).then(function(){\n",
              "                            \n",
              "var gd = document.getElementById('be612fc8-cb1d-456c-b70d-5351d132f0be');\n",
              "var x = new MutationObserver(function (mutations, observer) {{\n",
              "        var display = window.getComputedStyle(gd).display;\n",
              "        if (!display || display === 'none') {{\n",
              "            console.log([gd, 'removed!']);\n",
              "            Plotly.purge(gd);\n",
              "            observer.disconnect();\n",
              "        }}\n",
              "}});\n",
              "\n",
              "// Listen for the removal of the full notebook cells\n",
              "var notebookContainer = gd.closest('#notebook-container');\n",
              "if (notebookContainer) {{\n",
              "    x.observe(notebookContainer, {childList: true});\n",
              "}}\n",
              "\n",
              "// Listen for the clearing of the current output cell\n",
              "var outputEl = gd.closest('.output');\n",
              "if (outputEl) {{\n",
              "    x.observe(outputEl, {childList: true});\n",
              "}}\n",
              "\n",
              "                        })                };                            </script>        </div>\n",
              "</body>\n",
              "</html>"
            ]
          },
          "metadata": {}
        }
      ]
    },
    {
      "cell_type": "code",
      "source": [
        "Figure_02 = go.Figure(\n",
        "    data=go.Scatter(\n",
        "        x=Data.index,\n",
        "        y=Data['Close'],\n",
        "        line=( dict(color='firebrick', width=3) )\n",
        "    )\n",
        ")\n",
        "\n",
        "Figure_02.update_layout(\n",
        "    title='Closing Analysis of Akka Technologies',\n",
        "    xaxis_title='Time',\n",
        "    yaxis_title='Closing Price'\n",
        ")\n",
        "\n",
        "Figure_02.show()"
      ],
      "metadata": {
        "colab": {
          "base_uri": "https://localhost:8080/",
          "height": 542
        },
        "id": "ObWJ2QMYHlMa",
        "outputId": "3ebfbf70-492f-4d21-af55-d70c5a537149"
      },
      "execution_count": 13,
      "outputs": [
        {
          "output_type": "display_data",
          "data": {
            "text/html": [
              "<html>\n",
              "<head><meta charset=\"utf-8\" /></head>\n",
              "<body>\n",
              "    <div>            <script src=\"https://cdnjs.cloudflare.com/ajax/libs/mathjax/2.7.5/MathJax.js?config=TeX-AMS-MML_SVG\"></script><script type=\"text/javascript\">if (window.MathJax) {MathJax.Hub.Config({SVG: {font: \"STIX-Web\"}});}</script>                <script type=\"text/javascript\">window.PlotlyConfig = {MathJaxConfig: 'local'};</script>\n",
              "        <script src=\"https://cdn.plot.ly/plotly-2.8.3.min.js\"></script>                <div id=\"faa88fcc-3a80-4262-9bd7-a633d25ce6e1\" class=\"plotly-graph-div\" style=\"height:525px; width:100%;\"></div>            <script type=\"text/javascript\">                                    window.PLOTLYENV=window.PLOTLYENV || {};                                    if (document.getElementById(\"faa88fcc-3a80-4262-9bd7-a633d25ce6e1\")) {                    Plotly.newPlot(                        \"faa88fcc-3a80-4262-9bd7-a633d25ce6e1\",                        [{\"line\":{\"color\":\"firebrick\",\"width\":3},\"x\":[\"2022-02-08T00:00:00\",\"2022-02-09T00:00:00\",\"2022-02-10T00:00:00\",\"2022-02-11T00:00:00\",\"2022-02-14T00:00:00\",\"2022-02-15T00:00:00\",\"2022-02-16T00:00:00\",\"2022-02-17T00:00:00\",\"2022-02-18T00:00:00\",\"2022-02-22T00:00:00\",\"2022-02-23T00:00:00\",\"2022-02-24T00:00:00\",\"2022-02-25T00:00:00\",\"2022-02-28T00:00:00\",\"2022-03-01T00:00:00\",\"2022-03-02T00:00:00\",\"2022-03-03T00:00:00\",\"2022-03-04T00:00:00\",\"2022-03-07T00:00:00\",\"2022-03-08T00:00:00\",\"2022-03-09T00:00:00\",\"2022-03-10T00:00:00\",\"2022-03-11T00:00:00\",\"2022-03-14T00:00:00\",\"2022-03-15T00:00:00\",\"2022-03-16T00:00:00\",\"2022-03-17T00:00:00\",\"2022-03-18T00:00:00\",\"2022-03-21T00:00:00\",\"2022-03-22T00:00:00\",\"2022-03-23T00:00:00\",\"2022-03-24T00:00:00\",\"2022-03-25T00:00:00\",\"2022-03-28T00:00:00\",\"2022-03-29T00:00:00\",\"2022-03-30T00:00:00\",\"2022-03-31T00:00:00\",\"2022-04-01T00:00:00\",\"2022-04-04T00:00:00\",\"2022-04-05T00:00:00\",\"2022-04-06T00:00:00\",\"2022-04-07T00:00:00\",\"2022-04-08T00:00:00\",\"2022-04-11T00:00:00\",\"2022-04-12T00:00:00\",\"2022-04-13T00:00:00\",\"2022-04-14T00:00:00\",\"2022-04-18T00:00:00\",\"2022-04-19T00:00:00\",\"2022-04-20T00:00:00\",\"2022-04-21T00:00:00\",\"2022-04-22T00:00:00\",\"2022-04-25T00:00:00\",\"2022-04-26T00:00:00\",\"2022-04-27T00:00:00\",\"2022-04-28T00:00:00\",\"2022-04-29T00:00:00\",\"2022-05-02T00:00:00\",\"2022-05-03T00:00:00\",\"2022-05-04T00:00:00\",\"2022-05-05T00:00:00\",\"2022-05-06T00:00:00\",\"2022-05-09T00:00:00\",\"2022-05-10T00:00:00\",\"2022-05-11T00:00:00\",\"2022-05-12T00:00:00\",\"2022-05-13T00:00:00\",\"2022-05-16T00:00:00\",\"2022-05-17T00:00:00\",\"2022-05-18T00:00:00\",\"2022-05-19T00:00:00\",\"2022-05-20T00:00:00\",\"2022-05-23T00:00:00\",\"2022-05-24T00:00:00\",\"2022-05-25T00:00:00\",\"2022-05-26T00:00:00\",\"2022-05-27T00:00:00\",\"2022-05-31T00:00:00\",\"2022-06-01T00:00:00\",\"2022-06-02T00:00:00\",\"2022-06-03T00:00:00\",\"2022-06-06T00:00:00\",\"2022-06-07T00:00:00\",\"2022-06-08T00:00:00\",\"2022-06-09T00:00:00\",\"2022-06-10T00:00:00\",\"2022-06-13T00:00:00\",\"2022-06-14T00:00:00\",\"2022-06-15T00:00:00\",\"2022-06-16T00:00:00\",\"2022-06-17T00:00:00\",\"2022-06-21T00:00:00\",\"2022-06-22T00:00:00\",\"2022-06-23T00:00:00\",\"2022-06-24T00:00:00\",\"2022-06-27T00:00:00\",\"2022-06-28T00:00:00\",\"2022-06-29T00:00:00\",\"2022-06-30T00:00:00\",\"2022-07-01T00:00:00\",\"2022-07-05T00:00:00\",\"2022-07-06T00:00:00\",\"2022-07-07T00:00:00\",\"2022-07-08T00:00:00\",\"2022-07-11T00:00:00\",\"2022-07-12T00:00:00\",\"2022-07-13T00:00:00\",\"2022-07-14T00:00:00\",\"2022-07-15T00:00:00\",\"2022-07-18T00:00:00\",\"2022-07-19T00:00:00\",\"2022-07-20T00:00:00\",\"2022-07-21T00:00:00\",\"2022-07-22T00:00:00\",\"2022-07-25T00:00:00\",\"2022-07-26T00:00:00\",\"2022-07-27T00:00:00\",\"2022-07-28T00:00:00\",\"2022-07-29T00:00:00\",\"2022-08-01T00:00:00\",\"2022-08-02T00:00:00\",\"2022-08-03T00:00:00\",\"2022-08-04T00:00:00\",\"2022-08-05T00:00:00\",\"2022-08-08T00:00:00\",\"2022-08-09T00:00:00\",\"2022-08-10T00:00:00\",\"2022-08-11T00:00:00\",\"2022-08-12T00:00:00\",\"2022-08-15T00:00:00\",\"2022-08-16T00:00:00\",\"2022-08-17T00:00:00\",\"2022-08-18T00:00:00\",\"2022-08-19T00:00:00\",\"2022-08-22T00:00:00\",\"2022-08-23T00:00:00\",\"2022-08-24T00:00:00\",\"2022-08-25T00:00:00\",\"2022-08-26T00:00:00\",\"2022-08-29T00:00:00\",\"2022-08-30T00:00:00\",\"2022-08-31T00:00:00\",\"2022-09-01T00:00:00\",\"2022-09-02T00:00:00\",\"2022-09-06T00:00:00\",\"2022-09-07T00:00:00\",\"2022-09-08T00:00:00\",\"2022-09-09T00:00:00\",\"2022-09-12T00:00:00\",\"2022-09-13T00:00:00\",\"2022-09-14T00:00:00\",\"2022-09-15T00:00:00\",\"2022-09-16T00:00:00\",\"2022-09-19T00:00:00\",\"2022-09-20T00:00:00\",\"2022-09-21T00:00:00\",\"2022-09-22T00:00:00\",\"2022-09-23T00:00:00\",\"2022-09-26T00:00:00\",\"2022-09-27T00:00:00\",\"2022-09-28T00:00:00\",\"2022-09-29T00:00:00\",\"2022-09-30T00:00:00\",\"2022-10-03T00:00:00\",\"2022-10-04T00:00:00\",\"2022-10-05T00:00:00\",\"2022-10-06T00:00:00\",\"2022-10-07T00:00:00\",\"2022-10-10T00:00:00\",\"2022-10-11T00:00:00\",\"2022-10-12T00:00:00\",\"2022-10-13T00:00:00\",\"2022-10-14T00:00:00\",\"2022-10-17T00:00:00\",\"2022-10-18T00:00:00\",\"2022-10-19T00:00:00\",\"2022-10-20T00:00:00\",\"2022-10-21T00:00:00\",\"2022-10-24T00:00:00\",\"2022-10-25T00:00:00\",\"2022-10-26T00:00:00\",\"2022-10-27T00:00:00\",\"2022-10-28T00:00:00\",\"2022-10-31T00:00:00\",\"2022-11-01T00:00:00\",\"2022-11-02T00:00:00\",\"2022-11-03T00:00:00\",\"2022-11-04T00:00:00\",\"2022-11-07T00:00:00\",\"2022-11-08T00:00:00\",\"2022-11-09T00:00:00\",\"2022-11-10T00:00:00\",\"2022-11-11T00:00:00\",\"2022-11-14T00:00:00\",\"2022-11-15T00:00:00\",\"2022-11-16T00:00:00\",\"2022-11-17T00:00:00\",\"2022-11-18T00:00:00\",\"2022-11-21T00:00:00\",\"2022-11-22T00:00:00\",\"2022-11-23T00:00:00\",\"2022-11-25T00:00:00\",\"2022-11-28T00:00:00\",\"2022-11-29T00:00:00\",\"2022-11-30T00:00:00\",\"2022-12-01T00:00:00\",\"2022-12-02T00:00:00\",\"2022-12-05T00:00:00\",\"2022-12-06T00:00:00\",\"2022-12-07T00:00:00\",\"2022-12-08T00:00:00\",\"2022-12-09T00:00:00\",\"2022-12-12T00:00:00\",\"2022-12-13T00:00:00\",\"2022-12-14T00:00:00\",\"2022-12-15T00:00:00\",\"2022-12-16T00:00:00\",\"2022-12-19T00:00:00\",\"2022-12-20T00:00:00\",\"2022-12-21T00:00:00\",\"2022-12-22T00:00:00\",\"2022-12-23T00:00:00\",\"2022-12-27T00:00:00\",\"2022-12-28T00:00:00\",\"2022-12-29T00:00:00\",\"2022-12-30T00:00:00\",\"2023-01-03T00:00:00\",\"2023-01-04T00:00:00\",\"2023-01-05T00:00:00\",\"2023-01-06T00:00:00\",\"2023-01-09T00:00:00\",\"2023-01-10T00:00:00\",\"2023-01-11T00:00:00\",\"2023-01-12T00:00:00\",\"2023-01-13T00:00:00\",\"2023-01-17T00:00:00\",\"2023-01-18T00:00:00\",\"2023-01-19T00:00:00\",\"2023-01-20T00:00:00\",\"2023-01-23T00:00:00\",\"2023-01-24T00:00:00\",\"2023-01-25T00:00:00\",\"2023-01-26T00:00:00\",\"2023-01-27T00:00:00\",\"2023-01-30T00:00:00\",\"2023-01-31T00:00:00\",\"2023-02-01T00:00:00\",\"2023-02-02T00:00:00\",\"2023-02-03T00:00:00\",\"2023-02-06T00:00:00\",\"2023-02-07T00:00:00\"],\"y\":[7.809999942779541,7.940000057220459,8.0600004196167,7.949999809265137,7.960000038146973,8.3100004196167,8.229999542236328,7.800000190734863,7.800000190734863,7.78000020980835,7.510000228881836,8.0,7.78000020980835,7.53000020980835,6.980000019073486,5.110000133514404,4.889999866485596,4.25,4.289999961853027,4.320000171661377,4.519999980926514,4.579999923706055,4.369999885559082,4.340000152587891,4.289999961853027,4.679999828338623,4.760000228881836,4.829999923706055,4.619999885559082,4.789999961853027,4.519999980926514,4.710000038146973,4.400000095367432,4.429999828338623,4.730000019073486,4.610000133514404,4.420000076293945,4.380000114440918,4.679999828338623,4.400000095367432,4.25,4.21999979019165,4.349999904632568,4.139999866485596,4.090000152587891,4.210000038146973,4.0,3.9600000381469727,4.159999847412109,4.050000190734863,3.9100000858306885,3.7899999618530273,3.819999933242798,3.5899999141693115,3.490000009536743,3.7799999713897705,3.5299999713897705,3.690000057220459,3.6700000762939453,3.8299999237060547,3.75,3.6500000953674316,3.369999885559082,3.25,3.180000066757202,3.4700000286102295,3.700000047683716,3.490000009536743,3.619999885559082,3.299999952316284,3.4100000858306885,3.2899999618530273,3.369999885559082,3.2100000381469727,3.5399999618530273,4.130000114440918,4.050000190734863,3.940000057220459,3.7899999618530273,4.050000190734863,4.03000020980835,3.9100000858306885,4.019999980926514,4.050000190734863,3.859999895095825,3.7100000381469727,3.3299999237060547,3.4100000858306885,3.380000114440918,3.109999895095825,3.190000057220459,2.9600000381469727,2.8399999141693115,2.940000057220459,2.869999885559082,2.9600000381469727,3.0399999618530273,2.859999895095825,2.759999990463257,2.819999933242798,2.9200000762939453,2.9100000858306885,3.1500000953674316,3.0899999141693115,2.890000104904175,2.809999942779541,2.759999990463257,2.6600000858306885,2.759999990463257,2.859999895095825,3.009999990463257,3.0,2.950000047683716,1.899999976158142,2.009999990463257,1.9199999570846558,1.8700000047683716,1.9199999570846558,1.8799999952316284,1.899999976158142,1.840000033378601,1.940000057220459,1.9900000095367432,1.8799999952316284,2.059999942779541,1.9500000476837158,2.0799999237060547,2.0299999713897705,2.2799999713897705,2.3299999237060547,2.549999952316284,2.2100000381469727,2.1600000858306885,2.049999952316284,1.9500000476837158,1.7999999523162842,1.909999966621399,2.069999933242798,2.059999942779541,2.140000104904175,2.0899999141693115,2.0799999237060547,2.0,2.009999990463257,2.359999895095825,2.9200000762939453,2.359999895095825,2.140000104904175,2.0899999141693115,1.9600000381469727,1.7899999618530273,1.7000000476837158,1.5299999713897705,1.440000057220459,1.4500000476837158,1.5499999523162842,1.590000033378601,1.5399999618530273,1.4800000190734863,1.4800000190734863,1.4900000095367432,1.4199999570846558,1.4500000476837158,1.5199999809265137,1.559999942779541,1.559999942779541,1.4700000286102295,1.3700000047683716,1.340000033378601,1.2599999904632568,1.3899999856948853,1.559999942779541,1.440000057220459,1.5399999618530273,1.5700000524520874,1.6699999570846558,1.690000057220459,1.7100000381469727,1.7899999618530273,1.9900000095367432,1.9199999570846558,1.8300000429153442,2.0199999809265137,2.0399999618530273,1.9700000286102295,1.9199999570846558,1.9199999570846558,1.8799999952316284,1.690000057220459,1.5800000429153442,1.559999942779541,1.5099999904632568,1.8300000429153442,1.9800000190734863,1.9900000095367432,1.8600000143051147,1.8600000143051147,1.8200000524520874,1.6399999856948853,1.7799999713897705,1.7000000476837158,1.7100000381469727,1.7699999809265137,1.7899999618530273,1.7999999523162842,1.7799999713897705,1.940000057220459,1.8300000429153442,1.7400000095367432,1.809999942779541,1.7100000381469727,1.649999976158142,1.7400000095367432,1.690000057220459,1.6100000143051147,1.5499999523162842,1.7000000476837158,1.4800000190734863,1.4199999570846558,1.4800000190734863,1.3600000143051147,1.3300000429153442,1.2300000190734863,1.2400000095367432,1.2100000381469727,1.2699999809265137,1.3200000524520874,1.2999999523162842,1.309999942779541,1.350000023841858,1.3899999856948853,1.3899999856948853,1.399999976158142,1.4600000381469727,1.4500000476837158,1.5,1.5,1.5,1.4800000190734863,1.5,1.5,1.5,1.5,1.5199999809265137,1.5199999809265137,1.5199999809265137,1.5199999809265137,1.5099999904632568,1.5700000524520874,1.5399999618530273,1.5499999523162842],\"type\":\"scatter\"}],                        {\"template\":{\"data\":{\"bar\":[{\"error_x\":{\"color\":\"#2a3f5f\"},\"error_y\":{\"color\":\"#2a3f5f\"},\"marker\":{\"line\":{\"color\":\"#E5ECF6\",\"width\":0.5},\"pattern\":{\"fillmode\":\"overlay\",\"size\":10,\"solidity\":0.2}},\"type\":\"bar\"}],\"barpolar\":[{\"marker\":{\"line\":{\"color\":\"#E5ECF6\",\"width\":0.5},\"pattern\":{\"fillmode\":\"overlay\",\"size\":10,\"solidity\":0.2}},\"type\":\"barpolar\"}],\"carpet\":[{\"aaxis\":{\"endlinecolor\":\"#2a3f5f\",\"gridcolor\":\"white\",\"linecolor\":\"white\",\"minorgridcolor\":\"white\",\"startlinecolor\":\"#2a3f5f\"},\"baxis\":{\"endlinecolor\":\"#2a3f5f\",\"gridcolor\":\"white\",\"linecolor\":\"white\",\"minorgridcolor\":\"white\",\"startlinecolor\":\"#2a3f5f\"},\"type\":\"carpet\"}],\"choropleth\":[{\"colorbar\":{\"outlinewidth\":0,\"ticks\":\"\"},\"type\":\"choropleth\"}],\"contour\":[{\"colorbar\":{\"outlinewidth\":0,\"ticks\":\"\"},\"colorscale\":[[0.0,\"#0d0887\"],[0.1111111111111111,\"#46039f\"],[0.2222222222222222,\"#7201a8\"],[0.3333333333333333,\"#9c179e\"],[0.4444444444444444,\"#bd3786\"],[0.5555555555555556,\"#d8576b\"],[0.6666666666666666,\"#ed7953\"],[0.7777777777777778,\"#fb9f3a\"],[0.8888888888888888,\"#fdca26\"],[1.0,\"#f0f921\"]],\"type\":\"contour\"}],\"contourcarpet\":[{\"colorbar\":{\"outlinewidth\":0,\"ticks\":\"\"},\"type\":\"contourcarpet\"}],\"heatmap\":[{\"colorbar\":{\"outlinewidth\":0,\"ticks\":\"\"},\"colorscale\":[[0.0,\"#0d0887\"],[0.1111111111111111,\"#46039f\"],[0.2222222222222222,\"#7201a8\"],[0.3333333333333333,\"#9c179e\"],[0.4444444444444444,\"#bd3786\"],[0.5555555555555556,\"#d8576b\"],[0.6666666666666666,\"#ed7953\"],[0.7777777777777778,\"#fb9f3a\"],[0.8888888888888888,\"#fdca26\"],[1.0,\"#f0f921\"]],\"type\":\"heatmap\"}],\"heatmapgl\":[{\"colorbar\":{\"outlinewidth\":0,\"ticks\":\"\"},\"colorscale\":[[0.0,\"#0d0887\"],[0.1111111111111111,\"#46039f\"],[0.2222222222222222,\"#7201a8\"],[0.3333333333333333,\"#9c179e\"],[0.4444444444444444,\"#bd3786\"],[0.5555555555555556,\"#d8576b\"],[0.6666666666666666,\"#ed7953\"],[0.7777777777777778,\"#fb9f3a\"],[0.8888888888888888,\"#fdca26\"],[1.0,\"#f0f921\"]],\"type\":\"heatmapgl\"}],\"histogram\":[{\"marker\":{\"pattern\":{\"fillmode\":\"overlay\",\"size\":10,\"solidity\":0.2}},\"type\":\"histogram\"}],\"histogram2d\":[{\"colorbar\":{\"outlinewidth\":0,\"ticks\":\"\"},\"colorscale\":[[0.0,\"#0d0887\"],[0.1111111111111111,\"#46039f\"],[0.2222222222222222,\"#7201a8\"],[0.3333333333333333,\"#9c179e\"],[0.4444444444444444,\"#bd3786\"],[0.5555555555555556,\"#d8576b\"],[0.6666666666666666,\"#ed7953\"],[0.7777777777777778,\"#fb9f3a\"],[0.8888888888888888,\"#fdca26\"],[1.0,\"#f0f921\"]],\"type\":\"histogram2d\"}],\"histogram2dcontour\":[{\"colorbar\":{\"outlinewidth\":0,\"ticks\":\"\"},\"colorscale\":[[0.0,\"#0d0887\"],[0.1111111111111111,\"#46039f\"],[0.2222222222222222,\"#7201a8\"],[0.3333333333333333,\"#9c179e\"],[0.4444444444444444,\"#bd3786\"],[0.5555555555555556,\"#d8576b\"],[0.6666666666666666,\"#ed7953\"],[0.7777777777777778,\"#fb9f3a\"],[0.8888888888888888,\"#fdca26\"],[1.0,\"#f0f921\"]],\"type\":\"histogram2dcontour\"}],\"mesh3d\":[{\"colorbar\":{\"outlinewidth\":0,\"ticks\":\"\"},\"type\":\"mesh3d\"}],\"parcoords\":[{\"line\":{\"colorbar\":{\"outlinewidth\":0,\"ticks\":\"\"}},\"type\":\"parcoords\"}],\"pie\":[{\"automargin\":true,\"type\":\"pie\"}],\"scatter\":[{\"marker\":{\"colorbar\":{\"outlinewidth\":0,\"ticks\":\"\"}},\"type\":\"scatter\"}],\"scatter3d\":[{\"line\":{\"colorbar\":{\"outlinewidth\":0,\"ticks\":\"\"}},\"marker\":{\"colorbar\":{\"outlinewidth\":0,\"ticks\":\"\"}},\"type\":\"scatter3d\"}],\"scattercarpet\":[{\"marker\":{\"colorbar\":{\"outlinewidth\":0,\"ticks\":\"\"}},\"type\":\"scattercarpet\"}],\"scattergeo\":[{\"marker\":{\"colorbar\":{\"outlinewidth\":0,\"ticks\":\"\"}},\"type\":\"scattergeo\"}],\"scattergl\":[{\"marker\":{\"colorbar\":{\"outlinewidth\":0,\"ticks\":\"\"}},\"type\":\"scattergl\"}],\"scattermapbox\":[{\"marker\":{\"colorbar\":{\"outlinewidth\":0,\"ticks\":\"\"}},\"type\":\"scattermapbox\"}],\"scatterpolar\":[{\"marker\":{\"colorbar\":{\"outlinewidth\":0,\"ticks\":\"\"}},\"type\":\"scatterpolar\"}],\"scatterpolargl\":[{\"marker\":{\"colorbar\":{\"outlinewidth\":0,\"ticks\":\"\"}},\"type\":\"scatterpolargl\"}],\"scatterternary\":[{\"marker\":{\"colorbar\":{\"outlinewidth\":0,\"ticks\":\"\"}},\"type\":\"scatterternary\"}],\"surface\":[{\"colorbar\":{\"outlinewidth\":0,\"ticks\":\"\"},\"colorscale\":[[0.0,\"#0d0887\"],[0.1111111111111111,\"#46039f\"],[0.2222222222222222,\"#7201a8\"],[0.3333333333333333,\"#9c179e\"],[0.4444444444444444,\"#bd3786\"],[0.5555555555555556,\"#d8576b\"],[0.6666666666666666,\"#ed7953\"],[0.7777777777777778,\"#fb9f3a\"],[0.8888888888888888,\"#fdca26\"],[1.0,\"#f0f921\"]],\"type\":\"surface\"}],\"table\":[{\"cells\":{\"fill\":{\"color\":\"#EBF0F8\"},\"line\":{\"color\":\"white\"}},\"header\":{\"fill\":{\"color\":\"#C8D4E3\"},\"line\":{\"color\":\"white\"}},\"type\":\"table\"}]},\"layout\":{\"annotationdefaults\":{\"arrowcolor\":\"#2a3f5f\",\"arrowhead\":0,\"arrowwidth\":1},\"autotypenumbers\":\"strict\",\"coloraxis\":{\"colorbar\":{\"outlinewidth\":0,\"ticks\":\"\"}},\"colorscale\":{\"diverging\":[[0,\"#8e0152\"],[0.1,\"#c51b7d\"],[0.2,\"#de77ae\"],[0.3,\"#f1b6da\"],[0.4,\"#fde0ef\"],[0.5,\"#f7f7f7\"],[0.6,\"#e6f5d0\"],[0.7,\"#b8e186\"],[0.8,\"#7fbc41\"],[0.9,\"#4d9221\"],[1,\"#276419\"]],\"sequential\":[[0.0,\"#0d0887\"],[0.1111111111111111,\"#46039f\"],[0.2222222222222222,\"#7201a8\"],[0.3333333333333333,\"#9c179e\"],[0.4444444444444444,\"#bd3786\"],[0.5555555555555556,\"#d8576b\"],[0.6666666666666666,\"#ed7953\"],[0.7777777777777778,\"#fb9f3a\"],[0.8888888888888888,\"#fdca26\"],[1.0,\"#f0f921\"]],\"sequentialminus\":[[0.0,\"#0d0887\"],[0.1111111111111111,\"#46039f\"],[0.2222222222222222,\"#7201a8\"],[0.3333333333333333,\"#9c179e\"],[0.4444444444444444,\"#bd3786\"],[0.5555555555555556,\"#d8576b\"],[0.6666666666666666,\"#ed7953\"],[0.7777777777777778,\"#fb9f3a\"],[0.8888888888888888,\"#fdca26\"],[1.0,\"#f0f921\"]]},\"colorway\":[\"#636efa\",\"#EF553B\",\"#00cc96\",\"#ab63fa\",\"#FFA15A\",\"#19d3f3\",\"#FF6692\",\"#B6E880\",\"#FF97FF\",\"#FECB52\"],\"font\":{\"color\":\"#2a3f5f\"},\"geo\":{\"bgcolor\":\"white\",\"lakecolor\":\"white\",\"landcolor\":\"#E5ECF6\",\"showlakes\":true,\"showland\":true,\"subunitcolor\":\"white\"},\"hoverlabel\":{\"align\":\"left\"},\"hovermode\":\"closest\",\"mapbox\":{\"style\":\"light\"},\"paper_bgcolor\":\"white\",\"plot_bgcolor\":\"#E5ECF6\",\"polar\":{\"angularaxis\":{\"gridcolor\":\"white\",\"linecolor\":\"white\",\"ticks\":\"\"},\"bgcolor\":\"#E5ECF6\",\"radialaxis\":{\"gridcolor\":\"white\",\"linecolor\":\"white\",\"ticks\":\"\"}},\"scene\":{\"xaxis\":{\"backgroundcolor\":\"#E5ECF6\",\"gridcolor\":\"white\",\"gridwidth\":2,\"linecolor\":\"white\",\"showbackground\":true,\"ticks\":\"\",\"zerolinecolor\":\"white\"},\"yaxis\":{\"backgroundcolor\":\"#E5ECF6\",\"gridcolor\":\"white\",\"gridwidth\":2,\"linecolor\":\"white\",\"showbackground\":true,\"ticks\":\"\",\"zerolinecolor\":\"white\"},\"zaxis\":{\"backgroundcolor\":\"#E5ECF6\",\"gridcolor\":\"white\",\"gridwidth\":2,\"linecolor\":\"white\",\"showbackground\":true,\"ticks\":\"\",\"zerolinecolor\":\"white\"}},\"shapedefaults\":{\"line\":{\"color\":\"#2a3f5f\"}},\"ternary\":{\"aaxis\":{\"gridcolor\":\"white\",\"linecolor\":\"white\",\"ticks\":\"\"},\"baxis\":{\"gridcolor\":\"white\",\"linecolor\":\"white\",\"ticks\":\"\"},\"bgcolor\":\"#E5ECF6\",\"caxis\":{\"gridcolor\":\"white\",\"linecolor\":\"white\",\"ticks\":\"\"}},\"title\":{\"x\":0.05},\"xaxis\":{\"automargin\":true,\"gridcolor\":\"white\",\"linecolor\":\"white\",\"ticks\":\"\",\"title\":{\"standoff\":15},\"zerolinecolor\":\"white\",\"zerolinewidth\":2},\"yaxis\":{\"automargin\":true,\"gridcolor\":\"white\",\"linecolor\":\"white\",\"ticks\":\"\",\"title\":{\"standoff\":15},\"zerolinecolor\":\"white\",\"zerolinewidth\":2}}},\"title\":{\"text\":\"Closing Analysis of Akka Technologies\"},\"xaxis\":{\"title\":{\"text\":\"Time\"}},\"yaxis\":{\"title\":{\"text\":\"Closing Price\"}}},                        {\"responsive\": true}                    ).then(function(){\n",
              "                            \n",
              "var gd = document.getElementById('faa88fcc-3a80-4262-9bd7-a633d25ce6e1');\n",
              "var x = new MutationObserver(function (mutations, observer) {{\n",
              "        var display = window.getComputedStyle(gd).display;\n",
              "        if (!display || display === 'none') {{\n",
              "            console.log([gd, 'removed!']);\n",
              "            Plotly.purge(gd);\n",
              "            observer.disconnect();\n",
              "        }}\n",
              "}});\n",
              "\n",
              "// Listen for the removal of the full notebook cells\n",
              "var notebookContainer = gd.closest('#notebook-container');\n",
              "if (notebookContainer) {{\n",
              "    x.observe(notebookContainer, {childList: true});\n",
              "}}\n",
              "\n",
              "// Listen for the clearing of the current output cell\n",
              "var outputEl = gd.closest('.output');\n",
              "if (outputEl) {{\n",
              "    x.observe(outputEl, {childList: true});\n",
              "}}\n",
              "\n",
              "                        })                };                            </script>        </div>\n",
              "</body>\n",
              "</html>"
            ]
          },
          "metadata": {}
        }
      ]
    },
    {
      "cell_type": "markdown",
      "source": [
        "**Candlestick Charts**\n",
        "\n",
        "It is a financial charting style that describes the open, high, low, and close for a given x-coordinate (most likely time). The boxes represent the spread between the open and close values and the lines represent the spread between the low and high values. Sampling points where the close value is higher (lower) than the open value are referred to as bullish (bearish). By default, bullish candles are drawn in green, while bearish ones are drawn in red."
      ],
      "metadata": {
        "id": "SGiOUcsvIfSm"
      }
    },
    {
      "cell_type": "code",
      "source": [
        "# Clandestik Graphic\n",
        "Candlestick_Graphic = go.Figure(\n",
        "    data=[\n",
        "        go.Candlestick(\n",
        "            x=Data.index,\n",
        "            open=Data['Open'],\n",
        "            high=Data['High'],\n",
        "            low=Data['Low'],\n",
        "            close=Data['Close'],\n",
        "            increasing_line_color='cyan',\n",
        "            decreasing_line_color='gray'\n",
        "        )\n",
        "    ]\n",
        ")\n",
        "\n",
        "\n",
        "Candlestick_Graphic.update_layout(\n",
        "    xaxis_rangeslider_visible=False,\n",
        "    title='Closing Analysis of AKKA Technologies',\n",
        "    xaxis_title='Time',\n",
        "    yaxis_title='Closing Price'\n",
        ")\n",
        "\n",
        "\n",
        "Candlestick_Graphic.show()"
      ],
      "metadata": {
        "colab": {
          "base_uri": "https://localhost:8080/",
          "height": 542
        },
        "id": "Zvwc8dOmIHfU",
        "outputId": "0251d5b9-25dd-44a6-cc63-acbc13874146"
      },
      "execution_count": 14,
      "outputs": [
        {
          "output_type": "display_data",
          "data": {
            "text/html": [
              "<html>\n",
              "<head><meta charset=\"utf-8\" /></head>\n",
              "<body>\n",
              "    <div>            <script src=\"https://cdnjs.cloudflare.com/ajax/libs/mathjax/2.7.5/MathJax.js?config=TeX-AMS-MML_SVG\"></script><script type=\"text/javascript\">if (window.MathJax) {MathJax.Hub.Config({SVG: {font: \"STIX-Web\"}});}</script>                <script type=\"text/javascript\">window.PlotlyConfig = {MathJaxConfig: 'local'};</script>\n",
              "        <script src=\"https://cdn.plot.ly/plotly-2.8.3.min.js\"></script>                <div id=\"911a6595-2e55-4dfa-b8a9-66dc9fb1308a\" class=\"plotly-graph-div\" style=\"height:525px; width:100%;\"></div>            <script type=\"text/javascript\">                                    window.PLOTLYENV=window.PLOTLYENV || {};                                    if (document.getElementById(\"911a6595-2e55-4dfa-b8a9-66dc9fb1308a\")) {                    Plotly.newPlot(                        \"911a6595-2e55-4dfa-b8a9-66dc9fb1308a\",                        [{\"close\":[7.809999942779541,7.940000057220459,8.0600004196167,7.949999809265137,7.960000038146973,8.3100004196167,8.229999542236328,7.800000190734863,7.800000190734863,7.78000020980835,7.510000228881836,8.0,7.78000020980835,7.53000020980835,6.980000019073486,5.110000133514404,4.889999866485596,4.25,4.289999961853027,4.320000171661377,4.519999980926514,4.579999923706055,4.369999885559082,4.340000152587891,4.289999961853027,4.679999828338623,4.760000228881836,4.829999923706055,4.619999885559082,4.789999961853027,4.519999980926514,4.710000038146973,4.400000095367432,4.429999828338623,4.730000019073486,4.610000133514404,4.420000076293945,4.380000114440918,4.679999828338623,4.400000095367432,4.25,4.21999979019165,4.349999904632568,4.139999866485596,4.090000152587891,4.210000038146973,4.0,3.9600000381469727,4.159999847412109,4.050000190734863,3.9100000858306885,3.7899999618530273,3.819999933242798,3.5899999141693115,3.490000009536743,3.7799999713897705,3.5299999713897705,3.690000057220459,3.6700000762939453,3.8299999237060547,3.75,3.6500000953674316,3.369999885559082,3.25,3.180000066757202,3.4700000286102295,3.700000047683716,3.490000009536743,3.619999885559082,3.299999952316284,3.4100000858306885,3.2899999618530273,3.369999885559082,3.2100000381469727,3.5399999618530273,4.130000114440918,4.050000190734863,3.940000057220459,3.7899999618530273,4.050000190734863,4.03000020980835,3.9100000858306885,4.019999980926514,4.050000190734863,3.859999895095825,3.7100000381469727,3.3299999237060547,3.4100000858306885,3.380000114440918,3.109999895095825,3.190000057220459,2.9600000381469727,2.8399999141693115,2.940000057220459,2.869999885559082,2.9600000381469727,3.0399999618530273,2.859999895095825,2.759999990463257,2.819999933242798,2.9200000762939453,2.9100000858306885,3.1500000953674316,3.0899999141693115,2.890000104904175,2.809999942779541,2.759999990463257,2.6600000858306885,2.759999990463257,2.859999895095825,3.009999990463257,3.0,2.950000047683716,1.899999976158142,2.009999990463257,1.9199999570846558,1.8700000047683716,1.9199999570846558,1.8799999952316284,1.899999976158142,1.840000033378601,1.940000057220459,1.9900000095367432,1.8799999952316284,2.059999942779541,1.9500000476837158,2.0799999237060547,2.0299999713897705,2.2799999713897705,2.3299999237060547,2.549999952316284,2.2100000381469727,2.1600000858306885,2.049999952316284,1.9500000476837158,1.7999999523162842,1.909999966621399,2.069999933242798,2.059999942779541,2.140000104904175,2.0899999141693115,2.0799999237060547,2.0,2.009999990463257,2.359999895095825,2.9200000762939453,2.359999895095825,2.140000104904175,2.0899999141693115,1.9600000381469727,1.7899999618530273,1.7000000476837158,1.5299999713897705,1.440000057220459,1.4500000476837158,1.5499999523162842,1.590000033378601,1.5399999618530273,1.4800000190734863,1.4800000190734863,1.4900000095367432,1.4199999570846558,1.4500000476837158,1.5199999809265137,1.559999942779541,1.559999942779541,1.4700000286102295,1.3700000047683716,1.340000033378601,1.2599999904632568,1.3899999856948853,1.559999942779541,1.440000057220459,1.5399999618530273,1.5700000524520874,1.6699999570846558,1.690000057220459,1.7100000381469727,1.7899999618530273,1.9900000095367432,1.9199999570846558,1.8300000429153442,2.0199999809265137,2.0399999618530273,1.9700000286102295,1.9199999570846558,1.9199999570846558,1.8799999952316284,1.690000057220459,1.5800000429153442,1.559999942779541,1.5099999904632568,1.8300000429153442,1.9800000190734863,1.9900000095367432,1.8600000143051147,1.8600000143051147,1.8200000524520874,1.6399999856948853,1.7799999713897705,1.7000000476837158,1.7100000381469727,1.7699999809265137,1.7899999618530273,1.7999999523162842,1.7799999713897705,1.940000057220459,1.8300000429153442,1.7400000095367432,1.809999942779541,1.7100000381469727,1.649999976158142,1.7400000095367432,1.690000057220459,1.6100000143051147,1.5499999523162842,1.7000000476837158,1.4800000190734863,1.4199999570846558,1.4800000190734863,1.3600000143051147,1.3300000429153442,1.2300000190734863,1.2400000095367432,1.2100000381469727,1.2699999809265137,1.3200000524520874,1.2999999523162842,1.309999942779541,1.350000023841858,1.3899999856948853,1.3899999856948853,1.399999976158142,1.4600000381469727,1.4500000476837158,1.5,1.5,1.5,1.4800000190734863,1.5,1.5,1.5,1.5,1.5199999809265137,1.5199999809265137,1.5199999809265137,1.5199999809265137,1.5099999904632568,1.5700000524520874,1.5399999618530273,1.5499999523162842],\"decreasing\":{\"line\":{\"color\":\"gray\"}},\"high\":[7.869999885559082,8.170000076293945,8.350000381469727,8.25,8.180000305175781,8.369999885559082,8.369999885559082,8.15999984741211,7.949999809265137,8.229000091552734,7.869999885559082,8.029999732971191,8.050000190734863,7.949999809265137,7.670000076293945,6.010000228881836,5.369999885559082,4.860000133514404,4.320000171661377,4.53000020980835,4.710000038146973,4.610000133514404,4.690000057220459,4.650000095367432,4.519999980926514,4.699999809265137,4.809999942779541,4.914999961853027,4.800000190734863,4.900000095367432,4.78000020980835,4.730000019073486,4.730000019073486,4.489999771118164,4.755000114440918,4.860000133514404,4.630000114440918,4.534999847412109,4.690000057220459,4.699999809265137,4.423999786376953,4.414999961853027,4.514999866485596,4.5,4.429999828338623,4.309999942779541,4.550000190734863,4.179999828338623,4.389999866485596,4.230000019073486,4.216000080108643,4.0,3.940000057220459,3.8299999237060547,3.8399999141693115,3.8499999046325684,3.930000066757202,3.7300000190734863,3.799999952316284,3.880000114440918,3.8299999237060547,3.765000104904175,3.619999885559082,3.5899999141693115,3.690000057220459,3.549999952316284,3.759999990463257,3.700000047683716,3.700000047683716,3.5999999046325684,3.5199999809265137,3.5799999237060547,3.369999885559082,3.319999933242798,3.549999952316284,4.28000020980835,4.230000019073486,4.019999980926514,4.039999961853027,4.159999847412109,4.090000152587891,4.150000095367432,4.039999961853027,4.150000095367432,4.050000190734863,3.859999895095825,3.5399999618530273,3.4509999752044678,3.569999933242798,3.2799999713897705,3.2799999713897705,3.2899999618530273,3.0399999618530273,3.0199999809265137,3.180000066757202,3.115000009536743,3.1600000858306885,3.059999942779541,2.880000114440918,2.8499999046325684,2.940000057220459,2.9700000286102295,3.1600000858306885,3.196000099182129,3.049999952316284,2.9549999237060547,2.8299999237060547,2.75,3.0299999713897705,3.0299999713897705,3.0799999237060547,3.2300000190734863,3.059999942779541,2.8399999141693115,2.0380001068115234,2.0399999618530273,1.9800000190734863,1.9500000476837158,1.9600000381469727,1.9800000190734863,1.9500000476837158,1.9500000476837158,2.0199999809265137,1.9630000591278076,2.130000114440918,2.109999895095825,2.109999895095825,2.2230000495910645,2.309999942779541,2.4000000953674316,2.7300000190734863,2.630000114440918,2.25,2.125,2.1500000953674316,2.0,1.909999966621399,2.109999895095825,2.109999895095825,2.1600000858306885,2.1600000858306885,2.1700000762939453,2.059999942779541,2.049999952316284,2.380000114440918,2.950000047683716,3.0,2.4839999675750732,2.2699999809265137,2.0299999713897705,2.0190000534057617,1.8489999771118164,1.7200000286102295,1.6100000143051147,1.7799999713897705,1.600000023841858,1.6100000143051147,1.5700000524520874,1.600000023841858,1.5390000343322754,1.5219999551773071,1.496000051498413,1.4700000286102295,1.5399999618530273,1.590000033378601,1.6200000047683716,1.565000057220459,1.4600000381469727,1.4290000200271606,1.3559999465942383,1.409999966621399,1.5800000429153442,1.6200000047683716,1.649999976158142,1.7100000381469727,1.690000057220459,1.899999976158142,1.8650000095367432,1.815000057220459,2.049999952316284,2.059999942779541,1.9500000476837158,2.049999952316284,2.1500000953674316,2.119999885559082,2.049999952316284,2.0199999809265137,2.0399999618530273,1.9600000381469727,1.690000057220459,1.6130000352859497,1.7300000190734863,2.0199999809265137,2.009999990463257,2.0799999237060547,1.9789999723434448,1.8700000047683716,1.909999966621399,1.840000033378601,1.7899999618530273,1.7619999647140503,1.75,1.7999999523162842,1.8799999952316284,1.8700000047683716,1.8700000047683716,1.940000057220459,1.940000057220459,1.909999966621399,1.850000023841858,1.8890000581741333,1.7599999904632568,1.7799999713897705,1.840000033378601,1.7799999713897705,1.6100000143051147,1.7300000190734863,1.7300000190734863,1.496999979019165,1.5099999904632568,1.5,1.399999976158142,1.350000023841858,1.2899999618530273,1.340000033378601,1.340000033378601,1.3200000524520874,1.3600000143051147,1.3600000143051147,1.3899999856948853,1.4600000381469727,1.4299999475479126,1.4900000095367432,1.5,1.5,1.5,1.5,1.5049999952316284,1.5,1.5,1.5,1.5499999523162842,1.5399999618530273,1.5700000524520874,1.5700000524520874,1.590000033378601,1.5449999570846558,1.590000033378601,1.600000023841858,1.5800000429153442,1.5800000429153442],\"increasing\":{\"line\":{\"color\":\"cyan\"}},\"low\":[7.449999809265137,7.809999942779541,7.659999847412109,7.710000038146973,7.829999923706055,8.0,8.020000457763672,7.769999980926514,7.599999904632568,7.639999866485596,7.489999771118164,6.909999847412109,7.639999866485596,7.440000057220459,6.789999961853027,5.050000190734863,4.699999809265137,4.210000038146973,3.9200000762939453,4.090000152587891,4.440000057220459,4.300000190734863,4.2729997634887695,4.335000038146973,4.190000057220459,4.360000133514404,4.610000133514404,4.659999847412109,4.514999866485596,4.53000020980835,4.519999980926514,4.329999923706055,4.289999961853027,4.25,4.460000038146973,4.599999904632568,4.369999885559082,4.340000152587891,4.349999904632568,4.340000152587891,4.079999923706055,4.150000095367432,4.119999885559082,4.099999904632568,4.059999942779541,4.090000152587891,4.0,3.859999895095825,3.9600000381469727,4.0,3.8299999237060547,3.75,3.740000009536743,3.5799999237060547,3.490000009536743,3.5299999713897705,3.5299999713897705,3.4800000190734863,3.609999895095825,3.565000057220459,3.625,3.5199999809265137,3.3399999141693115,3.130000114440918,3.1700000762939453,3.049999952316284,3.509999990463257,3.4600000381469727,3.4600000381469727,3.299999952316284,3.2799999713897705,3.180000066757202,3.180000066757202,3.13100004196167,3.190000057220459,3.5899999141693115,3.759999990463257,3.7300000190734863,3.690000057220459,3.799999952316284,3.9000000953674316,3.890000104904175,3.809999942779541,3.9700000286102295,3.8499999046325684,3.6760001182556152,2.950000047683716,2.9200000762939453,3.3450000286102295,3.0299999713897705,3.0999999046325684,2.950000047683716,2.8399999141693115,2.8399999141693115,2.8399999141693115,2.9049999713897705,2.9800000190734863,2.799999952316284,2.700000047683716,2.6389999389648438,2.630000114440918,2.7200000286102295,2.9600000381469727,3.009999990463257,2.890000104904175,2.75,2.7100000381469727,2.619999885559082,2.6700000762939453,2.7699999809265137,2.9700000286102295,2.8610000610351562,2.8949999809265137,1.8799999952316284,1.8200000524520874,1.8200000524520874,1.7999999523162842,1.850000023841858,1.8600000143051147,1.7999999523162842,1.840000033378601,1.850000023841858,1.9240000247955322,1.8650000095367432,1.8600000143051147,1.8899999856948853,1.9700000286102295,1.840000033378601,2.003000020980835,2.2100000381469727,2.2699999809265137,2.1700000762939453,2.0250000953674316,1.9500000476837158,1.9299999475479126,1.7400000095367432,1.7999999523162842,1.8799999952316284,1.9299999475479126,1.975000023841858,2.0399999618530273,2.0399999618530273,1.8799999952316284,1.8700000047683716,2.015000104904175,2.25,2.299999952316284,2.130000114440918,2.0199999809265137,1.899999976158142,1.7599999904632568,1.690000057220459,1.5299999713897705,1.4199999570846558,1.409999966621399,1.3300000429153442,1.4500000476837158,1.4199999570846558,1.4600000381469727,1.4600000381469727,1.409999966621399,1.3799999952316284,1.3700000047683716,1.409999966621399,1.4299999475479126,1.4299999475479126,1.440000057220459,1.3200000524520874,1.3300000429153442,1.25,1.2480000257492065,1.284000039100647,1.399999976158142,1.4800000190734863,1.5399999618530273,1.5140000581741333,1.6799999475479126,1.6100000143051147,1.7100000381469727,1.8200000524520874,1.8899999856948853,1.7899999618530273,1.812000036239624,1.9900000095367432,1.9199999570846558,1.850000023841858,1.8609999418258667,1.8300000429153442,1.6699999570846558,1.5099999904632568,1.559999942779541,1.4199999570846558,1.5219999551773071,1.7599999904632568,1.8899999856948853,1.809999942779541,1.690000057220459,1.6799999475479126,1.5299999713897705,1.600000023841858,1.6399999856948853,1.6690000295639038,1.7000000476837158,1.74399995803833,1.75,1.75,1.690000057220459,1.7710000276565552,1.659999966621399,1.6920000314712524,1.649999976158142,1.590000033378601,1.559999942779541,1.6100000143051147,1.5800000429153442,1.4700000286102295,1.4500000476837158,1.465000033378601,1.4199999570846558,1.4320000410079956,1.2999999523162842,1.3200000524520874,1.2200000286102295,1.194000005722046,1.1200000047683716,1.149999976158142,1.2699999809265137,1.190000057220459,1.2740000486373901,1.3049999475479126,1.3300000429153442,1.3600000143051147,1.340000033378601,1.3899999856948853,1.4199999570846558,1.4210000038146973,1.4800000190734863,1.4700000286102295,1.4149999618530273,1.4500000476837158,1.4800000190734863,1.4600000381469727,1.4900000095367432,1.4800000190734863,1.5,1.4800000190734863,1.4800000190734863,1.5099999904632568,1.4709999561309814,1.5299999713897705,1.5299999713897705],\"open\":[7.610000133514404,7.929999828338623,7.699999809265137,7.980000019073486,7.960000038146973,8.149999618530273,8.220000267028809,8.119999885559082,7.75,7.639999866485596,7.869999885559082,6.989999771118164,8.020000457763672,7.71999979019165,7.5,5.940000057220459,5.300000190734863,4.820000171661377,4.309999942779541,4.349999904632568,4.489999771118164,4.5,4.639999866485596,4.369999885559082,4.329999923706055,4.420000076293945,4.610000133514404,4.800000190734863,4.789999961853027,4.650000095367432,4.710000038146973,4.579999923706055,4.710000038146973,4.400000095367432,4.46999979019165,4.71999979019165,4.630000114440918,4.480000019073486,4.389999866485596,4.679999828338623,4.380000114440918,4.260000228881836,4.21999979019165,4.269999980926514,4.25,4.119999885559082,4.239999771118164,4.0,3.9800000190734863,4.159999847412109,4.150000095367432,3.9200000762939453,3.740000009536743,3.799999952316284,3.5999999046325684,3.5399999618530273,3.75,3.5399999618530273,3.7200000286102295,3.680000066757202,3.759999990463257,3.7300000190734863,3.5399999618530273,3.4800000190734863,3.690000057220459,3.0999999046325684,3.619999885559082,3.6600000858306885,3.5799999237060547,3.5199999809265137,3.2799999713897705,3.4700000286102295,3.299999952316284,3.2899999618530273,3.190000057220459,3.5899999141693115,4.090000152587891,4.0,4.010000228881836,3.799999952316284,4.050000190734863,4.090000152587891,3.859999895095825,4.0,4.050000190734863,3.799999952316284,3.5399999618530273,3.369999885559082,3.490000009536743,3.259999990463257,3.140000104904175,3.2699999809265137,2.9600000381469727,2.869999885559082,2.990000009536743,2.9600000381469727,2.9800000190734863,3.059999942779541,2.809999942779541,2.700000047683716,2.740000009536743,2.9200000762939453,2.9800000190734863,3.0899999141693115,3.009999990463257,2.8499999046325684,2.740000009536743,2.7300000190734863,2.740000009536743,2.7899999618530273,2.9800000190734863,3.0,3.009999990463257,2.819999933242798,1.9299999475479126,2.009999990463257,1.9800000190734863,1.8899999856948853,1.899999976158142,1.8899999856948853,1.899999976158142,1.850000023841858,1.9700000286102295,1.9600000381469727,1.8799999952316284,2.069999933242798,1.9900000095367432,1.940000057220459,2.069999933242798,2.2799999713897705,2.2899999618530273,2.490000009536743,2.25,2.049999952316284,2.0,2.0,1.809999942779541,1.8899999856948853,2.069999933242798,2.009999990463257,2.1600000858306885,2.0899999141693115,2.059999942779541,2.0,2.049999952316284,2.490000009536743,2.9800000190734863,2.440000057220459,2.130000114440918,2.0,2.0,1.7699999809265137,1.7100000381469727,1.6100000143051147,1.409999966621399,1.4199999570846558,1.5499999523162842,1.5700000524520874,1.5,1.4800000190734863,1.5099999904632568,1.4700000286102295,1.4299999475479126,1.5099999904632568,1.5800000429153442,1.4900000095367432,1.5499999523162842,1.4600000381469727,1.340000033378601,1.340000033378601,1.2899999618530273,1.309999942779541,1.5800000429153442,1.4800000190734863,1.5700000524520874,1.559999942779541,1.690000057220459,1.7100000381469727,1.7400000095367432,1.8300000429153442,2.009999990463257,1.899999976158142,1.8700000047683716,2.0399999618530273,2.059999942779541,1.9500000476837158,1.899999976158142,1.9600000381469727,1.8700000047683716,1.6699999570846558,1.5800000429153442,1.6699999570846558,1.649999976158142,1.8200000524520874,2.0,1.9600000381469727,1.840000033378601,1.909999966621399,1.840000033378601,1.6100000143051147,1.7300000190734863,1.7200000286102295,1.7400000095367432,1.7999999523162842,1.840000033378601,1.7999999523162842,1.690000057220459,1.9199999570846558,1.8600000143051147,1.7599999904632568,1.8300000429153442,1.7109999656677246,1.659999966621399,1.7699999809265137,1.7799999713897705,1.590000033378601,1.5299999713897705,1.7100000381469727,1.4800000190734863,1.440000057220459,1.5,1.399999976158142,1.2999999523162842,1.2200000286102295,1.25,1.149999976158142,1.2999999523162842,1.309999942779541,1.350000023841858,1.350000023841858,1.350000023841858,1.3899999856948853,1.440000057220459,1.4700000286102295,1.4500000476837158,1.5,1.5,1.5,1.5,1.4700000286102295,1.5,1.5,1.5,1.4800000190734863,1.5499999523162842,1.5199999809265137,1.5,1.5299999713897705,1.5099999904632568,1.5700000524520874,1.5199999809265137],\"x\":[\"2022-02-08T00:00:00\",\"2022-02-09T00:00:00\",\"2022-02-10T00:00:00\",\"2022-02-11T00:00:00\",\"2022-02-14T00:00:00\",\"2022-02-15T00:00:00\",\"2022-02-16T00:00:00\",\"2022-02-17T00:00:00\",\"2022-02-18T00:00:00\",\"2022-02-22T00:00:00\",\"2022-02-23T00:00:00\",\"2022-02-24T00:00:00\",\"2022-02-25T00:00:00\",\"2022-02-28T00:00:00\",\"2022-03-01T00:00:00\",\"2022-03-02T00:00:00\",\"2022-03-03T00:00:00\",\"2022-03-04T00:00:00\",\"2022-03-07T00:00:00\",\"2022-03-08T00:00:00\",\"2022-03-09T00:00:00\",\"2022-03-10T00:00:00\",\"2022-03-11T00:00:00\",\"2022-03-14T00:00:00\",\"2022-03-15T00:00:00\",\"2022-03-16T00:00:00\",\"2022-03-17T00:00:00\",\"2022-03-18T00:00:00\",\"2022-03-21T00:00:00\",\"2022-03-22T00:00:00\",\"2022-03-23T00:00:00\",\"2022-03-24T00:00:00\",\"2022-03-25T00:00:00\",\"2022-03-28T00:00:00\",\"2022-03-29T00:00:00\",\"2022-03-30T00:00:00\",\"2022-03-31T00:00:00\",\"2022-04-01T00:00:00\",\"2022-04-04T00:00:00\",\"2022-04-05T00:00:00\",\"2022-04-06T00:00:00\",\"2022-04-07T00:00:00\",\"2022-04-08T00:00:00\",\"2022-04-11T00:00:00\",\"2022-04-12T00:00:00\",\"2022-04-13T00:00:00\",\"2022-04-14T00:00:00\",\"2022-04-18T00:00:00\",\"2022-04-19T00:00:00\",\"2022-04-20T00:00:00\",\"2022-04-21T00:00:00\",\"2022-04-22T00:00:00\",\"2022-04-25T00:00:00\",\"2022-04-26T00:00:00\",\"2022-04-27T00:00:00\",\"2022-04-28T00:00:00\",\"2022-04-29T00:00:00\",\"2022-05-02T00:00:00\",\"2022-05-03T00:00:00\",\"2022-05-04T00:00:00\",\"2022-05-05T00:00:00\",\"2022-05-06T00:00:00\",\"2022-05-09T00:00:00\",\"2022-05-10T00:00:00\",\"2022-05-11T00:00:00\",\"2022-05-12T00:00:00\",\"2022-05-13T00:00:00\",\"2022-05-16T00:00:00\",\"2022-05-17T00:00:00\",\"2022-05-18T00:00:00\",\"2022-05-19T00:00:00\",\"2022-05-20T00:00:00\",\"2022-05-23T00:00:00\",\"2022-05-24T00:00:00\",\"2022-05-25T00:00:00\",\"2022-05-26T00:00:00\",\"2022-05-27T00:00:00\",\"2022-05-31T00:00:00\",\"2022-06-01T00:00:00\",\"2022-06-02T00:00:00\",\"2022-06-03T00:00:00\",\"2022-06-06T00:00:00\",\"2022-06-07T00:00:00\",\"2022-06-08T00:00:00\",\"2022-06-09T00:00:00\",\"2022-06-10T00:00:00\",\"2022-06-13T00:00:00\",\"2022-06-14T00:00:00\",\"2022-06-15T00:00:00\",\"2022-06-16T00:00:00\",\"2022-06-17T00:00:00\",\"2022-06-21T00:00:00\",\"2022-06-22T00:00:00\",\"2022-06-23T00:00:00\",\"2022-06-24T00:00:00\",\"2022-06-27T00:00:00\",\"2022-06-28T00:00:00\",\"2022-06-29T00:00:00\",\"2022-06-30T00:00:00\",\"2022-07-01T00:00:00\",\"2022-07-05T00:00:00\",\"2022-07-06T00:00:00\",\"2022-07-07T00:00:00\",\"2022-07-08T00:00:00\",\"2022-07-11T00:00:00\",\"2022-07-12T00:00:00\",\"2022-07-13T00:00:00\",\"2022-07-14T00:00:00\",\"2022-07-15T00:00:00\",\"2022-07-18T00:00:00\",\"2022-07-19T00:00:00\",\"2022-07-20T00:00:00\",\"2022-07-21T00:00:00\",\"2022-07-22T00:00:00\",\"2022-07-25T00:00:00\",\"2022-07-26T00:00:00\",\"2022-07-27T00:00:00\",\"2022-07-28T00:00:00\",\"2022-07-29T00:00:00\",\"2022-08-01T00:00:00\",\"2022-08-02T00:00:00\",\"2022-08-03T00:00:00\",\"2022-08-04T00:00:00\",\"2022-08-05T00:00:00\",\"2022-08-08T00:00:00\",\"2022-08-09T00:00:00\",\"2022-08-10T00:00:00\",\"2022-08-11T00:00:00\",\"2022-08-12T00:00:00\",\"2022-08-15T00:00:00\",\"2022-08-16T00:00:00\",\"2022-08-17T00:00:00\",\"2022-08-18T00:00:00\",\"2022-08-19T00:00:00\",\"2022-08-22T00:00:00\",\"2022-08-23T00:00:00\",\"2022-08-24T00:00:00\",\"2022-08-25T00:00:00\",\"2022-08-26T00:00:00\",\"2022-08-29T00:00:00\",\"2022-08-30T00:00:00\",\"2022-08-31T00:00:00\",\"2022-09-01T00:00:00\",\"2022-09-02T00:00:00\",\"2022-09-06T00:00:00\",\"2022-09-07T00:00:00\",\"2022-09-08T00:00:00\",\"2022-09-09T00:00:00\",\"2022-09-12T00:00:00\",\"2022-09-13T00:00:00\",\"2022-09-14T00:00:00\",\"2022-09-15T00:00:00\",\"2022-09-16T00:00:00\",\"2022-09-19T00:00:00\",\"2022-09-20T00:00:00\",\"2022-09-21T00:00:00\",\"2022-09-22T00:00:00\",\"2022-09-23T00:00:00\",\"2022-09-26T00:00:00\",\"2022-09-27T00:00:00\",\"2022-09-28T00:00:00\",\"2022-09-29T00:00:00\",\"2022-09-30T00:00:00\",\"2022-10-03T00:00:00\",\"2022-10-04T00:00:00\",\"2022-10-05T00:00:00\",\"2022-10-06T00:00:00\",\"2022-10-07T00:00:00\",\"2022-10-10T00:00:00\",\"2022-10-11T00:00:00\",\"2022-10-12T00:00:00\",\"2022-10-13T00:00:00\",\"2022-10-14T00:00:00\",\"2022-10-17T00:00:00\",\"2022-10-18T00:00:00\",\"2022-10-19T00:00:00\",\"2022-10-20T00:00:00\",\"2022-10-21T00:00:00\",\"2022-10-24T00:00:00\",\"2022-10-25T00:00:00\",\"2022-10-26T00:00:00\",\"2022-10-27T00:00:00\",\"2022-10-28T00:00:00\",\"2022-10-31T00:00:00\",\"2022-11-01T00:00:00\",\"2022-11-02T00:00:00\",\"2022-11-03T00:00:00\",\"2022-11-04T00:00:00\",\"2022-11-07T00:00:00\",\"2022-11-08T00:00:00\",\"2022-11-09T00:00:00\",\"2022-11-10T00:00:00\",\"2022-11-11T00:00:00\",\"2022-11-14T00:00:00\",\"2022-11-15T00:00:00\",\"2022-11-16T00:00:00\",\"2022-11-17T00:00:00\",\"2022-11-18T00:00:00\",\"2022-11-21T00:00:00\",\"2022-11-22T00:00:00\",\"2022-11-23T00:00:00\",\"2022-11-25T00:00:00\",\"2022-11-28T00:00:00\",\"2022-11-29T00:00:00\",\"2022-11-30T00:00:00\",\"2022-12-01T00:00:00\",\"2022-12-02T00:00:00\",\"2022-12-05T00:00:00\",\"2022-12-06T00:00:00\",\"2022-12-07T00:00:00\",\"2022-12-08T00:00:00\",\"2022-12-09T00:00:00\",\"2022-12-12T00:00:00\",\"2022-12-13T00:00:00\",\"2022-12-14T00:00:00\",\"2022-12-15T00:00:00\",\"2022-12-16T00:00:00\",\"2022-12-19T00:00:00\",\"2022-12-20T00:00:00\",\"2022-12-21T00:00:00\",\"2022-12-22T00:00:00\",\"2022-12-23T00:00:00\",\"2022-12-27T00:00:00\",\"2022-12-28T00:00:00\",\"2022-12-29T00:00:00\",\"2022-12-30T00:00:00\",\"2023-01-03T00:00:00\",\"2023-01-04T00:00:00\",\"2023-01-05T00:00:00\",\"2023-01-06T00:00:00\",\"2023-01-09T00:00:00\",\"2023-01-10T00:00:00\",\"2023-01-11T00:00:00\",\"2023-01-12T00:00:00\",\"2023-01-13T00:00:00\",\"2023-01-17T00:00:00\",\"2023-01-18T00:00:00\",\"2023-01-19T00:00:00\",\"2023-01-20T00:00:00\",\"2023-01-23T00:00:00\",\"2023-01-24T00:00:00\",\"2023-01-25T00:00:00\",\"2023-01-26T00:00:00\",\"2023-01-27T00:00:00\",\"2023-01-30T00:00:00\",\"2023-01-31T00:00:00\",\"2023-02-01T00:00:00\",\"2023-02-02T00:00:00\",\"2023-02-03T00:00:00\",\"2023-02-06T00:00:00\",\"2023-02-07T00:00:00\"],\"type\":\"candlestick\"}],                        {\"template\":{\"data\":{\"bar\":[{\"error_x\":{\"color\":\"#2a3f5f\"},\"error_y\":{\"color\":\"#2a3f5f\"},\"marker\":{\"line\":{\"color\":\"#E5ECF6\",\"width\":0.5},\"pattern\":{\"fillmode\":\"overlay\",\"size\":10,\"solidity\":0.2}},\"type\":\"bar\"}],\"barpolar\":[{\"marker\":{\"line\":{\"color\":\"#E5ECF6\",\"width\":0.5},\"pattern\":{\"fillmode\":\"overlay\",\"size\":10,\"solidity\":0.2}},\"type\":\"barpolar\"}],\"carpet\":[{\"aaxis\":{\"endlinecolor\":\"#2a3f5f\",\"gridcolor\":\"white\",\"linecolor\":\"white\",\"minorgridcolor\":\"white\",\"startlinecolor\":\"#2a3f5f\"},\"baxis\":{\"endlinecolor\":\"#2a3f5f\",\"gridcolor\":\"white\",\"linecolor\":\"white\",\"minorgridcolor\":\"white\",\"startlinecolor\":\"#2a3f5f\"},\"type\":\"carpet\"}],\"choropleth\":[{\"colorbar\":{\"outlinewidth\":0,\"ticks\":\"\"},\"type\":\"choropleth\"}],\"contour\":[{\"colorbar\":{\"outlinewidth\":0,\"ticks\":\"\"},\"colorscale\":[[0.0,\"#0d0887\"],[0.1111111111111111,\"#46039f\"],[0.2222222222222222,\"#7201a8\"],[0.3333333333333333,\"#9c179e\"],[0.4444444444444444,\"#bd3786\"],[0.5555555555555556,\"#d8576b\"],[0.6666666666666666,\"#ed7953\"],[0.7777777777777778,\"#fb9f3a\"],[0.8888888888888888,\"#fdca26\"],[1.0,\"#f0f921\"]],\"type\":\"contour\"}],\"contourcarpet\":[{\"colorbar\":{\"outlinewidth\":0,\"ticks\":\"\"},\"type\":\"contourcarpet\"}],\"heatmap\":[{\"colorbar\":{\"outlinewidth\":0,\"ticks\":\"\"},\"colorscale\":[[0.0,\"#0d0887\"],[0.1111111111111111,\"#46039f\"],[0.2222222222222222,\"#7201a8\"],[0.3333333333333333,\"#9c179e\"],[0.4444444444444444,\"#bd3786\"],[0.5555555555555556,\"#d8576b\"],[0.6666666666666666,\"#ed7953\"],[0.7777777777777778,\"#fb9f3a\"],[0.8888888888888888,\"#fdca26\"],[1.0,\"#f0f921\"]],\"type\":\"heatmap\"}],\"heatmapgl\":[{\"colorbar\":{\"outlinewidth\":0,\"ticks\":\"\"},\"colorscale\":[[0.0,\"#0d0887\"],[0.1111111111111111,\"#46039f\"],[0.2222222222222222,\"#7201a8\"],[0.3333333333333333,\"#9c179e\"],[0.4444444444444444,\"#bd3786\"],[0.5555555555555556,\"#d8576b\"],[0.6666666666666666,\"#ed7953\"],[0.7777777777777778,\"#fb9f3a\"],[0.8888888888888888,\"#fdca26\"],[1.0,\"#f0f921\"]],\"type\":\"heatmapgl\"}],\"histogram\":[{\"marker\":{\"pattern\":{\"fillmode\":\"overlay\",\"size\":10,\"solidity\":0.2}},\"type\":\"histogram\"}],\"histogram2d\":[{\"colorbar\":{\"outlinewidth\":0,\"ticks\":\"\"},\"colorscale\":[[0.0,\"#0d0887\"],[0.1111111111111111,\"#46039f\"],[0.2222222222222222,\"#7201a8\"],[0.3333333333333333,\"#9c179e\"],[0.4444444444444444,\"#bd3786\"],[0.5555555555555556,\"#d8576b\"],[0.6666666666666666,\"#ed7953\"],[0.7777777777777778,\"#fb9f3a\"],[0.8888888888888888,\"#fdca26\"],[1.0,\"#f0f921\"]],\"type\":\"histogram2d\"}],\"histogram2dcontour\":[{\"colorbar\":{\"outlinewidth\":0,\"ticks\":\"\"},\"colorscale\":[[0.0,\"#0d0887\"],[0.1111111111111111,\"#46039f\"],[0.2222222222222222,\"#7201a8\"],[0.3333333333333333,\"#9c179e\"],[0.4444444444444444,\"#bd3786\"],[0.5555555555555556,\"#d8576b\"],[0.6666666666666666,\"#ed7953\"],[0.7777777777777778,\"#fb9f3a\"],[0.8888888888888888,\"#fdca26\"],[1.0,\"#f0f921\"]],\"type\":\"histogram2dcontour\"}],\"mesh3d\":[{\"colorbar\":{\"outlinewidth\":0,\"ticks\":\"\"},\"type\":\"mesh3d\"}],\"parcoords\":[{\"line\":{\"colorbar\":{\"outlinewidth\":0,\"ticks\":\"\"}},\"type\":\"parcoords\"}],\"pie\":[{\"automargin\":true,\"type\":\"pie\"}],\"scatter\":[{\"marker\":{\"colorbar\":{\"outlinewidth\":0,\"ticks\":\"\"}},\"type\":\"scatter\"}],\"scatter3d\":[{\"line\":{\"colorbar\":{\"outlinewidth\":0,\"ticks\":\"\"}},\"marker\":{\"colorbar\":{\"outlinewidth\":0,\"ticks\":\"\"}},\"type\":\"scatter3d\"}],\"scattercarpet\":[{\"marker\":{\"colorbar\":{\"outlinewidth\":0,\"ticks\":\"\"}},\"type\":\"scattercarpet\"}],\"scattergeo\":[{\"marker\":{\"colorbar\":{\"outlinewidth\":0,\"ticks\":\"\"}},\"type\":\"scattergeo\"}],\"scattergl\":[{\"marker\":{\"colorbar\":{\"outlinewidth\":0,\"ticks\":\"\"}},\"type\":\"scattergl\"}],\"scattermapbox\":[{\"marker\":{\"colorbar\":{\"outlinewidth\":0,\"ticks\":\"\"}},\"type\":\"scattermapbox\"}],\"scatterpolar\":[{\"marker\":{\"colorbar\":{\"outlinewidth\":0,\"ticks\":\"\"}},\"type\":\"scatterpolar\"}],\"scatterpolargl\":[{\"marker\":{\"colorbar\":{\"outlinewidth\":0,\"ticks\":\"\"}},\"type\":\"scatterpolargl\"}],\"scatterternary\":[{\"marker\":{\"colorbar\":{\"outlinewidth\":0,\"ticks\":\"\"}},\"type\":\"scatterternary\"}],\"surface\":[{\"colorbar\":{\"outlinewidth\":0,\"ticks\":\"\"},\"colorscale\":[[0.0,\"#0d0887\"],[0.1111111111111111,\"#46039f\"],[0.2222222222222222,\"#7201a8\"],[0.3333333333333333,\"#9c179e\"],[0.4444444444444444,\"#bd3786\"],[0.5555555555555556,\"#d8576b\"],[0.6666666666666666,\"#ed7953\"],[0.7777777777777778,\"#fb9f3a\"],[0.8888888888888888,\"#fdca26\"],[1.0,\"#f0f921\"]],\"type\":\"surface\"}],\"table\":[{\"cells\":{\"fill\":{\"color\":\"#EBF0F8\"},\"line\":{\"color\":\"white\"}},\"header\":{\"fill\":{\"color\":\"#C8D4E3\"},\"line\":{\"color\":\"white\"}},\"type\":\"table\"}]},\"layout\":{\"annotationdefaults\":{\"arrowcolor\":\"#2a3f5f\",\"arrowhead\":0,\"arrowwidth\":1},\"autotypenumbers\":\"strict\",\"coloraxis\":{\"colorbar\":{\"outlinewidth\":0,\"ticks\":\"\"}},\"colorscale\":{\"diverging\":[[0,\"#8e0152\"],[0.1,\"#c51b7d\"],[0.2,\"#de77ae\"],[0.3,\"#f1b6da\"],[0.4,\"#fde0ef\"],[0.5,\"#f7f7f7\"],[0.6,\"#e6f5d0\"],[0.7,\"#b8e186\"],[0.8,\"#7fbc41\"],[0.9,\"#4d9221\"],[1,\"#276419\"]],\"sequential\":[[0.0,\"#0d0887\"],[0.1111111111111111,\"#46039f\"],[0.2222222222222222,\"#7201a8\"],[0.3333333333333333,\"#9c179e\"],[0.4444444444444444,\"#bd3786\"],[0.5555555555555556,\"#d8576b\"],[0.6666666666666666,\"#ed7953\"],[0.7777777777777778,\"#fb9f3a\"],[0.8888888888888888,\"#fdca26\"],[1.0,\"#f0f921\"]],\"sequentialminus\":[[0.0,\"#0d0887\"],[0.1111111111111111,\"#46039f\"],[0.2222222222222222,\"#7201a8\"],[0.3333333333333333,\"#9c179e\"],[0.4444444444444444,\"#bd3786\"],[0.5555555555555556,\"#d8576b\"],[0.6666666666666666,\"#ed7953\"],[0.7777777777777778,\"#fb9f3a\"],[0.8888888888888888,\"#fdca26\"],[1.0,\"#f0f921\"]]},\"colorway\":[\"#636efa\",\"#EF553B\",\"#00cc96\",\"#ab63fa\",\"#FFA15A\",\"#19d3f3\",\"#FF6692\",\"#B6E880\",\"#FF97FF\",\"#FECB52\"],\"font\":{\"color\":\"#2a3f5f\"},\"geo\":{\"bgcolor\":\"white\",\"lakecolor\":\"white\",\"landcolor\":\"#E5ECF6\",\"showlakes\":true,\"showland\":true,\"subunitcolor\":\"white\"},\"hoverlabel\":{\"align\":\"left\"},\"hovermode\":\"closest\",\"mapbox\":{\"style\":\"light\"},\"paper_bgcolor\":\"white\",\"plot_bgcolor\":\"#E5ECF6\",\"polar\":{\"angularaxis\":{\"gridcolor\":\"white\",\"linecolor\":\"white\",\"ticks\":\"\"},\"bgcolor\":\"#E5ECF6\",\"radialaxis\":{\"gridcolor\":\"white\",\"linecolor\":\"white\",\"ticks\":\"\"}},\"scene\":{\"xaxis\":{\"backgroundcolor\":\"#E5ECF6\",\"gridcolor\":\"white\",\"gridwidth\":2,\"linecolor\":\"white\",\"showbackground\":true,\"ticks\":\"\",\"zerolinecolor\":\"white\"},\"yaxis\":{\"backgroundcolor\":\"#E5ECF6\",\"gridcolor\":\"white\",\"gridwidth\":2,\"linecolor\":\"white\",\"showbackground\":true,\"ticks\":\"\",\"zerolinecolor\":\"white\"},\"zaxis\":{\"backgroundcolor\":\"#E5ECF6\",\"gridcolor\":\"white\",\"gridwidth\":2,\"linecolor\":\"white\",\"showbackground\":true,\"ticks\":\"\",\"zerolinecolor\":\"white\"}},\"shapedefaults\":{\"line\":{\"color\":\"#2a3f5f\"}},\"ternary\":{\"aaxis\":{\"gridcolor\":\"white\",\"linecolor\":\"white\",\"ticks\":\"\"},\"baxis\":{\"gridcolor\":\"white\",\"linecolor\":\"white\",\"ticks\":\"\"},\"bgcolor\":\"#E5ECF6\",\"caxis\":{\"gridcolor\":\"white\",\"linecolor\":\"white\",\"ticks\":\"\"}},\"title\":{\"x\":0.05},\"xaxis\":{\"automargin\":true,\"gridcolor\":\"white\",\"linecolor\":\"white\",\"ticks\":\"\",\"title\":{\"standoff\":15},\"zerolinecolor\":\"white\",\"zerolinewidth\":2},\"yaxis\":{\"automargin\":true,\"gridcolor\":\"white\",\"linecolor\":\"white\",\"ticks\":\"\",\"title\":{\"standoff\":15},\"zerolinecolor\":\"white\",\"zerolinewidth\":2}}},\"xaxis\":{\"rangeslider\":{\"visible\":false},\"title\":{\"text\":\"Time\"}},\"title\":{\"text\":\"Closing Analysis of AKKA Technologies\"},\"yaxis\":{\"title\":{\"text\":\"Closing Price\"}}},                        {\"responsive\": true}                    ).then(function(){\n",
              "                            \n",
              "var gd = document.getElementById('911a6595-2e55-4dfa-b8a9-66dc9fb1308a');\n",
              "var x = new MutationObserver(function (mutations, observer) {{\n",
              "        var display = window.getComputedStyle(gd).display;\n",
              "        if (!display || display === 'none') {{\n",
              "            console.log([gd, 'removed!']);\n",
              "            Plotly.purge(gd);\n",
              "            observer.disconnect();\n",
              "        }}\n",
              "}});\n",
              "\n",
              "// Listen for the removal of the full notebook cells\n",
              "var notebookContainer = gd.closest('#notebook-container');\n",
              "if (notebookContainer) {{\n",
              "    x.observe(notebookContainer, {childList: true});\n",
              "}}\n",
              "\n",
              "// Listen for the clearing of the current output cell\n",
              "var outputEl = gd.closest('.output');\n",
              "if (outputEl) {{\n",
              "    x.observe(outputEl, {childList: true});\n",
              "}}\n",
              "\n",
              "                        })                };                            </script>        </div>\n",
              "</body>\n",
              "</html>"
            ]
          },
          "metadata": {}
        }
      ]
    },
    {
      "cell_type": "markdown",
      "source": [
        "Creating the report"
      ],
      "metadata": {
        "id": "KutMLgGKKDxg"
      }
    },
    {
      "cell_type": "code",
      "source": [
        "# The figure\n",
        "Figure = make_subplots(\n",
        "    rows=2,\n",
        "    cols=1,\n",
        "    specs=[\n",
        "        [{'type':'scatter'}],\n",
        "        [{'type':'scatter'}]\n",
        "    ],\n",
        "    vertical_spacing=0.075,\n",
        "    shared_xaxes=True,\n",
        "    subplot_titles=('Cotation', 'Closing')\n",
        ")\n",
        "\n",
        "# Layout and dimension\n",
        "Figure.update_layout(\n",
        "    width=1000,\n",
        "    height=800,\n",
        "    title_text='Advanced Analytics <br>Follow-up AKKA Technologies'\n",
        ")\n",
        "\n",
        "# Adding one graphic in the first position\n",
        "Figure.add_trace(\n",
        "    go.Candlestick(\n",
        "        x=Data.index,\n",
        "        open=Data['Open'],\n",
        "        high=Data['High'],\n",
        "        low=Data['Low'],\n",
        "        close=Data['Close'],\n",
        "        increasing_line_color='red',\n",
        "        decreasing_line_color='green'\n",
        "    ),\n",
        "    row=1, col=1\n",
        ")\n",
        "\n",
        "Figure.update_layout(\n",
        "    xaxis_rangeslider_visible=False\n",
        ")\n",
        "\n",
        "# Adding one graphic in the second position\n",
        "Figure.add_trace(\n",
        "    go.Scatter(\n",
        "        x=Data.index,\n",
        "        y=Data['Close'],\n",
        "        mode='lines',\n",
        "        name='Closing',\n",
        "        line=dict(color='green')\n",
        "    ),\n",
        "    row=2, col=1\n",
        ")\n",
        "\n",
        "Figure.add_trace(\n",
        "    go.Scatter(\n",
        "        x=Data.index,\n",
        "        y=Data['Mean_Moving'],\n",
        "        mode='lines',\n",
        "        name='Mean Moving',\n",
        "        line=dict(color='red')\n",
        "    ),\n",
        "    row=2, col=1\n",
        ")\n",
        "Figure.update_layout(\n",
        "    legend=dict(\n",
        "        orientation='h',\n",
        "        yanchor='bottom',\n",
        "        y=1.02,\n",
        "        xanchor='right',\n",
        "        x=1,\n",
        "        font=dict( size=10) \n",
        "    )\n",
        ")\n",
        "\n",
        "Figure.add_annotation(\n",
        "    showarrow=False,\n",
        "    text='First day of Python Challenge by Data Vikings',\n",
        "    font=dict(size=14),\n",
        "    xref='x domain',\n",
        "    x=1,\n",
        "    yref='y domain',\n",
        "    y=-1.4\n",
        ")\n",
        "\n",
        "Figure.add_annotation(\n",
        "    showarrow=False,\n",
        "    text='By: Amaryllis2021',\n",
        "    font=dict(size=14),\n",
        "    xref='x domain',\n",
        "    x=0,\n",
        "    yref='y domain',\n",
        "    y=-1.4\n",
        ")\n",
        "Figure.show()"
      ],
      "metadata": {
        "colab": {
          "base_uri": "https://localhost:8080/",
          "height": 817
        },
        "id": "HhFoqz3MKVLc",
        "outputId": "8f91003f-d48e-4a55-b41d-0336ce111485"
      },
      "execution_count": 15,
      "outputs": [
        {
          "output_type": "display_data",
          "data": {
            "text/html": [
              "<html>\n",
              "<head><meta charset=\"utf-8\" /></head>\n",
              "<body>\n",
              "    <div>            <script src=\"https://cdnjs.cloudflare.com/ajax/libs/mathjax/2.7.5/MathJax.js?config=TeX-AMS-MML_SVG\"></script><script type=\"text/javascript\">if (window.MathJax) {MathJax.Hub.Config({SVG: {font: \"STIX-Web\"}});}</script>                <script type=\"text/javascript\">window.PlotlyConfig = {MathJaxConfig: 'local'};</script>\n",
              "        <script src=\"https://cdn.plot.ly/plotly-2.8.3.min.js\"></script>                <div id=\"170477f1-6073-4d77-9ca2-317cc56f78e8\" class=\"plotly-graph-div\" style=\"height:800px; width:1000px;\"></div>            <script type=\"text/javascript\">                                    window.PLOTLYENV=window.PLOTLYENV || {};                                    if (document.getElementById(\"170477f1-6073-4d77-9ca2-317cc56f78e8\")) {                    Plotly.newPlot(                        \"170477f1-6073-4d77-9ca2-317cc56f78e8\",                        [{\"close\":[7.809999942779541,7.940000057220459,8.0600004196167,7.949999809265137,7.960000038146973,8.3100004196167,8.229999542236328,7.800000190734863,7.800000190734863,7.78000020980835,7.510000228881836,8.0,7.78000020980835,7.53000020980835,6.980000019073486,5.110000133514404,4.889999866485596,4.25,4.289999961853027,4.320000171661377,4.519999980926514,4.579999923706055,4.369999885559082,4.340000152587891,4.289999961853027,4.679999828338623,4.760000228881836,4.829999923706055,4.619999885559082,4.789999961853027,4.519999980926514,4.710000038146973,4.400000095367432,4.429999828338623,4.730000019073486,4.610000133514404,4.420000076293945,4.380000114440918,4.679999828338623,4.400000095367432,4.25,4.21999979019165,4.349999904632568,4.139999866485596,4.090000152587891,4.210000038146973,4.0,3.9600000381469727,4.159999847412109,4.050000190734863,3.9100000858306885,3.7899999618530273,3.819999933242798,3.5899999141693115,3.490000009536743,3.7799999713897705,3.5299999713897705,3.690000057220459,3.6700000762939453,3.8299999237060547,3.75,3.6500000953674316,3.369999885559082,3.25,3.180000066757202,3.4700000286102295,3.700000047683716,3.490000009536743,3.619999885559082,3.299999952316284,3.4100000858306885,3.2899999618530273,3.369999885559082,3.2100000381469727,3.5399999618530273,4.130000114440918,4.050000190734863,3.940000057220459,3.7899999618530273,4.050000190734863,4.03000020980835,3.9100000858306885,4.019999980926514,4.050000190734863,3.859999895095825,3.7100000381469727,3.3299999237060547,3.4100000858306885,3.380000114440918,3.109999895095825,3.190000057220459,2.9600000381469727,2.8399999141693115,2.940000057220459,2.869999885559082,2.9600000381469727,3.0399999618530273,2.859999895095825,2.759999990463257,2.819999933242798,2.9200000762939453,2.9100000858306885,3.1500000953674316,3.0899999141693115,2.890000104904175,2.809999942779541,2.759999990463257,2.6600000858306885,2.759999990463257,2.859999895095825,3.009999990463257,3.0,2.950000047683716,1.899999976158142,2.009999990463257,1.9199999570846558,1.8700000047683716,1.9199999570846558,1.8799999952316284,1.899999976158142,1.840000033378601,1.940000057220459,1.9900000095367432,1.8799999952316284,2.059999942779541,1.9500000476837158,2.0799999237060547,2.0299999713897705,2.2799999713897705,2.3299999237060547,2.549999952316284,2.2100000381469727,2.1600000858306885,2.049999952316284,1.9500000476837158,1.7999999523162842,1.909999966621399,2.069999933242798,2.059999942779541,2.140000104904175,2.0899999141693115,2.0799999237060547,2.0,2.009999990463257,2.359999895095825,2.9200000762939453,2.359999895095825,2.140000104904175,2.0899999141693115,1.9600000381469727,1.7899999618530273,1.7000000476837158,1.5299999713897705,1.440000057220459,1.4500000476837158,1.5499999523162842,1.590000033378601,1.5399999618530273,1.4800000190734863,1.4800000190734863,1.4900000095367432,1.4199999570846558,1.4500000476837158,1.5199999809265137,1.559999942779541,1.559999942779541,1.4700000286102295,1.3700000047683716,1.340000033378601,1.2599999904632568,1.3899999856948853,1.559999942779541,1.440000057220459,1.5399999618530273,1.5700000524520874,1.6699999570846558,1.690000057220459,1.7100000381469727,1.7899999618530273,1.9900000095367432,1.9199999570846558,1.8300000429153442,2.0199999809265137,2.0399999618530273,1.9700000286102295,1.9199999570846558,1.9199999570846558,1.8799999952316284,1.690000057220459,1.5800000429153442,1.559999942779541,1.5099999904632568,1.8300000429153442,1.9800000190734863,1.9900000095367432,1.8600000143051147,1.8600000143051147,1.8200000524520874,1.6399999856948853,1.7799999713897705,1.7000000476837158,1.7100000381469727,1.7699999809265137,1.7899999618530273,1.7999999523162842,1.7799999713897705,1.940000057220459,1.8300000429153442,1.7400000095367432,1.809999942779541,1.7100000381469727,1.649999976158142,1.7400000095367432,1.690000057220459,1.6100000143051147,1.5499999523162842,1.7000000476837158,1.4800000190734863,1.4199999570846558,1.4800000190734863,1.3600000143051147,1.3300000429153442,1.2300000190734863,1.2400000095367432,1.2100000381469727,1.2699999809265137,1.3200000524520874,1.2999999523162842,1.309999942779541,1.350000023841858,1.3899999856948853,1.3899999856948853,1.399999976158142,1.4600000381469727,1.4500000476837158,1.5,1.5,1.5,1.4800000190734863,1.5,1.5,1.5,1.5,1.5199999809265137,1.5199999809265137,1.5199999809265137,1.5199999809265137,1.5099999904632568,1.5700000524520874,1.5399999618530273,1.5499999523162842],\"decreasing\":{\"line\":{\"color\":\"green\"}},\"high\":[7.869999885559082,8.170000076293945,8.350000381469727,8.25,8.180000305175781,8.369999885559082,8.369999885559082,8.15999984741211,7.949999809265137,8.229000091552734,7.869999885559082,8.029999732971191,8.050000190734863,7.949999809265137,7.670000076293945,6.010000228881836,5.369999885559082,4.860000133514404,4.320000171661377,4.53000020980835,4.710000038146973,4.610000133514404,4.690000057220459,4.650000095367432,4.519999980926514,4.699999809265137,4.809999942779541,4.914999961853027,4.800000190734863,4.900000095367432,4.78000020980835,4.730000019073486,4.730000019073486,4.489999771118164,4.755000114440918,4.860000133514404,4.630000114440918,4.534999847412109,4.690000057220459,4.699999809265137,4.423999786376953,4.414999961853027,4.514999866485596,4.5,4.429999828338623,4.309999942779541,4.550000190734863,4.179999828338623,4.389999866485596,4.230000019073486,4.216000080108643,4.0,3.940000057220459,3.8299999237060547,3.8399999141693115,3.8499999046325684,3.930000066757202,3.7300000190734863,3.799999952316284,3.880000114440918,3.8299999237060547,3.765000104904175,3.619999885559082,3.5899999141693115,3.690000057220459,3.549999952316284,3.759999990463257,3.700000047683716,3.700000047683716,3.5999999046325684,3.5199999809265137,3.5799999237060547,3.369999885559082,3.319999933242798,3.549999952316284,4.28000020980835,4.230000019073486,4.019999980926514,4.039999961853027,4.159999847412109,4.090000152587891,4.150000095367432,4.039999961853027,4.150000095367432,4.050000190734863,3.859999895095825,3.5399999618530273,3.4509999752044678,3.569999933242798,3.2799999713897705,3.2799999713897705,3.2899999618530273,3.0399999618530273,3.0199999809265137,3.180000066757202,3.115000009536743,3.1600000858306885,3.059999942779541,2.880000114440918,2.8499999046325684,2.940000057220459,2.9700000286102295,3.1600000858306885,3.196000099182129,3.049999952316284,2.9549999237060547,2.8299999237060547,2.75,3.0299999713897705,3.0299999713897705,3.0799999237060547,3.2300000190734863,3.059999942779541,2.8399999141693115,2.0380001068115234,2.0399999618530273,1.9800000190734863,1.9500000476837158,1.9600000381469727,1.9800000190734863,1.9500000476837158,1.9500000476837158,2.0199999809265137,1.9630000591278076,2.130000114440918,2.109999895095825,2.109999895095825,2.2230000495910645,2.309999942779541,2.4000000953674316,2.7300000190734863,2.630000114440918,2.25,2.125,2.1500000953674316,2.0,1.909999966621399,2.109999895095825,2.109999895095825,2.1600000858306885,2.1600000858306885,2.1700000762939453,2.059999942779541,2.049999952316284,2.380000114440918,2.950000047683716,3.0,2.4839999675750732,2.2699999809265137,2.0299999713897705,2.0190000534057617,1.8489999771118164,1.7200000286102295,1.6100000143051147,1.7799999713897705,1.600000023841858,1.6100000143051147,1.5700000524520874,1.600000023841858,1.5390000343322754,1.5219999551773071,1.496000051498413,1.4700000286102295,1.5399999618530273,1.590000033378601,1.6200000047683716,1.565000057220459,1.4600000381469727,1.4290000200271606,1.3559999465942383,1.409999966621399,1.5800000429153442,1.6200000047683716,1.649999976158142,1.7100000381469727,1.690000057220459,1.899999976158142,1.8650000095367432,1.815000057220459,2.049999952316284,2.059999942779541,1.9500000476837158,2.049999952316284,2.1500000953674316,2.119999885559082,2.049999952316284,2.0199999809265137,2.0399999618530273,1.9600000381469727,1.690000057220459,1.6130000352859497,1.7300000190734863,2.0199999809265137,2.009999990463257,2.0799999237060547,1.9789999723434448,1.8700000047683716,1.909999966621399,1.840000033378601,1.7899999618530273,1.7619999647140503,1.75,1.7999999523162842,1.8799999952316284,1.8700000047683716,1.8700000047683716,1.940000057220459,1.940000057220459,1.909999966621399,1.850000023841858,1.8890000581741333,1.7599999904632568,1.7799999713897705,1.840000033378601,1.7799999713897705,1.6100000143051147,1.7300000190734863,1.7300000190734863,1.496999979019165,1.5099999904632568,1.5,1.399999976158142,1.350000023841858,1.2899999618530273,1.340000033378601,1.340000033378601,1.3200000524520874,1.3600000143051147,1.3600000143051147,1.3899999856948853,1.4600000381469727,1.4299999475479126,1.4900000095367432,1.5,1.5,1.5,1.5,1.5049999952316284,1.5,1.5,1.5,1.5499999523162842,1.5399999618530273,1.5700000524520874,1.5700000524520874,1.590000033378601,1.5449999570846558,1.590000033378601,1.600000023841858,1.5800000429153442,1.5800000429153442],\"increasing\":{\"line\":{\"color\":\"red\"}},\"low\":[7.449999809265137,7.809999942779541,7.659999847412109,7.710000038146973,7.829999923706055,8.0,8.020000457763672,7.769999980926514,7.599999904632568,7.639999866485596,7.489999771118164,6.909999847412109,7.639999866485596,7.440000057220459,6.789999961853027,5.050000190734863,4.699999809265137,4.210000038146973,3.9200000762939453,4.090000152587891,4.440000057220459,4.300000190734863,4.2729997634887695,4.335000038146973,4.190000057220459,4.360000133514404,4.610000133514404,4.659999847412109,4.514999866485596,4.53000020980835,4.519999980926514,4.329999923706055,4.289999961853027,4.25,4.460000038146973,4.599999904632568,4.369999885559082,4.340000152587891,4.349999904632568,4.340000152587891,4.079999923706055,4.150000095367432,4.119999885559082,4.099999904632568,4.059999942779541,4.090000152587891,4.0,3.859999895095825,3.9600000381469727,4.0,3.8299999237060547,3.75,3.740000009536743,3.5799999237060547,3.490000009536743,3.5299999713897705,3.5299999713897705,3.4800000190734863,3.609999895095825,3.565000057220459,3.625,3.5199999809265137,3.3399999141693115,3.130000114440918,3.1700000762939453,3.049999952316284,3.509999990463257,3.4600000381469727,3.4600000381469727,3.299999952316284,3.2799999713897705,3.180000066757202,3.180000066757202,3.13100004196167,3.190000057220459,3.5899999141693115,3.759999990463257,3.7300000190734863,3.690000057220459,3.799999952316284,3.9000000953674316,3.890000104904175,3.809999942779541,3.9700000286102295,3.8499999046325684,3.6760001182556152,2.950000047683716,2.9200000762939453,3.3450000286102295,3.0299999713897705,3.0999999046325684,2.950000047683716,2.8399999141693115,2.8399999141693115,2.8399999141693115,2.9049999713897705,2.9800000190734863,2.799999952316284,2.700000047683716,2.6389999389648438,2.630000114440918,2.7200000286102295,2.9600000381469727,3.009999990463257,2.890000104904175,2.75,2.7100000381469727,2.619999885559082,2.6700000762939453,2.7699999809265137,2.9700000286102295,2.8610000610351562,2.8949999809265137,1.8799999952316284,1.8200000524520874,1.8200000524520874,1.7999999523162842,1.850000023841858,1.8600000143051147,1.7999999523162842,1.840000033378601,1.850000023841858,1.9240000247955322,1.8650000095367432,1.8600000143051147,1.8899999856948853,1.9700000286102295,1.840000033378601,2.003000020980835,2.2100000381469727,2.2699999809265137,2.1700000762939453,2.0250000953674316,1.9500000476837158,1.9299999475479126,1.7400000095367432,1.7999999523162842,1.8799999952316284,1.9299999475479126,1.975000023841858,2.0399999618530273,2.0399999618530273,1.8799999952316284,1.8700000047683716,2.015000104904175,2.25,2.299999952316284,2.130000114440918,2.0199999809265137,1.899999976158142,1.7599999904632568,1.690000057220459,1.5299999713897705,1.4199999570846558,1.409999966621399,1.3300000429153442,1.4500000476837158,1.4199999570846558,1.4600000381469727,1.4600000381469727,1.409999966621399,1.3799999952316284,1.3700000047683716,1.409999966621399,1.4299999475479126,1.4299999475479126,1.440000057220459,1.3200000524520874,1.3300000429153442,1.25,1.2480000257492065,1.284000039100647,1.399999976158142,1.4800000190734863,1.5399999618530273,1.5140000581741333,1.6799999475479126,1.6100000143051147,1.7100000381469727,1.8200000524520874,1.8899999856948853,1.7899999618530273,1.812000036239624,1.9900000095367432,1.9199999570846558,1.850000023841858,1.8609999418258667,1.8300000429153442,1.6699999570846558,1.5099999904632568,1.559999942779541,1.4199999570846558,1.5219999551773071,1.7599999904632568,1.8899999856948853,1.809999942779541,1.690000057220459,1.6799999475479126,1.5299999713897705,1.600000023841858,1.6399999856948853,1.6690000295639038,1.7000000476837158,1.74399995803833,1.75,1.75,1.690000057220459,1.7710000276565552,1.659999966621399,1.6920000314712524,1.649999976158142,1.590000033378601,1.559999942779541,1.6100000143051147,1.5800000429153442,1.4700000286102295,1.4500000476837158,1.465000033378601,1.4199999570846558,1.4320000410079956,1.2999999523162842,1.3200000524520874,1.2200000286102295,1.194000005722046,1.1200000047683716,1.149999976158142,1.2699999809265137,1.190000057220459,1.2740000486373901,1.3049999475479126,1.3300000429153442,1.3600000143051147,1.340000033378601,1.3899999856948853,1.4199999570846558,1.4210000038146973,1.4800000190734863,1.4700000286102295,1.4149999618530273,1.4500000476837158,1.4800000190734863,1.4600000381469727,1.4900000095367432,1.4800000190734863,1.5,1.4800000190734863,1.4800000190734863,1.5099999904632568,1.4709999561309814,1.5299999713897705,1.5299999713897705],\"open\":[7.610000133514404,7.929999828338623,7.699999809265137,7.980000019073486,7.960000038146973,8.149999618530273,8.220000267028809,8.119999885559082,7.75,7.639999866485596,7.869999885559082,6.989999771118164,8.020000457763672,7.71999979019165,7.5,5.940000057220459,5.300000190734863,4.820000171661377,4.309999942779541,4.349999904632568,4.489999771118164,4.5,4.639999866485596,4.369999885559082,4.329999923706055,4.420000076293945,4.610000133514404,4.800000190734863,4.789999961853027,4.650000095367432,4.710000038146973,4.579999923706055,4.710000038146973,4.400000095367432,4.46999979019165,4.71999979019165,4.630000114440918,4.480000019073486,4.389999866485596,4.679999828338623,4.380000114440918,4.260000228881836,4.21999979019165,4.269999980926514,4.25,4.119999885559082,4.239999771118164,4.0,3.9800000190734863,4.159999847412109,4.150000095367432,3.9200000762939453,3.740000009536743,3.799999952316284,3.5999999046325684,3.5399999618530273,3.75,3.5399999618530273,3.7200000286102295,3.680000066757202,3.759999990463257,3.7300000190734863,3.5399999618530273,3.4800000190734863,3.690000057220459,3.0999999046325684,3.619999885559082,3.6600000858306885,3.5799999237060547,3.5199999809265137,3.2799999713897705,3.4700000286102295,3.299999952316284,3.2899999618530273,3.190000057220459,3.5899999141693115,4.090000152587891,4.0,4.010000228881836,3.799999952316284,4.050000190734863,4.090000152587891,3.859999895095825,4.0,4.050000190734863,3.799999952316284,3.5399999618530273,3.369999885559082,3.490000009536743,3.259999990463257,3.140000104904175,3.2699999809265137,2.9600000381469727,2.869999885559082,2.990000009536743,2.9600000381469727,2.9800000190734863,3.059999942779541,2.809999942779541,2.700000047683716,2.740000009536743,2.9200000762939453,2.9800000190734863,3.0899999141693115,3.009999990463257,2.8499999046325684,2.740000009536743,2.7300000190734863,2.740000009536743,2.7899999618530273,2.9800000190734863,3.0,3.009999990463257,2.819999933242798,1.9299999475479126,2.009999990463257,1.9800000190734863,1.8899999856948853,1.899999976158142,1.8899999856948853,1.899999976158142,1.850000023841858,1.9700000286102295,1.9600000381469727,1.8799999952316284,2.069999933242798,1.9900000095367432,1.940000057220459,2.069999933242798,2.2799999713897705,2.2899999618530273,2.490000009536743,2.25,2.049999952316284,2.0,2.0,1.809999942779541,1.8899999856948853,2.069999933242798,2.009999990463257,2.1600000858306885,2.0899999141693115,2.059999942779541,2.0,2.049999952316284,2.490000009536743,2.9800000190734863,2.440000057220459,2.130000114440918,2.0,2.0,1.7699999809265137,1.7100000381469727,1.6100000143051147,1.409999966621399,1.4199999570846558,1.5499999523162842,1.5700000524520874,1.5,1.4800000190734863,1.5099999904632568,1.4700000286102295,1.4299999475479126,1.5099999904632568,1.5800000429153442,1.4900000095367432,1.5499999523162842,1.4600000381469727,1.340000033378601,1.340000033378601,1.2899999618530273,1.309999942779541,1.5800000429153442,1.4800000190734863,1.5700000524520874,1.559999942779541,1.690000057220459,1.7100000381469727,1.7400000095367432,1.8300000429153442,2.009999990463257,1.899999976158142,1.8700000047683716,2.0399999618530273,2.059999942779541,1.9500000476837158,1.899999976158142,1.9600000381469727,1.8700000047683716,1.6699999570846558,1.5800000429153442,1.6699999570846558,1.649999976158142,1.8200000524520874,2.0,1.9600000381469727,1.840000033378601,1.909999966621399,1.840000033378601,1.6100000143051147,1.7300000190734863,1.7200000286102295,1.7400000095367432,1.7999999523162842,1.840000033378601,1.7999999523162842,1.690000057220459,1.9199999570846558,1.8600000143051147,1.7599999904632568,1.8300000429153442,1.7109999656677246,1.659999966621399,1.7699999809265137,1.7799999713897705,1.590000033378601,1.5299999713897705,1.7100000381469727,1.4800000190734863,1.440000057220459,1.5,1.399999976158142,1.2999999523162842,1.2200000286102295,1.25,1.149999976158142,1.2999999523162842,1.309999942779541,1.350000023841858,1.350000023841858,1.350000023841858,1.3899999856948853,1.440000057220459,1.4700000286102295,1.4500000476837158,1.5,1.5,1.5,1.5,1.4700000286102295,1.5,1.5,1.5,1.4800000190734863,1.5499999523162842,1.5199999809265137,1.5,1.5299999713897705,1.5099999904632568,1.5700000524520874,1.5199999809265137],\"x\":[\"2022-02-08T00:00:00\",\"2022-02-09T00:00:00\",\"2022-02-10T00:00:00\",\"2022-02-11T00:00:00\",\"2022-02-14T00:00:00\",\"2022-02-15T00:00:00\",\"2022-02-16T00:00:00\",\"2022-02-17T00:00:00\",\"2022-02-18T00:00:00\",\"2022-02-22T00:00:00\",\"2022-02-23T00:00:00\",\"2022-02-24T00:00:00\",\"2022-02-25T00:00:00\",\"2022-02-28T00:00:00\",\"2022-03-01T00:00:00\",\"2022-03-02T00:00:00\",\"2022-03-03T00:00:00\",\"2022-03-04T00:00:00\",\"2022-03-07T00:00:00\",\"2022-03-08T00:00:00\",\"2022-03-09T00:00:00\",\"2022-03-10T00:00:00\",\"2022-03-11T00:00:00\",\"2022-03-14T00:00:00\",\"2022-03-15T00:00:00\",\"2022-03-16T00:00:00\",\"2022-03-17T00:00:00\",\"2022-03-18T00:00:00\",\"2022-03-21T00:00:00\",\"2022-03-22T00:00:00\",\"2022-03-23T00:00:00\",\"2022-03-24T00:00:00\",\"2022-03-25T00:00:00\",\"2022-03-28T00:00:00\",\"2022-03-29T00:00:00\",\"2022-03-30T00:00:00\",\"2022-03-31T00:00:00\",\"2022-04-01T00:00:00\",\"2022-04-04T00:00:00\",\"2022-04-05T00:00:00\",\"2022-04-06T00:00:00\",\"2022-04-07T00:00:00\",\"2022-04-08T00:00:00\",\"2022-04-11T00:00:00\",\"2022-04-12T00:00:00\",\"2022-04-13T00:00:00\",\"2022-04-14T00:00:00\",\"2022-04-18T00:00:00\",\"2022-04-19T00:00:00\",\"2022-04-20T00:00:00\",\"2022-04-21T00:00:00\",\"2022-04-22T00:00:00\",\"2022-04-25T00:00:00\",\"2022-04-26T00:00:00\",\"2022-04-27T00:00:00\",\"2022-04-28T00:00:00\",\"2022-04-29T00:00:00\",\"2022-05-02T00:00:00\",\"2022-05-03T00:00:00\",\"2022-05-04T00:00:00\",\"2022-05-05T00:00:00\",\"2022-05-06T00:00:00\",\"2022-05-09T00:00:00\",\"2022-05-10T00:00:00\",\"2022-05-11T00:00:00\",\"2022-05-12T00:00:00\",\"2022-05-13T00:00:00\",\"2022-05-16T00:00:00\",\"2022-05-17T00:00:00\",\"2022-05-18T00:00:00\",\"2022-05-19T00:00:00\",\"2022-05-20T00:00:00\",\"2022-05-23T00:00:00\",\"2022-05-24T00:00:00\",\"2022-05-25T00:00:00\",\"2022-05-26T00:00:00\",\"2022-05-27T00:00:00\",\"2022-05-31T00:00:00\",\"2022-06-01T00:00:00\",\"2022-06-02T00:00:00\",\"2022-06-03T00:00:00\",\"2022-06-06T00:00:00\",\"2022-06-07T00:00:00\",\"2022-06-08T00:00:00\",\"2022-06-09T00:00:00\",\"2022-06-10T00:00:00\",\"2022-06-13T00:00:00\",\"2022-06-14T00:00:00\",\"2022-06-15T00:00:00\",\"2022-06-16T00:00:00\",\"2022-06-17T00:00:00\",\"2022-06-21T00:00:00\",\"2022-06-22T00:00:00\",\"2022-06-23T00:00:00\",\"2022-06-24T00:00:00\",\"2022-06-27T00:00:00\",\"2022-06-28T00:00:00\",\"2022-06-29T00:00:00\",\"2022-06-30T00:00:00\",\"2022-07-01T00:00:00\",\"2022-07-05T00:00:00\",\"2022-07-06T00:00:00\",\"2022-07-07T00:00:00\",\"2022-07-08T00:00:00\",\"2022-07-11T00:00:00\",\"2022-07-12T00:00:00\",\"2022-07-13T00:00:00\",\"2022-07-14T00:00:00\",\"2022-07-15T00:00:00\",\"2022-07-18T00:00:00\",\"2022-07-19T00:00:00\",\"2022-07-20T00:00:00\",\"2022-07-21T00:00:00\",\"2022-07-22T00:00:00\",\"2022-07-25T00:00:00\",\"2022-07-26T00:00:00\",\"2022-07-27T00:00:00\",\"2022-07-28T00:00:00\",\"2022-07-29T00:00:00\",\"2022-08-01T00:00:00\",\"2022-08-02T00:00:00\",\"2022-08-03T00:00:00\",\"2022-08-04T00:00:00\",\"2022-08-05T00:00:00\",\"2022-08-08T00:00:00\",\"2022-08-09T00:00:00\",\"2022-08-10T00:00:00\",\"2022-08-11T00:00:00\",\"2022-08-12T00:00:00\",\"2022-08-15T00:00:00\",\"2022-08-16T00:00:00\",\"2022-08-17T00:00:00\",\"2022-08-18T00:00:00\",\"2022-08-19T00:00:00\",\"2022-08-22T00:00:00\",\"2022-08-23T00:00:00\",\"2022-08-24T00:00:00\",\"2022-08-25T00:00:00\",\"2022-08-26T00:00:00\",\"2022-08-29T00:00:00\",\"2022-08-30T00:00:00\",\"2022-08-31T00:00:00\",\"2022-09-01T00:00:00\",\"2022-09-02T00:00:00\",\"2022-09-06T00:00:00\",\"2022-09-07T00:00:00\",\"2022-09-08T00:00:00\",\"2022-09-09T00:00:00\",\"2022-09-12T00:00:00\",\"2022-09-13T00:00:00\",\"2022-09-14T00:00:00\",\"2022-09-15T00:00:00\",\"2022-09-16T00:00:00\",\"2022-09-19T00:00:00\",\"2022-09-20T00:00:00\",\"2022-09-21T00:00:00\",\"2022-09-22T00:00:00\",\"2022-09-23T00:00:00\",\"2022-09-26T00:00:00\",\"2022-09-27T00:00:00\",\"2022-09-28T00:00:00\",\"2022-09-29T00:00:00\",\"2022-09-30T00:00:00\",\"2022-10-03T00:00:00\",\"2022-10-04T00:00:00\",\"2022-10-05T00:00:00\",\"2022-10-06T00:00:00\",\"2022-10-07T00:00:00\",\"2022-10-10T00:00:00\",\"2022-10-11T00:00:00\",\"2022-10-12T00:00:00\",\"2022-10-13T00:00:00\",\"2022-10-14T00:00:00\",\"2022-10-17T00:00:00\",\"2022-10-18T00:00:00\",\"2022-10-19T00:00:00\",\"2022-10-20T00:00:00\",\"2022-10-21T00:00:00\",\"2022-10-24T00:00:00\",\"2022-10-25T00:00:00\",\"2022-10-26T00:00:00\",\"2022-10-27T00:00:00\",\"2022-10-28T00:00:00\",\"2022-10-31T00:00:00\",\"2022-11-01T00:00:00\",\"2022-11-02T00:00:00\",\"2022-11-03T00:00:00\",\"2022-11-04T00:00:00\",\"2022-11-07T00:00:00\",\"2022-11-08T00:00:00\",\"2022-11-09T00:00:00\",\"2022-11-10T00:00:00\",\"2022-11-11T00:00:00\",\"2022-11-14T00:00:00\",\"2022-11-15T00:00:00\",\"2022-11-16T00:00:00\",\"2022-11-17T00:00:00\",\"2022-11-18T00:00:00\",\"2022-11-21T00:00:00\",\"2022-11-22T00:00:00\",\"2022-11-23T00:00:00\",\"2022-11-25T00:00:00\",\"2022-11-28T00:00:00\",\"2022-11-29T00:00:00\",\"2022-11-30T00:00:00\",\"2022-12-01T00:00:00\",\"2022-12-02T00:00:00\",\"2022-12-05T00:00:00\",\"2022-12-06T00:00:00\",\"2022-12-07T00:00:00\",\"2022-12-08T00:00:00\",\"2022-12-09T00:00:00\",\"2022-12-12T00:00:00\",\"2022-12-13T00:00:00\",\"2022-12-14T00:00:00\",\"2022-12-15T00:00:00\",\"2022-12-16T00:00:00\",\"2022-12-19T00:00:00\",\"2022-12-20T00:00:00\",\"2022-12-21T00:00:00\",\"2022-12-22T00:00:00\",\"2022-12-23T00:00:00\",\"2022-12-27T00:00:00\",\"2022-12-28T00:00:00\",\"2022-12-29T00:00:00\",\"2022-12-30T00:00:00\",\"2023-01-03T00:00:00\",\"2023-01-04T00:00:00\",\"2023-01-05T00:00:00\",\"2023-01-06T00:00:00\",\"2023-01-09T00:00:00\",\"2023-01-10T00:00:00\",\"2023-01-11T00:00:00\",\"2023-01-12T00:00:00\",\"2023-01-13T00:00:00\",\"2023-01-17T00:00:00\",\"2023-01-18T00:00:00\",\"2023-01-19T00:00:00\",\"2023-01-20T00:00:00\",\"2023-01-23T00:00:00\",\"2023-01-24T00:00:00\",\"2023-01-25T00:00:00\",\"2023-01-26T00:00:00\",\"2023-01-27T00:00:00\",\"2023-01-30T00:00:00\",\"2023-01-31T00:00:00\",\"2023-02-01T00:00:00\",\"2023-02-02T00:00:00\",\"2023-02-03T00:00:00\",\"2023-02-06T00:00:00\",\"2023-02-07T00:00:00\"],\"type\":\"candlestick\",\"xaxis\":\"x\",\"yaxis\":\"y\"},{\"line\":{\"color\":\"green\"},\"mode\":\"lines\",\"name\":\"Closing\",\"x\":[\"2022-02-08T00:00:00\",\"2022-02-09T00:00:00\",\"2022-02-10T00:00:00\",\"2022-02-11T00:00:00\",\"2022-02-14T00:00:00\",\"2022-02-15T00:00:00\",\"2022-02-16T00:00:00\",\"2022-02-17T00:00:00\",\"2022-02-18T00:00:00\",\"2022-02-22T00:00:00\",\"2022-02-23T00:00:00\",\"2022-02-24T00:00:00\",\"2022-02-25T00:00:00\",\"2022-02-28T00:00:00\",\"2022-03-01T00:00:00\",\"2022-03-02T00:00:00\",\"2022-03-03T00:00:00\",\"2022-03-04T00:00:00\",\"2022-03-07T00:00:00\",\"2022-03-08T00:00:00\",\"2022-03-09T00:00:00\",\"2022-03-10T00:00:00\",\"2022-03-11T00:00:00\",\"2022-03-14T00:00:00\",\"2022-03-15T00:00:00\",\"2022-03-16T00:00:00\",\"2022-03-17T00:00:00\",\"2022-03-18T00:00:00\",\"2022-03-21T00:00:00\",\"2022-03-22T00:00:00\",\"2022-03-23T00:00:00\",\"2022-03-24T00:00:00\",\"2022-03-25T00:00:00\",\"2022-03-28T00:00:00\",\"2022-03-29T00:00:00\",\"2022-03-30T00:00:00\",\"2022-03-31T00:00:00\",\"2022-04-01T00:00:00\",\"2022-04-04T00:00:00\",\"2022-04-05T00:00:00\",\"2022-04-06T00:00:00\",\"2022-04-07T00:00:00\",\"2022-04-08T00:00:00\",\"2022-04-11T00:00:00\",\"2022-04-12T00:00:00\",\"2022-04-13T00:00:00\",\"2022-04-14T00:00:00\",\"2022-04-18T00:00:00\",\"2022-04-19T00:00:00\",\"2022-04-20T00:00:00\",\"2022-04-21T00:00:00\",\"2022-04-22T00:00:00\",\"2022-04-25T00:00:00\",\"2022-04-26T00:00:00\",\"2022-04-27T00:00:00\",\"2022-04-28T00:00:00\",\"2022-04-29T00:00:00\",\"2022-05-02T00:00:00\",\"2022-05-03T00:00:00\",\"2022-05-04T00:00:00\",\"2022-05-05T00:00:00\",\"2022-05-06T00:00:00\",\"2022-05-09T00:00:00\",\"2022-05-10T00:00:00\",\"2022-05-11T00:00:00\",\"2022-05-12T00:00:00\",\"2022-05-13T00:00:00\",\"2022-05-16T00:00:00\",\"2022-05-17T00:00:00\",\"2022-05-18T00:00:00\",\"2022-05-19T00:00:00\",\"2022-05-20T00:00:00\",\"2022-05-23T00:00:00\",\"2022-05-24T00:00:00\",\"2022-05-25T00:00:00\",\"2022-05-26T00:00:00\",\"2022-05-27T00:00:00\",\"2022-05-31T00:00:00\",\"2022-06-01T00:00:00\",\"2022-06-02T00:00:00\",\"2022-06-03T00:00:00\",\"2022-06-06T00:00:00\",\"2022-06-07T00:00:00\",\"2022-06-08T00:00:00\",\"2022-06-09T00:00:00\",\"2022-06-10T00:00:00\",\"2022-06-13T00:00:00\",\"2022-06-14T00:00:00\",\"2022-06-15T00:00:00\",\"2022-06-16T00:00:00\",\"2022-06-17T00:00:00\",\"2022-06-21T00:00:00\",\"2022-06-22T00:00:00\",\"2022-06-23T00:00:00\",\"2022-06-24T00:00:00\",\"2022-06-27T00:00:00\",\"2022-06-28T00:00:00\",\"2022-06-29T00:00:00\",\"2022-06-30T00:00:00\",\"2022-07-01T00:00:00\",\"2022-07-05T00:00:00\",\"2022-07-06T00:00:00\",\"2022-07-07T00:00:00\",\"2022-07-08T00:00:00\",\"2022-07-11T00:00:00\",\"2022-07-12T00:00:00\",\"2022-07-13T00:00:00\",\"2022-07-14T00:00:00\",\"2022-07-15T00:00:00\",\"2022-07-18T00:00:00\",\"2022-07-19T00:00:00\",\"2022-07-20T00:00:00\",\"2022-07-21T00:00:00\",\"2022-07-22T00:00:00\",\"2022-07-25T00:00:00\",\"2022-07-26T00:00:00\",\"2022-07-27T00:00:00\",\"2022-07-28T00:00:00\",\"2022-07-29T00:00:00\",\"2022-08-01T00:00:00\",\"2022-08-02T00:00:00\",\"2022-08-03T00:00:00\",\"2022-08-04T00:00:00\",\"2022-08-05T00:00:00\",\"2022-08-08T00:00:00\",\"2022-08-09T00:00:00\",\"2022-08-10T00:00:00\",\"2022-08-11T00:00:00\",\"2022-08-12T00:00:00\",\"2022-08-15T00:00:00\",\"2022-08-16T00:00:00\",\"2022-08-17T00:00:00\",\"2022-08-18T00:00:00\",\"2022-08-19T00:00:00\",\"2022-08-22T00:00:00\",\"2022-08-23T00:00:00\",\"2022-08-24T00:00:00\",\"2022-08-25T00:00:00\",\"2022-08-26T00:00:00\",\"2022-08-29T00:00:00\",\"2022-08-30T00:00:00\",\"2022-08-31T00:00:00\",\"2022-09-01T00:00:00\",\"2022-09-02T00:00:00\",\"2022-09-06T00:00:00\",\"2022-09-07T00:00:00\",\"2022-09-08T00:00:00\",\"2022-09-09T00:00:00\",\"2022-09-12T00:00:00\",\"2022-09-13T00:00:00\",\"2022-09-14T00:00:00\",\"2022-09-15T00:00:00\",\"2022-09-16T00:00:00\",\"2022-09-19T00:00:00\",\"2022-09-20T00:00:00\",\"2022-09-21T00:00:00\",\"2022-09-22T00:00:00\",\"2022-09-23T00:00:00\",\"2022-09-26T00:00:00\",\"2022-09-27T00:00:00\",\"2022-09-28T00:00:00\",\"2022-09-29T00:00:00\",\"2022-09-30T00:00:00\",\"2022-10-03T00:00:00\",\"2022-10-04T00:00:00\",\"2022-10-05T00:00:00\",\"2022-10-06T00:00:00\",\"2022-10-07T00:00:00\",\"2022-10-10T00:00:00\",\"2022-10-11T00:00:00\",\"2022-10-12T00:00:00\",\"2022-10-13T00:00:00\",\"2022-10-14T00:00:00\",\"2022-10-17T00:00:00\",\"2022-10-18T00:00:00\",\"2022-10-19T00:00:00\",\"2022-10-20T00:00:00\",\"2022-10-21T00:00:00\",\"2022-10-24T00:00:00\",\"2022-10-25T00:00:00\",\"2022-10-26T00:00:00\",\"2022-10-27T00:00:00\",\"2022-10-28T00:00:00\",\"2022-10-31T00:00:00\",\"2022-11-01T00:00:00\",\"2022-11-02T00:00:00\",\"2022-11-03T00:00:00\",\"2022-11-04T00:00:00\",\"2022-11-07T00:00:00\",\"2022-11-08T00:00:00\",\"2022-11-09T00:00:00\",\"2022-11-10T00:00:00\",\"2022-11-11T00:00:00\",\"2022-11-14T00:00:00\",\"2022-11-15T00:00:00\",\"2022-11-16T00:00:00\",\"2022-11-17T00:00:00\",\"2022-11-18T00:00:00\",\"2022-11-21T00:00:00\",\"2022-11-22T00:00:00\",\"2022-11-23T00:00:00\",\"2022-11-25T00:00:00\",\"2022-11-28T00:00:00\",\"2022-11-29T00:00:00\",\"2022-11-30T00:00:00\",\"2022-12-01T00:00:00\",\"2022-12-02T00:00:00\",\"2022-12-05T00:00:00\",\"2022-12-06T00:00:00\",\"2022-12-07T00:00:00\",\"2022-12-08T00:00:00\",\"2022-12-09T00:00:00\",\"2022-12-12T00:00:00\",\"2022-12-13T00:00:00\",\"2022-12-14T00:00:00\",\"2022-12-15T00:00:00\",\"2022-12-16T00:00:00\",\"2022-12-19T00:00:00\",\"2022-12-20T00:00:00\",\"2022-12-21T00:00:00\",\"2022-12-22T00:00:00\",\"2022-12-23T00:00:00\",\"2022-12-27T00:00:00\",\"2022-12-28T00:00:00\",\"2022-12-29T00:00:00\",\"2022-12-30T00:00:00\",\"2023-01-03T00:00:00\",\"2023-01-04T00:00:00\",\"2023-01-05T00:00:00\",\"2023-01-06T00:00:00\",\"2023-01-09T00:00:00\",\"2023-01-10T00:00:00\",\"2023-01-11T00:00:00\",\"2023-01-12T00:00:00\",\"2023-01-13T00:00:00\",\"2023-01-17T00:00:00\",\"2023-01-18T00:00:00\",\"2023-01-19T00:00:00\",\"2023-01-20T00:00:00\",\"2023-01-23T00:00:00\",\"2023-01-24T00:00:00\",\"2023-01-25T00:00:00\",\"2023-01-26T00:00:00\",\"2023-01-27T00:00:00\",\"2023-01-30T00:00:00\",\"2023-01-31T00:00:00\",\"2023-02-01T00:00:00\",\"2023-02-02T00:00:00\",\"2023-02-03T00:00:00\",\"2023-02-06T00:00:00\",\"2023-02-07T00:00:00\"],\"y\":[7.809999942779541,7.940000057220459,8.0600004196167,7.949999809265137,7.960000038146973,8.3100004196167,8.229999542236328,7.800000190734863,7.800000190734863,7.78000020980835,7.510000228881836,8.0,7.78000020980835,7.53000020980835,6.980000019073486,5.110000133514404,4.889999866485596,4.25,4.289999961853027,4.320000171661377,4.519999980926514,4.579999923706055,4.369999885559082,4.340000152587891,4.289999961853027,4.679999828338623,4.760000228881836,4.829999923706055,4.619999885559082,4.789999961853027,4.519999980926514,4.710000038146973,4.400000095367432,4.429999828338623,4.730000019073486,4.610000133514404,4.420000076293945,4.380000114440918,4.679999828338623,4.400000095367432,4.25,4.21999979019165,4.349999904632568,4.139999866485596,4.090000152587891,4.210000038146973,4.0,3.9600000381469727,4.159999847412109,4.050000190734863,3.9100000858306885,3.7899999618530273,3.819999933242798,3.5899999141693115,3.490000009536743,3.7799999713897705,3.5299999713897705,3.690000057220459,3.6700000762939453,3.8299999237060547,3.75,3.6500000953674316,3.369999885559082,3.25,3.180000066757202,3.4700000286102295,3.700000047683716,3.490000009536743,3.619999885559082,3.299999952316284,3.4100000858306885,3.2899999618530273,3.369999885559082,3.2100000381469727,3.5399999618530273,4.130000114440918,4.050000190734863,3.940000057220459,3.7899999618530273,4.050000190734863,4.03000020980835,3.9100000858306885,4.019999980926514,4.050000190734863,3.859999895095825,3.7100000381469727,3.3299999237060547,3.4100000858306885,3.380000114440918,3.109999895095825,3.190000057220459,2.9600000381469727,2.8399999141693115,2.940000057220459,2.869999885559082,2.9600000381469727,3.0399999618530273,2.859999895095825,2.759999990463257,2.819999933242798,2.9200000762939453,2.9100000858306885,3.1500000953674316,3.0899999141693115,2.890000104904175,2.809999942779541,2.759999990463257,2.6600000858306885,2.759999990463257,2.859999895095825,3.009999990463257,3.0,2.950000047683716,1.899999976158142,2.009999990463257,1.9199999570846558,1.8700000047683716,1.9199999570846558,1.8799999952316284,1.899999976158142,1.840000033378601,1.940000057220459,1.9900000095367432,1.8799999952316284,2.059999942779541,1.9500000476837158,2.0799999237060547,2.0299999713897705,2.2799999713897705,2.3299999237060547,2.549999952316284,2.2100000381469727,2.1600000858306885,2.049999952316284,1.9500000476837158,1.7999999523162842,1.909999966621399,2.069999933242798,2.059999942779541,2.140000104904175,2.0899999141693115,2.0799999237060547,2.0,2.009999990463257,2.359999895095825,2.9200000762939453,2.359999895095825,2.140000104904175,2.0899999141693115,1.9600000381469727,1.7899999618530273,1.7000000476837158,1.5299999713897705,1.440000057220459,1.4500000476837158,1.5499999523162842,1.590000033378601,1.5399999618530273,1.4800000190734863,1.4800000190734863,1.4900000095367432,1.4199999570846558,1.4500000476837158,1.5199999809265137,1.559999942779541,1.559999942779541,1.4700000286102295,1.3700000047683716,1.340000033378601,1.2599999904632568,1.3899999856948853,1.559999942779541,1.440000057220459,1.5399999618530273,1.5700000524520874,1.6699999570846558,1.690000057220459,1.7100000381469727,1.7899999618530273,1.9900000095367432,1.9199999570846558,1.8300000429153442,2.0199999809265137,2.0399999618530273,1.9700000286102295,1.9199999570846558,1.9199999570846558,1.8799999952316284,1.690000057220459,1.5800000429153442,1.559999942779541,1.5099999904632568,1.8300000429153442,1.9800000190734863,1.9900000095367432,1.8600000143051147,1.8600000143051147,1.8200000524520874,1.6399999856948853,1.7799999713897705,1.7000000476837158,1.7100000381469727,1.7699999809265137,1.7899999618530273,1.7999999523162842,1.7799999713897705,1.940000057220459,1.8300000429153442,1.7400000095367432,1.809999942779541,1.7100000381469727,1.649999976158142,1.7400000095367432,1.690000057220459,1.6100000143051147,1.5499999523162842,1.7000000476837158,1.4800000190734863,1.4199999570846558,1.4800000190734863,1.3600000143051147,1.3300000429153442,1.2300000190734863,1.2400000095367432,1.2100000381469727,1.2699999809265137,1.3200000524520874,1.2999999523162842,1.309999942779541,1.350000023841858,1.3899999856948853,1.3899999856948853,1.399999976158142,1.4600000381469727,1.4500000476837158,1.5,1.5,1.5,1.4800000190734863,1.5,1.5,1.5,1.5,1.5199999809265137,1.5199999809265137,1.5199999809265137,1.5199999809265137,1.5099999904632568,1.5700000524520874,1.5399999618530273,1.5499999523162842],\"type\":\"scatter\",\"xaxis\":\"x2\",\"yaxis\":\"y2\"},{\"line\":{\"color\":\"red\"},\"mode\":\"lines\",\"name\":\"Mean Moving\",\"x\":[\"2022-02-08T00:00:00\",\"2022-02-09T00:00:00\",\"2022-02-10T00:00:00\",\"2022-02-11T00:00:00\",\"2022-02-14T00:00:00\",\"2022-02-15T00:00:00\",\"2022-02-16T00:00:00\",\"2022-02-17T00:00:00\",\"2022-02-18T00:00:00\",\"2022-02-22T00:00:00\",\"2022-02-23T00:00:00\",\"2022-02-24T00:00:00\",\"2022-02-25T00:00:00\",\"2022-02-28T00:00:00\",\"2022-03-01T00:00:00\",\"2022-03-02T00:00:00\",\"2022-03-03T00:00:00\",\"2022-03-04T00:00:00\",\"2022-03-07T00:00:00\",\"2022-03-08T00:00:00\",\"2022-03-09T00:00:00\",\"2022-03-10T00:00:00\",\"2022-03-11T00:00:00\",\"2022-03-14T00:00:00\",\"2022-03-15T00:00:00\",\"2022-03-16T00:00:00\",\"2022-03-17T00:00:00\",\"2022-03-18T00:00:00\",\"2022-03-21T00:00:00\",\"2022-03-22T00:00:00\",\"2022-03-23T00:00:00\",\"2022-03-24T00:00:00\",\"2022-03-25T00:00:00\",\"2022-03-28T00:00:00\",\"2022-03-29T00:00:00\",\"2022-03-30T00:00:00\",\"2022-03-31T00:00:00\",\"2022-04-01T00:00:00\",\"2022-04-04T00:00:00\",\"2022-04-05T00:00:00\",\"2022-04-06T00:00:00\",\"2022-04-07T00:00:00\",\"2022-04-08T00:00:00\",\"2022-04-11T00:00:00\",\"2022-04-12T00:00:00\",\"2022-04-13T00:00:00\",\"2022-04-14T00:00:00\",\"2022-04-18T00:00:00\",\"2022-04-19T00:00:00\",\"2022-04-20T00:00:00\",\"2022-04-21T00:00:00\",\"2022-04-22T00:00:00\",\"2022-04-25T00:00:00\",\"2022-04-26T00:00:00\",\"2022-04-27T00:00:00\",\"2022-04-28T00:00:00\",\"2022-04-29T00:00:00\",\"2022-05-02T00:00:00\",\"2022-05-03T00:00:00\",\"2022-05-04T00:00:00\",\"2022-05-05T00:00:00\",\"2022-05-06T00:00:00\",\"2022-05-09T00:00:00\",\"2022-05-10T00:00:00\",\"2022-05-11T00:00:00\",\"2022-05-12T00:00:00\",\"2022-05-13T00:00:00\",\"2022-05-16T00:00:00\",\"2022-05-17T00:00:00\",\"2022-05-18T00:00:00\",\"2022-05-19T00:00:00\",\"2022-05-20T00:00:00\",\"2022-05-23T00:00:00\",\"2022-05-24T00:00:00\",\"2022-05-25T00:00:00\",\"2022-05-26T00:00:00\",\"2022-05-27T00:00:00\",\"2022-05-31T00:00:00\",\"2022-06-01T00:00:00\",\"2022-06-02T00:00:00\",\"2022-06-03T00:00:00\",\"2022-06-06T00:00:00\",\"2022-06-07T00:00:00\",\"2022-06-08T00:00:00\",\"2022-06-09T00:00:00\",\"2022-06-10T00:00:00\",\"2022-06-13T00:00:00\",\"2022-06-14T00:00:00\",\"2022-06-15T00:00:00\",\"2022-06-16T00:00:00\",\"2022-06-17T00:00:00\",\"2022-06-21T00:00:00\",\"2022-06-22T00:00:00\",\"2022-06-23T00:00:00\",\"2022-06-24T00:00:00\",\"2022-06-27T00:00:00\",\"2022-06-28T00:00:00\",\"2022-06-29T00:00:00\",\"2022-06-30T00:00:00\",\"2022-07-01T00:00:00\",\"2022-07-05T00:00:00\",\"2022-07-06T00:00:00\",\"2022-07-07T00:00:00\",\"2022-07-08T00:00:00\",\"2022-07-11T00:00:00\",\"2022-07-12T00:00:00\",\"2022-07-13T00:00:00\",\"2022-07-14T00:00:00\",\"2022-07-15T00:00:00\",\"2022-07-18T00:00:00\",\"2022-07-19T00:00:00\",\"2022-07-20T00:00:00\",\"2022-07-21T00:00:00\",\"2022-07-22T00:00:00\",\"2022-07-25T00:00:00\",\"2022-07-26T00:00:00\",\"2022-07-27T00:00:00\",\"2022-07-28T00:00:00\",\"2022-07-29T00:00:00\",\"2022-08-01T00:00:00\",\"2022-08-02T00:00:00\",\"2022-08-03T00:00:00\",\"2022-08-04T00:00:00\",\"2022-08-05T00:00:00\",\"2022-08-08T00:00:00\",\"2022-08-09T00:00:00\",\"2022-08-10T00:00:00\",\"2022-08-11T00:00:00\",\"2022-08-12T00:00:00\",\"2022-08-15T00:00:00\",\"2022-08-16T00:00:00\",\"2022-08-17T00:00:00\",\"2022-08-18T00:00:00\",\"2022-08-19T00:00:00\",\"2022-08-22T00:00:00\",\"2022-08-23T00:00:00\",\"2022-08-24T00:00:00\",\"2022-08-25T00:00:00\",\"2022-08-26T00:00:00\",\"2022-08-29T00:00:00\",\"2022-08-30T00:00:00\",\"2022-08-31T00:00:00\",\"2022-09-01T00:00:00\",\"2022-09-02T00:00:00\",\"2022-09-06T00:00:00\",\"2022-09-07T00:00:00\",\"2022-09-08T00:00:00\",\"2022-09-09T00:00:00\",\"2022-09-12T00:00:00\",\"2022-09-13T00:00:00\",\"2022-09-14T00:00:00\",\"2022-09-15T00:00:00\",\"2022-09-16T00:00:00\",\"2022-09-19T00:00:00\",\"2022-09-20T00:00:00\",\"2022-09-21T00:00:00\",\"2022-09-22T00:00:00\",\"2022-09-23T00:00:00\",\"2022-09-26T00:00:00\",\"2022-09-27T00:00:00\",\"2022-09-28T00:00:00\",\"2022-09-29T00:00:00\",\"2022-09-30T00:00:00\",\"2022-10-03T00:00:00\",\"2022-10-04T00:00:00\",\"2022-10-05T00:00:00\",\"2022-10-06T00:00:00\",\"2022-10-07T00:00:00\",\"2022-10-10T00:00:00\",\"2022-10-11T00:00:00\",\"2022-10-12T00:00:00\",\"2022-10-13T00:00:00\",\"2022-10-14T00:00:00\",\"2022-10-17T00:00:00\",\"2022-10-18T00:00:00\",\"2022-10-19T00:00:00\",\"2022-10-20T00:00:00\",\"2022-10-21T00:00:00\",\"2022-10-24T00:00:00\",\"2022-10-25T00:00:00\",\"2022-10-26T00:00:00\",\"2022-10-27T00:00:00\",\"2022-10-28T00:00:00\",\"2022-10-31T00:00:00\",\"2022-11-01T00:00:00\",\"2022-11-02T00:00:00\",\"2022-11-03T00:00:00\",\"2022-11-04T00:00:00\",\"2022-11-07T00:00:00\",\"2022-11-08T00:00:00\",\"2022-11-09T00:00:00\",\"2022-11-10T00:00:00\",\"2022-11-11T00:00:00\",\"2022-11-14T00:00:00\",\"2022-11-15T00:00:00\",\"2022-11-16T00:00:00\",\"2022-11-17T00:00:00\",\"2022-11-18T00:00:00\",\"2022-11-21T00:00:00\",\"2022-11-22T00:00:00\",\"2022-11-23T00:00:00\",\"2022-11-25T00:00:00\",\"2022-11-28T00:00:00\",\"2022-11-29T00:00:00\",\"2022-11-30T00:00:00\",\"2022-12-01T00:00:00\",\"2022-12-02T00:00:00\",\"2022-12-05T00:00:00\",\"2022-12-06T00:00:00\",\"2022-12-07T00:00:00\",\"2022-12-08T00:00:00\",\"2022-12-09T00:00:00\",\"2022-12-12T00:00:00\",\"2022-12-13T00:00:00\",\"2022-12-14T00:00:00\",\"2022-12-15T00:00:00\",\"2022-12-16T00:00:00\",\"2022-12-19T00:00:00\",\"2022-12-20T00:00:00\",\"2022-12-21T00:00:00\",\"2022-12-22T00:00:00\",\"2022-12-23T00:00:00\",\"2022-12-27T00:00:00\",\"2022-12-28T00:00:00\",\"2022-12-29T00:00:00\",\"2022-12-30T00:00:00\",\"2023-01-03T00:00:00\",\"2023-01-04T00:00:00\",\"2023-01-05T00:00:00\",\"2023-01-06T00:00:00\",\"2023-01-09T00:00:00\",\"2023-01-10T00:00:00\",\"2023-01-11T00:00:00\",\"2023-01-12T00:00:00\",\"2023-01-13T00:00:00\",\"2023-01-17T00:00:00\",\"2023-01-18T00:00:00\",\"2023-01-19T00:00:00\",\"2023-01-20T00:00:00\",\"2023-01-23T00:00:00\",\"2023-01-24T00:00:00\",\"2023-01-25T00:00:00\",\"2023-01-26T00:00:00\",\"2023-01-27T00:00:00\",\"2023-01-30T00:00:00\",\"2023-01-31T00:00:00\",\"2023-02-01T00:00:00\",\"2023-02-02T00:00:00\",\"2023-02-03T00:00:00\",\"2023-02-06T00:00:00\",\"2023-02-07T00:00:00\"],\"y\":[null,null,null,null,7.9440000534057615,8.044000148773193,8.102000045776368,8.05,8.020000076293945,7.984000110626221,7.824000072479248,7.778000164031982,7.77400016784668,7.720000171661377,7.5600001335144045,7.080000114440918,6.4580000877380375,5.752000045776367,5.103999996185303,4.572000026702881,4.453999996185303,4.392000007629394,4.415999984741211,4.426000022888184,4.419999980926514,4.451999950408935,4.488000011444091,4.580000019073486,4.635999965667724,4.735999965667725,4.703999996185303,4.69399995803833,4.607999992370606,4.5699999809265135,4.557999992370606,4.576000022888183,4.5180000305175785,4.514000034332275,4.564000034332276,4.498000049591065,4.426000022888184,4.385999965667724,4.3799999237060545,4.271999931335449,4.209999942779541,4.201999950408935,4.1579999923706055,4.080000019073486,4.084000015258789,4.076000022888183,4.016000032424927,3.974000024795532,3.946000003814697,3.8320000171661377,3.719999980926514,3.6939999580383303,3.6419999599456787,3.6159999847412108,3.6320000171661375,3.7,3.694000005722046,3.718000030517578,3.653999996185303,3.5699999809265135,3.4400000095367433,3.3840000152587892,3.394000005722046,3.418000030517578,3.4920000076293944,3.515999984741211,3.5039999961853026,3.421999979019165,3.397999954223633,3.315999984741211,3.3639999866485595,3.5079999923706056,3.660000038146973,3.774000072479248,3.890000057220459,3.992000102996826,3.9720001220703125,3.9440001010894776,3.9600000858306883,4.0120001316070555,3.974000072479248,3.910000038146973,3.794000005722046,3.672000026702881,3.5380000114440917,3.388000011444092,3.284000015258789,3.2100000381469727,3.096000003814697,3.0079999923706056,2.959999990463257,2.9139999866485597,2.9299999713897704,2.9339999675750734,2.897999954223633,2.887999963760376,2.8799999713897706,2.8539999961853026,2.912000036239624,2.978000020980835,2.9920000553131105,2.9700000286102295,2.9400000095367433,2.8420000076293945,2.7760000228881836,2.7699999809265137,2.8099999904632567,2.8579999923706056,2.915999984741211,2.743999981880188,2.5740000009536743,2.355999994277954,2.1299999952316284,1.9239999771118164,1.9199999809265136,1.8979999780654908,1.8819999933242797,1.8960000038146974,1.9100000143051148,1.9100000143051148,1.9420000076293946,1.9640000104904174,1.9919999837875366,1.9999999761581422,2.0799999713897703,2.133999967575073,2.253999948501587,2.2799999713897705,2.305999994277954,2.259999990463257,2.184000015258789,2.034000015258789,1.9740000009536742,1.9559999704360962,1.9579999685287475,1.9959999799728394,2.053999972343445,2.087999963760376,2.0739999771118165,2.0639999866485597,2.1079999446868896,2.2739999771118162,2.3299999713897703,2.3579999923706056,2.3739999771118163,2.294000005722046,2.067999982833862,1.9360000133514403,1.8139999866485597,1.684000015258789,1.5820000171661377,1.5340000152587892,1.5120000123977662,1.5140000104904174,1.522000002861023,1.527999997138977,1.516000008583069,1.4819999933242798,1.4640000104904174,1.472000002861023,1.4879999876022338,1.5019999742507935,1.5119999885559081,1.4959999799728394,1.4599999904632568,1.4,1.3660000085830688,1.3839999914169312,1.3980000019073486,1.4379999876022338,1.5,1.555999994277954,1.5820000171661377,1.6360000133514405,1.6860000133514403,1.7700000047683715,1.8200000047683715,1.8480000019073486,1.9099999904632567,1.9599999904632568,1.955999994277954,1.955999994277954,1.9739999771118164,1.9459999799728394,1.8759999990463256,1.7980000019073485,1.7259999990463257,1.6440000057220459,1.634000015258789,1.6920000076293946,1.7740000009536743,1.834000015258789,1.9040000200271607,1.9020000219345092,1.834000015258789,1.7920000076293945,1.7600000143051147,1.7300000190734863,1.7200000047683717,1.75,1.7539999961853028,1.7699999809265137,1.815999984741211,1.827999997138977,1.8180000066757203,1.8200000047683715,1.806000018119812,1.7480000019073487,1.7299999952316285,1.7200000047683717,1.6800000190734863,1.6480000019073486,1.6580000162124633,1.606000018119812,1.5519999980926513,1.5259999990463258,1.4880000114440919,1.4140000104904176,1.3640000104904175,1.328000020980835,1.2740000247955323,1.256000018119812,1.2540000200271606,1.2680000066757202,1.2819999933242798,1.3099999904632569,1.3339999914169312,1.3479999780654908,1.3679999828338623,1.3980000019073486,1.4180000066757201,1.4400000095367431,1.4620000123977661,1.4820000171661376,1.4860000133514404,1.4960000038146972,1.4960000038146972,1.4960000038146972,1.4960000038146972,1.5039999961853028,1.5079999923706056,1.5119999885559081,1.515999984741211,1.5179999828338624,1.527999997138977,1.5319999933242798,1.5379999876022339],\"type\":\"scatter\",\"xaxis\":\"x2\",\"yaxis\":\"y2\"}],                        {\"template\":{\"data\":{\"bar\":[{\"error_x\":{\"color\":\"#2a3f5f\"},\"error_y\":{\"color\":\"#2a3f5f\"},\"marker\":{\"line\":{\"color\":\"#E5ECF6\",\"width\":0.5},\"pattern\":{\"fillmode\":\"overlay\",\"size\":10,\"solidity\":0.2}},\"type\":\"bar\"}],\"barpolar\":[{\"marker\":{\"line\":{\"color\":\"#E5ECF6\",\"width\":0.5},\"pattern\":{\"fillmode\":\"overlay\",\"size\":10,\"solidity\":0.2}},\"type\":\"barpolar\"}],\"carpet\":[{\"aaxis\":{\"endlinecolor\":\"#2a3f5f\",\"gridcolor\":\"white\",\"linecolor\":\"white\",\"minorgridcolor\":\"white\",\"startlinecolor\":\"#2a3f5f\"},\"baxis\":{\"endlinecolor\":\"#2a3f5f\",\"gridcolor\":\"white\",\"linecolor\":\"white\",\"minorgridcolor\":\"white\",\"startlinecolor\":\"#2a3f5f\"},\"type\":\"carpet\"}],\"choropleth\":[{\"colorbar\":{\"outlinewidth\":0,\"ticks\":\"\"},\"type\":\"choropleth\"}],\"contour\":[{\"colorbar\":{\"outlinewidth\":0,\"ticks\":\"\"},\"colorscale\":[[0.0,\"#0d0887\"],[0.1111111111111111,\"#46039f\"],[0.2222222222222222,\"#7201a8\"],[0.3333333333333333,\"#9c179e\"],[0.4444444444444444,\"#bd3786\"],[0.5555555555555556,\"#d8576b\"],[0.6666666666666666,\"#ed7953\"],[0.7777777777777778,\"#fb9f3a\"],[0.8888888888888888,\"#fdca26\"],[1.0,\"#f0f921\"]],\"type\":\"contour\"}],\"contourcarpet\":[{\"colorbar\":{\"outlinewidth\":0,\"ticks\":\"\"},\"type\":\"contourcarpet\"}],\"heatmap\":[{\"colorbar\":{\"outlinewidth\":0,\"ticks\":\"\"},\"colorscale\":[[0.0,\"#0d0887\"],[0.1111111111111111,\"#46039f\"],[0.2222222222222222,\"#7201a8\"],[0.3333333333333333,\"#9c179e\"],[0.4444444444444444,\"#bd3786\"],[0.5555555555555556,\"#d8576b\"],[0.6666666666666666,\"#ed7953\"],[0.7777777777777778,\"#fb9f3a\"],[0.8888888888888888,\"#fdca26\"],[1.0,\"#f0f921\"]],\"type\":\"heatmap\"}],\"heatmapgl\":[{\"colorbar\":{\"outlinewidth\":0,\"ticks\":\"\"},\"colorscale\":[[0.0,\"#0d0887\"],[0.1111111111111111,\"#46039f\"],[0.2222222222222222,\"#7201a8\"],[0.3333333333333333,\"#9c179e\"],[0.4444444444444444,\"#bd3786\"],[0.5555555555555556,\"#d8576b\"],[0.6666666666666666,\"#ed7953\"],[0.7777777777777778,\"#fb9f3a\"],[0.8888888888888888,\"#fdca26\"],[1.0,\"#f0f921\"]],\"type\":\"heatmapgl\"}],\"histogram\":[{\"marker\":{\"pattern\":{\"fillmode\":\"overlay\",\"size\":10,\"solidity\":0.2}},\"type\":\"histogram\"}],\"histogram2d\":[{\"colorbar\":{\"outlinewidth\":0,\"ticks\":\"\"},\"colorscale\":[[0.0,\"#0d0887\"],[0.1111111111111111,\"#46039f\"],[0.2222222222222222,\"#7201a8\"],[0.3333333333333333,\"#9c179e\"],[0.4444444444444444,\"#bd3786\"],[0.5555555555555556,\"#d8576b\"],[0.6666666666666666,\"#ed7953\"],[0.7777777777777778,\"#fb9f3a\"],[0.8888888888888888,\"#fdca26\"],[1.0,\"#f0f921\"]],\"type\":\"histogram2d\"}],\"histogram2dcontour\":[{\"colorbar\":{\"outlinewidth\":0,\"ticks\":\"\"},\"colorscale\":[[0.0,\"#0d0887\"],[0.1111111111111111,\"#46039f\"],[0.2222222222222222,\"#7201a8\"],[0.3333333333333333,\"#9c179e\"],[0.4444444444444444,\"#bd3786\"],[0.5555555555555556,\"#d8576b\"],[0.6666666666666666,\"#ed7953\"],[0.7777777777777778,\"#fb9f3a\"],[0.8888888888888888,\"#fdca26\"],[1.0,\"#f0f921\"]],\"type\":\"histogram2dcontour\"}],\"mesh3d\":[{\"colorbar\":{\"outlinewidth\":0,\"ticks\":\"\"},\"type\":\"mesh3d\"}],\"parcoords\":[{\"line\":{\"colorbar\":{\"outlinewidth\":0,\"ticks\":\"\"}},\"type\":\"parcoords\"}],\"pie\":[{\"automargin\":true,\"type\":\"pie\"}],\"scatter\":[{\"marker\":{\"colorbar\":{\"outlinewidth\":0,\"ticks\":\"\"}},\"type\":\"scatter\"}],\"scatter3d\":[{\"line\":{\"colorbar\":{\"outlinewidth\":0,\"ticks\":\"\"}},\"marker\":{\"colorbar\":{\"outlinewidth\":0,\"ticks\":\"\"}},\"type\":\"scatter3d\"}],\"scattercarpet\":[{\"marker\":{\"colorbar\":{\"outlinewidth\":0,\"ticks\":\"\"}},\"type\":\"scattercarpet\"}],\"scattergeo\":[{\"marker\":{\"colorbar\":{\"outlinewidth\":0,\"ticks\":\"\"}},\"type\":\"scattergeo\"}],\"scattergl\":[{\"marker\":{\"colorbar\":{\"outlinewidth\":0,\"ticks\":\"\"}},\"type\":\"scattergl\"}],\"scattermapbox\":[{\"marker\":{\"colorbar\":{\"outlinewidth\":0,\"ticks\":\"\"}},\"type\":\"scattermapbox\"}],\"scatterpolar\":[{\"marker\":{\"colorbar\":{\"outlinewidth\":0,\"ticks\":\"\"}},\"type\":\"scatterpolar\"}],\"scatterpolargl\":[{\"marker\":{\"colorbar\":{\"outlinewidth\":0,\"ticks\":\"\"}},\"type\":\"scatterpolargl\"}],\"scatterternary\":[{\"marker\":{\"colorbar\":{\"outlinewidth\":0,\"ticks\":\"\"}},\"type\":\"scatterternary\"}],\"surface\":[{\"colorbar\":{\"outlinewidth\":0,\"ticks\":\"\"},\"colorscale\":[[0.0,\"#0d0887\"],[0.1111111111111111,\"#46039f\"],[0.2222222222222222,\"#7201a8\"],[0.3333333333333333,\"#9c179e\"],[0.4444444444444444,\"#bd3786\"],[0.5555555555555556,\"#d8576b\"],[0.6666666666666666,\"#ed7953\"],[0.7777777777777778,\"#fb9f3a\"],[0.8888888888888888,\"#fdca26\"],[1.0,\"#f0f921\"]],\"type\":\"surface\"}],\"table\":[{\"cells\":{\"fill\":{\"color\":\"#EBF0F8\"},\"line\":{\"color\":\"white\"}},\"header\":{\"fill\":{\"color\":\"#C8D4E3\"},\"line\":{\"color\":\"white\"}},\"type\":\"table\"}]},\"layout\":{\"annotationdefaults\":{\"arrowcolor\":\"#2a3f5f\",\"arrowhead\":0,\"arrowwidth\":1},\"autotypenumbers\":\"strict\",\"coloraxis\":{\"colorbar\":{\"outlinewidth\":0,\"ticks\":\"\"}},\"colorscale\":{\"diverging\":[[0,\"#8e0152\"],[0.1,\"#c51b7d\"],[0.2,\"#de77ae\"],[0.3,\"#f1b6da\"],[0.4,\"#fde0ef\"],[0.5,\"#f7f7f7\"],[0.6,\"#e6f5d0\"],[0.7,\"#b8e186\"],[0.8,\"#7fbc41\"],[0.9,\"#4d9221\"],[1,\"#276419\"]],\"sequential\":[[0.0,\"#0d0887\"],[0.1111111111111111,\"#46039f\"],[0.2222222222222222,\"#7201a8\"],[0.3333333333333333,\"#9c179e\"],[0.4444444444444444,\"#bd3786\"],[0.5555555555555556,\"#d8576b\"],[0.6666666666666666,\"#ed7953\"],[0.7777777777777778,\"#fb9f3a\"],[0.8888888888888888,\"#fdca26\"],[1.0,\"#f0f921\"]],\"sequentialminus\":[[0.0,\"#0d0887\"],[0.1111111111111111,\"#46039f\"],[0.2222222222222222,\"#7201a8\"],[0.3333333333333333,\"#9c179e\"],[0.4444444444444444,\"#bd3786\"],[0.5555555555555556,\"#d8576b\"],[0.6666666666666666,\"#ed7953\"],[0.7777777777777778,\"#fb9f3a\"],[0.8888888888888888,\"#fdca26\"],[1.0,\"#f0f921\"]]},\"colorway\":[\"#636efa\",\"#EF553B\",\"#00cc96\",\"#ab63fa\",\"#FFA15A\",\"#19d3f3\",\"#FF6692\",\"#B6E880\",\"#FF97FF\",\"#FECB52\"],\"font\":{\"color\":\"#2a3f5f\"},\"geo\":{\"bgcolor\":\"white\",\"lakecolor\":\"white\",\"landcolor\":\"#E5ECF6\",\"showlakes\":true,\"showland\":true,\"subunitcolor\":\"white\"},\"hoverlabel\":{\"align\":\"left\"},\"hovermode\":\"closest\",\"mapbox\":{\"style\":\"light\"},\"paper_bgcolor\":\"white\",\"plot_bgcolor\":\"#E5ECF6\",\"polar\":{\"angularaxis\":{\"gridcolor\":\"white\",\"linecolor\":\"white\",\"ticks\":\"\"},\"bgcolor\":\"#E5ECF6\",\"radialaxis\":{\"gridcolor\":\"white\",\"linecolor\":\"white\",\"ticks\":\"\"}},\"scene\":{\"xaxis\":{\"backgroundcolor\":\"#E5ECF6\",\"gridcolor\":\"white\",\"gridwidth\":2,\"linecolor\":\"white\",\"showbackground\":true,\"ticks\":\"\",\"zerolinecolor\":\"white\"},\"yaxis\":{\"backgroundcolor\":\"#E5ECF6\",\"gridcolor\":\"white\",\"gridwidth\":2,\"linecolor\":\"white\",\"showbackground\":true,\"ticks\":\"\",\"zerolinecolor\":\"white\"},\"zaxis\":{\"backgroundcolor\":\"#E5ECF6\",\"gridcolor\":\"white\",\"gridwidth\":2,\"linecolor\":\"white\",\"showbackground\":true,\"ticks\":\"\",\"zerolinecolor\":\"white\"}},\"shapedefaults\":{\"line\":{\"color\":\"#2a3f5f\"}},\"ternary\":{\"aaxis\":{\"gridcolor\":\"white\",\"linecolor\":\"white\",\"ticks\":\"\"},\"baxis\":{\"gridcolor\":\"white\",\"linecolor\":\"white\",\"ticks\":\"\"},\"bgcolor\":\"#E5ECF6\",\"caxis\":{\"gridcolor\":\"white\",\"linecolor\":\"white\",\"ticks\":\"\"}},\"title\":{\"x\":0.05},\"xaxis\":{\"automargin\":true,\"gridcolor\":\"white\",\"linecolor\":\"white\",\"ticks\":\"\",\"title\":{\"standoff\":15},\"zerolinecolor\":\"white\",\"zerolinewidth\":2},\"yaxis\":{\"automargin\":true,\"gridcolor\":\"white\",\"linecolor\":\"white\",\"ticks\":\"\",\"title\":{\"standoff\":15},\"zerolinecolor\":\"white\",\"zerolinewidth\":2}}},\"xaxis\":{\"anchor\":\"y\",\"domain\":[0.0,1.0],\"matches\":\"x2\",\"showticklabels\":false,\"rangeslider\":{\"visible\":false}},\"yaxis\":{\"anchor\":\"x\",\"domain\":[0.5375,1.0]},\"xaxis2\":{\"anchor\":\"y2\",\"domain\":[0.0,1.0]},\"yaxis2\":{\"anchor\":\"x2\",\"domain\":[0.0,0.4625]},\"annotations\":[{\"font\":{\"size\":16},\"showarrow\":false,\"text\":\"Cotation\",\"x\":0.5,\"xanchor\":\"center\",\"xref\":\"paper\",\"y\":1.0,\"yanchor\":\"bottom\",\"yref\":\"paper\"},{\"font\":{\"size\":16},\"showarrow\":false,\"text\":\"Closing\",\"x\":0.5,\"xanchor\":\"center\",\"xref\":\"paper\",\"y\":0.4625,\"yanchor\":\"bottom\",\"yref\":\"paper\"},{\"font\":{\"size\":14},\"showarrow\":false,\"text\":\"First day of Python Challenge by Data Vikings\",\"x\":1,\"xref\":\"x domain\",\"y\":-1.4,\"yref\":\"y domain\"},{\"font\":{\"size\":14},\"showarrow\":false,\"text\":\"By: Amaryllis2021\",\"x\":0,\"xref\":\"x domain\",\"y\":-1.4,\"yref\":\"y domain\"}],\"title\":{\"text\":\"Advanced Analytics <br>Follow-up AKKA Technologies\"},\"width\":1000,\"height\":800,\"legend\":{\"font\":{\"size\":10},\"orientation\":\"h\",\"yanchor\":\"bottom\",\"y\":1.02,\"xanchor\":\"right\",\"x\":1}},                        {\"responsive\": true}                    ).then(function(){\n",
              "                            \n",
              "var gd = document.getElementById('170477f1-6073-4d77-9ca2-317cc56f78e8');\n",
              "var x = new MutationObserver(function (mutations, observer) {{\n",
              "        var display = window.getComputedStyle(gd).display;\n",
              "        if (!display || display === 'none') {{\n",
              "            console.log([gd, 'removed!']);\n",
              "            Plotly.purge(gd);\n",
              "            observer.disconnect();\n",
              "        }}\n",
              "}});\n",
              "\n",
              "// Listen for the removal of the full notebook cells\n",
              "var notebookContainer = gd.closest('#notebook-container');\n",
              "if (notebookContainer) {{\n",
              "    x.observe(notebookContainer, {childList: true});\n",
              "}}\n",
              "\n",
              "// Listen for the clearing of the current output cell\n",
              "var outputEl = gd.closest('.output');\n",
              "if (outputEl) {{\n",
              "    x.observe(outputEl, {childList: true});\n",
              "}}\n",
              "\n",
              "                        })                };                            </script>        </div>\n",
              "</body>\n",
              "</html>"
            ]
          },
          "metadata": {}
        }
      ]
    },
    {
      "cell_type": "markdown",
      "source": [],
      "metadata": {
        "id": "2PxiXf1aKS5H"
      }
    },
    {
      "cell_type": "markdown",
      "source": [
        "**Exporting the PDF**\n",
        "\n",
        "Kaleido is a cross-platform library for generating static images (e.g. png, svg, pdf, etc.) for web-based visualization libraries, with a particular focus on eliminating external dependencies. The initial focus of the project is to export plotly.js images from Python for use by plotly.py, but it is designed to be relatively straightforward to extend to other web-based visualization libraries and programming languages. The primary focus of Kaleido (at least initially) is to serve as a dependency for web-based visualization libraries, such as plotly.py. As such, the focus is on providing a programmatic API, rather than user-friendly."
      ],
      "metadata": {
        "id": "eWr9WharPjyP"
      }
    },
    {
      "cell_type": "markdown",
      "source": [
        "In order to get the pdf file, we need to reset the server. To reset the runtime in Google Colab Research, you can follow these steps:\n",
        "\n",
        "Click on the \"Runtime\" menu and select \"Restart runtime...\"\n",
        "A confirmation dialog will appear, click on the \"Restart\" button to confirm.\n",
        "This will stop and then start a new instance of the runtime environment, effectively resetting the state of the Colab environment. All variables, files, and installed packages will be lost, so be sure to save any important data before resetting the runtime."
      ],
      "metadata": {
        "id": "WXZJeJziUW4v"
      }
    },
    {
      "cell_type": "code",
      "source": [
        "#Restart the server\n",
        "#Install Kaleido\n",
        "!pip install -U kaleido"
      ],
      "metadata": {
        "colab": {
          "base_uri": "https://localhost:8080/"
        },
        "id": "XJjdIumxQQJh",
        "outputId": "585bfa70-66d5-46ff-803f-99c10a8b2809"
      },
      "execution_count": 16,
      "outputs": [
        {
          "output_type": "stream",
          "name": "stdout",
          "text": [
            "Looking in indexes: https://pypi.org/simple, https://us-python.pkg.dev/colab-wheels/public/simple/\n",
            "Requirement already satisfied: kaleido in /usr/local/lib/python3.8/dist-packages (0.2.1)\n"
          ]
        }
      ]
    },
    {
      "cell_type": "code",
      "source": [
        "Figure.write_image('Report.pdf')"
      ],
      "metadata": {
        "id": "X90uGqclQ1ly"
      },
      "execution_count": 17,
      "outputs": []
    }
  ]
}